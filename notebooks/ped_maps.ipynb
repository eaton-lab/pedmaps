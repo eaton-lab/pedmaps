{
 "cells": [
  {
   "cell_type": "markdown",
   "metadata": {},
   "source": [
    "## Search the Hengduan Database \n",
    "We hope to find many species for which collections are available from multiple disjunct regions sampled between 1997-2004. "
   ]
  },
  {
   "cell_type": "code",
   "execution_count": 4,
   "metadata": {},
   "outputs": [],
   "source": [
    "#conda install pandas\n",
    "#conda install beautifulsoup4\n",
    "#pip install folium"
   ]
  },
  {
   "cell_type": "code",
   "execution_count": 11,
   "metadata": {},
   "outputs": [],
   "source": [
    "from concurrent.futures import ThreadPoolExecutor\n",
    "import requests\n",
    "import pandas as pd\n",
    "from bs4 import BeautifulSoup\n",
    "import folium\n",
    "import time"
   ]
  },
  {
   "cell_type": "markdown",
   "metadata": {},
   "source": [
    "### The Hengduan API structure"
   ]
  },
  {
   "cell_type": "code",
   "execution_count": 12,
   "metadata": {},
   "outputs": [],
   "source": [
    "# specimen search page\n",
    "# http://hengduan.huh.harvard.edu/fieldnotes/specimens/search/search.zpt?\n",
    "#    dna_collection=on&\n",
    "#    st=pedicularis&\n",
    "#    action=search&\n",
    "#    submit_button=Search"
   ]
  },
  {
   "cell_type": "code",
   "execution_count": 13,
   "metadata": {},
   "outputs": [],
   "source": [
    "# individual specimen page\n",
    "# http://hengduan.huh.harvard.edu/fieldnotes/specimens/search/specimen_detail.zpt?\n",
    "#    specimen_id=718"
   ]
  },
  {
   "cell_type": "markdown",
   "metadata": {},
   "source": [
    "### A class object to search and parse Hengduan data"
   ]
  },
  {
   "cell_type": "code",
   "execution_count": 14,
   "metadata": {},
   "outputs": [],
   "source": [
    "class Hengduan:\n",
    "    \"Search the Hengduan database and return a dataframe\"\n",
    "    \n",
    "    def __init__(self, taxon, dna=True,):\n",
    "        # class globals\n",
    "        baseurl = \"http://hengduan.huh.harvard.edu/fieldnotes/\"\n",
    "        self.search_url = baseurl + \"specimens/search/search.zpt\"\n",
    "        self.specimen_url = baseurl + \"specimens/search/specimen_detail.zpt\"\n",
    "        \n",
    "        # class attrs\n",
    "        self.taxon = taxon\n",
    "        self.dna = [\"on\" if True else \"off\"][0]\n",
    "        self.data = None\n",
    "        \n",
    "        # do search and fill database\n",
    "        if self._get_search_data():\n",
    "            self._fill_data_coords()\n",
    "        \n",
    "        \n",
    "    def _search_request(self):\n",
    "        # slow it down by waiting one second\n",
    "        time.sleep(1)\n",
    "        res = requests.get(\n",
    "            url=self.search_url,\n",
    "            params={\n",
    "                \"dna_collection\": self.dna, \n",
    "                \"st\": self.taxon,\n",
    "                \"action\": \"search\", \n",
    "                \"submit_button\": \"Search\",\n",
    "            }\n",
    "        )\n",
    "        res.raise_for_status()\n",
    "        return BeautifulSoup(res.text, \"html5lib\")\n",
    "       \n",
    "        \n",
    "    def _get_search_data(self):\n",
    "        soup = self._search_request()\n",
    "        table = soup.find('table', attrs={\"class\": \"listing\", \"id\": \"angio_table\"})\n",
    "        if table:\n",
    "            headers = [header.text for header in table.find_all('th')]\n",
    "        # if no record then return 0\n",
    "        else:\n",
    "            return 0\n",
    "        \n",
    "        headers.extend([\"specimen-id\"])\n",
    "        rows = []\n",
    "        for row in table.find_all('tr')[1:]:\n",
    "            tds = row.find_all('td')\n",
    "            row = [val.text.strip() for val in tds]\n",
    "            tmp = [i.a for i in tds][2]\n",
    "            spid = (tmp.attrs['href'].split(\"=\")[-1])\n",
    "            row.extend([spid])\n",
    "            rows.append(row)\n",
    "        self.data = pd.DataFrame(\n",
    "            rows, \n",
    "            columns=[\"family\", \"taxon\", \"cid\", \"cdate\", \"\", \"sid\"]\n",
    "        )\n",
    "        self.data['year'] = (\n",
    "            self.data[\"cdate\"]\n",
    "             .apply(str.split)\n",
    "             .apply(lambda x: x[-1])\n",
    "            )\n",
    "        self.data = self.data.drop([\"cdate\", \"\"], axis=1)\n",
    "        # add shortname ref\n",
    "        self.data[\"shortname\"] = (\n",
    "            self.data\n",
    "            .taxon\n",
    "            .apply(str.split)\n",
    "            .apply(\"-\".join)\n",
    "        )\n",
    "        # on success return 1\n",
    "        return 1\n",
    "        \n",
    "    def _specimen_request(self, spid):\n",
    "        res = requests.get(\n",
    "            url=self.specimen_url,\n",
    "            params={\n",
    "                \"specimen_id\": spid,\n",
    "            }\n",
    "        )\n",
    "        res.raise_for_status()\n",
    "        return BeautifulSoup(res.text, \"html5lib\")\n",
    "\n",
    "        \n",
    "    def _get_coordinates(self, specid):\n",
    "        soup = self._specimen_request(specid)\n",
    "        textlocs = soup.find(id=\"locality\")\n",
    "        text = textlocs.find_all(\"td\")[1].text.split(\"\\n\")\n",
    "        descr = \" \".join([i.strip() for i in text][1:4])\n",
    "        tmp0, tmp1 = text[-3].strip().split(\"°\")\n",
    "        tmp0, tmp1\n",
    "        tmp1, tmp2 = tmp1.split(\"\\'\")\n",
    "        tmp2 = tmp2.lstrip(\";\").rstrip(\";\").replace('\"', '')\n",
    "        point = \"-\".join([tmp0, tmp1, tmp2])\n",
    "        eastwest = self._convert_gps(point)\n",
    "\n",
    "        tmp0, tmp1 = text[-4].strip().split(\"°\")\n",
    "        tmp1, tmp2 = tmp1.split(\"\\'\")\n",
    "        tmp2 = tmp2.lstrip(\";\").rstrip(\",\").replace('\"', '')\n",
    "        point = \"-\".join([tmp0, tmp1, tmp2])\n",
    "        northsouth = self._convert_gps(point)\n",
    "        return (northsouth, eastwest)\n",
    "\n",
    "        \n",
    "    @staticmethod\n",
    "    def _convert_gps(tude):\n",
    "        multiplier = 1 if tude[-1] in ['N', 'E'] else -1\n",
    "        return multiplier * sum(float(x) / 60 ** n for n, x in enumerate(tude[:-1].split('-')))  \n",
    "    \n",
    "    \n",
    "    def _fill_data_coords(self):\n",
    "        with ThreadPoolExecutor(max_workers=4) as executor:\n",
    "            jobs = [executor.submit(\n",
    "                self._get_coordinates, specid) for specid in self.data.sid]\n",
    "            res = [i.result() for i in jobs]\n",
    "        \n",
    "        self.data['latitude'] = [i[0] for i in res]\n",
    "        self.data['longitude'] = [i[1] for i in res]\n",
    "        \n",
    "        \n",
    "    def count_by_maxyear(self, year):\n",
    "        try:\n",
    "            return (\n",
    "             self.data[self.data.year.astype(int) <= year]\n",
    "             .sort_values(by=[\"year\", \"shortname\"])\n",
    "             .groupby('shortname')\n",
    "             .apply(len)\n",
    "             .sort_values(ascending=False)\n",
    "            )\n",
    "        except TypeError:\n",
    "            return None\n",
    "        \n",
    "            \n",
    "    def filter_by_max_year(self, year):\n",
    "        try:\n",
    "            return (\n",
    "             self.data[self.data.year.astype(int) <= year]\n",
    "             .sort_values(by=[\"year\", \"shortname\"])\n",
    "            )\n",
    "        except TypeError:\n",
    "            return None\n"
   ]
  },
  {
   "cell_type": "markdown",
   "metadata": {},
   "source": [
    "### Example usage"
   ]
  },
  {
   "cell_type": "code",
   "execution_count": 15,
   "metadata": {},
   "outputs": [],
   "source": [
    "# get dataframe\n",
    "coll = Hengduan(taxon=\"Ped cranolopha\", dna=True)"
   ]
  },
  {
   "cell_type": "code",
   "execution_count": 16,
   "metadata": {},
   "outputs": [
    {
     "data": {
      "text/html": [
       "<div>\n",
       "<style scoped>\n",
       "    .dataframe tbody tr th:only-of-type {\n",
       "        vertical-align: middle;\n",
       "    }\n",
       "\n",
       "    .dataframe tbody tr th {\n",
       "        vertical-align: top;\n",
       "    }\n",
       "\n",
       "    .dataframe thead th {\n",
       "        text-align: right;\n",
       "    }\n",
       "</style>\n",
       "<table border=\"1\" class=\"dataframe\">\n",
       "  <thead>\n",
       "    <tr style=\"text-align: right;\">\n",
       "      <th></th>\n",
       "      <th>family</th>\n",
       "      <th>taxon</th>\n",
       "      <th>cid</th>\n",
       "      <th>sid</th>\n",
       "      <th>year</th>\n",
       "      <th>shortname</th>\n",
       "      <th>latitude</th>\n",
       "      <th>longitude</th>\n",
       "    </tr>\n",
       "  </thead>\n",
       "  <tbody>\n",
       "    <tr>\n",
       "      <th>0</th>\n",
       "      <td>Orobanchaceae</td>\n",
       "      <td>Pedicularis\\n                cranolopha</td>\n",
       "      <td>27709</td>\n",
       "      <td>595</td>\n",
       "      <td>1997</td>\n",
       "      <td>Pedicularis-cranolopha</td>\n",
       "      <td>30.850278</td>\n",
       "      <td>101.276667</td>\n",
       "    </tr>\n",
       "    <tr>\n",
       "      <th>1</th>\n",
       "      <td>Orobanchaceae</td>\n",
       "      <td>Pedicularis\\n                cranolopha</td>\n",
       "      <td>27821</td>\n",
       "      <td>707</td>\n",
       "      <td>1997</td>\n",
       "      <td>Pedicularis-cranolopha</td>\n",
       "      <td>31.660000</td>\n",
       "      <td>100.712778</td>\n",
       "    </tr>\n",
       "    <tr>\n",
       "      <th>2</th>\n",
       "      <td>Orobanchaceae</td>\n",
       "      <td>Pedicularis\\n                cranolopha</td>\n",
       "      <td>28522</td>\n",
       "      <td>1413</td>\n",
       "      <td>1998</td>\n",
       "      <td>Pedicularis-cranolopha</td>\n",
       "      <td>29.141111</td>\n",
       "      <td>99.928333</td>\n",
       "    </tr>\n",
       "    <tr>\n",
       "      <th>3</th>\n",
       "      <td>Orobanchaceae</td>\n",
       "      <td>Pedicularis\\n                cranolopha</td>\n",
       "      <td>28746</td>\n",
       "      <td>1640</td>\n",
       "      <td>1998</td>\n",
       "      <td>Pedicularis-cranolopha</td>\n",
       "      <td>29.103056</td>\n",
       "      <td>99.631944</td>\n",
       "    </tr>\n",
       "  </tbody>\n",
       "</table>\n",
       "</div>"
      ],
      "text/plain": [
       "          family                                    taxon    cid   sid  year  \\\n",
       "0  Orobanchaceae  Pedicularis\\n                cranolopha  27709   595  1997   \n",
       "1  Orobanchaceae  Pedicularis\\n                cranolopha  27821   707  1997   \n",
       "2  Orobanchaceae  Pedicularis\\n                cranolopha  28522  1413  1998   \n",
       "3  Orobanchaceae  Pedicularis\\n                cranolopha  28746  1640  1998   \n",
       "\n",
       "                shortname   latitude   longitude  \n",
       "0  Pedicularis-cranolopha  30.850278  101.276667  \n",
       "1  Pedicularis-cranolopha  31.660000  100.712778  \n",
       "2  Pedicularis-cranolopha  29.141111   99.928333  \n",
       "3  Pedicularis-cranolopha  29.103056   99.631944  "
      ]
     },
     "execution_count": 16,
     "metadata": {},
     "output_type": "execute_result"
    }
   ],
   "source": [
    "# see first N records\n",
    "coll.filter_by_max_year(1998)"
   ]
  },
  {
   "cell_type": "markdown",
   "metadata": {},
   "source": [
    "# MAP"
   ]
  },
  {
   "cell_type": "markdown",
   "metadata": {},
   "source": [
    "### A class object to map lat long data"
   ]
  },
  {
   "cell_type": "code",
   "execution_count": 17,
   "metadata": {},
   "outputs": [
    {
     "data": {
      "text/plain": [
       "(11.509995655950528, 3.3941125496954276)"
      ]
     },
     "execution_count": 17,
     "metadata": {},
     "output_type": "execute_result"
    }
   ],
   "source": [
    "# make size a function of year\n",
    "y = 2018\n",
    "x = 1997\n",
    "import numpy as np\n",
    "\n",
    "def yearsize(x):\n",
    "    diff = x - 1995\n",
    "    ndiff = 1 - (diff / 25)\n",
    "    return 12 * np.sqrt(ndiff)\n",
    "    \n",
    "    \n",
    "yearsize(x), yearsize(y)"
   ]
  },
  {
   "cell_type": "code",
   "execution_count": 18,
   "metadata": {},
   "outputs": [],
   "source": [
    "class Map:\n",
    "    def __init__(self, hlocs=None, nlocs=None, height=None, width=None):\n",
    "                 #color=None):\n",
    "        \n",
    "        # store attributes\n",
    "        self.nlocs = nlocs\n",
    "        self.hlocs = hlocs\n",
    "        self.alldata = pd.concat([self.nlocs, self.hlocs], sort=False)\n",
    "        #self.color = color\n",
    "        \n",
    "        # create map with zoom x and location y\n",
    "        if not width:\n",
    "            width = 450\n",
    "        if not height:\n",
    "            height = width\n",
    "        \n",
    "        self.map = folium.Map(\n",
    "            location=[30.3849, 101.0083],\n",
    "            zoom_start=6.5,\n",
    "            #location=[self.alldata.latitude.mean(), self.alldata.longitude.mean()],\n",
    "            tiles='Stamen Terrain'\n",
    "        )\n",
    "\n",
    "        # add points\n",
    "        if isinstance(nlocs, pd.DataFrame):\n",
    "            self.add_nlocs()\n",
    "        if isinstance(hlocs, pd.DataFrame):\n",
    "            self.add_hlocs()\n",
    "            \n",
    "    def draw(self):\n",
    "        # fit bounds of map to show all points\n",
    "        latlongtuples = [\n",
    "            self.alldata[[\"latitude\", \"longitude\"]].iloc[i].tolist() for i in self.alldata.index\n",
    "        ]\n",
    "        #self.map.fit_bounds(latlongtuples)\n",
    "        return self.map\n",
    "       \n",
    "    def add_nlocs(self):\n",
    "        for idx in self.nlocs.index:\n",
    "            lat, long = self.nlocs.iloc[idx].latitude, self.nlocs.iloc[idx].longitude\n",
    "            folium.CircleMarker(\n",
    "                location=[lat, long],\n",
    "                color='rgba(85.1%,37.3%,0.8%,1.000)',\n",
    "                #color= self.color,\n",
    "                fill=True,\n",
    "                fill_color='rgba(85.1%,37.3%,0.8%,1.000)',\n",
    "                #fill_color=self.color,\n",
    "                radius= 5, #2 * (1 - (self.nlocs.iloc[idx].year.astype(int) / 2018)),\n",
    "                popup=\" | \".join(self.nlocs.iloc[idx][[\"shortname\", \"cid\", \"year\"]].tolist()),\n",
    "                #icon=folium.Icon(color=\"blue\", icon=\"circle\", prefix=\"fa\"),\n",
    "            ).add_to(self.map)\n",
    " \n",
    "    def add_hlocs(self):\n",
    "        for idx in self.hlocs.index:\n",
    "            lat, long = self.hlocs.iloc[idx].latitude, self.hlocs.iloc[idx].longitude\n",
    "            folium.CircleMarker(\n",
    "                location=[lat, long],\n",
    "                color='rgba(45.9%,43.9%,70.2%,1.000)',\n",
    "                #color= self.color,\n",
    "                fill=True,\n",
    "                fill_color='rgba(45.9%,43.9%,70.2%,1.000)',\n",
    "                #fill_color= self.color,\n",
    "                radius=yearsize(int(self.hlocs.iloc[idx].year)),\n",
    "                popup=\" | \".join(self.hlocs.iloc[idx][[\"shortname\", \"cid\", \"year\"]].tolist()),\n",
    "                #icon=folium.Icon(color=\"red\", icon=\"circle\", prefix=\"fa\",\n",
    "            ).add_to(self.map)\n",
    " "
   ]
  },
  {
   "cell_type": "code",
   "execution_count": 19,
   "metadata": {},
   "outputs": [
    {
     "data": {
      "text/plain": [
       "'rgba(45.9%,43.9%,70.2%,1.000)'"
      ]
     },
     "execution_count": 19,
     "metadata": {},
     "output_type": "execute_result"
    }
   ],
   "source": [
    "import toyplot\n",
    "\n",
    "a = toyplot.color.brewer.palette(\"Dark2\")\n",
    "toyplot.color.to_css(a[2])"
   ]
  },
  {
   "cell_type": "code",
   "execution_count": 21,
   "metadata": {
    "scrolled": false
   },
   "outputs": [
    {
     "data": {
      "text/html": [
       "<div style=\"width:100%;\"><div style=\"position:relative;width:100%;height:0;padding-bottom:60%;\"><iframe src=\"data:text/html;charset=utf-8;base64,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\" style=\"position:absolute;width:100%;height:100%;left:0;top:0;border:none !important;\" allowfullscreen webkitallowfullscreen mozallowfullscreen></iframe></div></div>"
      ],
      "text/plain": [
       "<folium.folium.Map at 0x1197352e8>"
      ]
     },
     "execution_count": 21,
     "metadata": {},
     "output_type": "execute_result"
    }
   ],
   "source": [
    "# draw historical (red) and newer collections (blue) (I think the colors are\n",
    "#wrong here, so figure this out later...)\n",
    "m = Map(hlocs=coll.filter_by_max_year(1998), nlocs=coll.data).draw()\n",
    "m.add_child(folium.LatLngPopup())\n",
    "#m.save(\"\")"
   ]
  },
  {
   "cell_type": "code",
   "execution_count": 98,
   "metadata": {},
   "outputs": [],
   "source": [
    "co = Hengduan(\"ped rhinanth\", True)\n",
    "# draw historical (red) and newer collections (blue)\n",
    "m = Map(hlocs=co.filter_by_max_year(1997), nlocs=co.data)\n",
    "m.draw()\n",
    "m.map.save(outfile=\"../example.html\")"
   ]
  },
  {
   "cell_type": "markdown",
   "metadata": {},
   "source": [
    "### Load our 2018-19 collections into a DataFrame"
   ]
  },
  {
   "cell_type": "code",
   "execution_count": 22,
   "metadata": {},
   "outputs": [],
   "source": [
    "class New:\n",
    "    def __init__(self, df):\n",
    "        self._load_2018_dataframe(df)\n",
    "        \n",
    "    def subset(self, taxon):\n",
    "        return self.data[self.data.shortname.apply(lambda x: taxon in x)].reset_index()\n",
    "\n",
    "    def _load_2018_dataframe(self, df):\n",
    "        # load Data\n",
    "        data = pd.read_csv(df)\n",
    "\n",
    "        # drop unidentified\n",
    "        data = data[data.species_epithet.notna()]\n",
    "\n",
    "        # select just the columns we want\n",
    "        data = data[[\"accession\", \"locality\", \"date\", \"latitude\", \"longitude\", \"genus\", \"species_epithet\"]]\n",
    "        data[\"shortname\"] = data[[\"genus\", \"species_epithet\"]].apply(lambda x: '-'.join(x), axis=1)\n",
    "\n",
    "        # convert lat longs to decimals\n",
    "        def convert_gps(tude):\n",
    "            deg, _ = tude.split(\"°\")\n",
    "            minu, _ = _.split(\"'\")\n",
    "            seco = _.split('\"')[0]\n",
    "            tude = \"-\".join([deg, minu, seco])\n",
    "            return sum(float(x) / 60 ** n for n, x in enumerate(tude.split('-')))  \n",
    "\n",
    "        data[\"lat\"] = data.latitude.apply(convert_gps)\n",
    "        data[\"long\"] = data.longitude.apply(convert_gps)\n",
    "        data.head()\n",
    "\n",
    "        data[\"year\"] = data.date.apply(lambda x: x.split(\"/\")[-1])\n",
    "        data[\"cid\"] = data[\"accession\"]\n",
    "\n",
    "        # convert label names to match with Hengduan object\n",
    "        data = data.drop(columns=[\"latitude\", \"longitude\", \"genus\", \"species_epithet\", \"date\", \"accession\"])\n",
    "        data = data.rename({\"lat\": \"latitude\", \"long\": \"longitude\", \"locality\": \"sid\"}, axis='columns')\n",
    "        self.data = data"
   ]
  },
  {
   "cell_type": "code",
   "execution_count": 23,
   "metadata": {},
   "outputs": [],
   "source": [
    "# create an instance to hold all the 2018-19 data\n",
    "newdata = New(\"/Users/jaredmeek/Desktop/hengduan/fieldnotes/Fieldnotes_Master.csv\")"
   ]
  },
  {
   "cell_type": "code",
   "execution_count": 9,
   "metadata": {},
   "outputs": [],
   "source": [
    "# trace csv reading error if it ever happens...\n",
    "#df = pd.read_csv(\n",
    "    #\"/Users/jaredmeek/Desktop/hengduan/fieldnotes/Fieldnotes_Master.csv\")\n",
    "#def func(tude):\n",
    "    #deg, _ = tude.split(\"°\")\n",
    "    #minu, _ = _.split(\"'\")\n",
    "    #seco = _.split('\"')[0]\n",
    "#for idx in range(999):\n",
    "    #try:\n",
    "        #func(df.latitude[idx])\n",
    "    #except ValueError:\n",
    "        #print(df.iloc[idx])\n",
    "        #print(idx)"
   ]
  },
  {
   "cell_type": "code",
   "execution_count": 24,
   "metadata": {},
   "outputs": [
    {
     "data": {
      "text/html": [
       "<div>\n",
       "<style scoped>\n",
       "    .dataframe tbody tr th:only-of-type {\n",
       "        vertical-align: middle;\n",
       "    }\n",
       "\n",
       "    .dataframe tbody tr th {\n",
       "        vertical-align: top;\n",
       "    }\n",
       "\n",
       "    .dataframe thead th {\n",
       "        text-align: right;\n",
       "    }\n",
       "</style>\n",
       "<table border=\"1\" class=\"dataframe\">\n",
       "  <thead>\n",
       "    <tr style=\"text-align: right;\">\n",
       "      <th></th>\n",
       "      <th>index</th>\n",
       "      <th>sid</th>\n",
       "      <th>shortname</th>\n",
       "      <th>latitude</th>\n",
       "      <th>longitude</th>\n",
       "      <th>year</th>\n",
       "      <th>cid</th>\n",
       "    </tr>\n",
       "  </thead>\n",
       "  <tbody>\n",
       "    <tr>\n",
       "      <th>0</th>\n",
       "      <td>3</td>\n",
       "      <td>2.0</td>\n",
       "      <td>Pedicularis-longiflora</td>\n",
       "      <td>27.959194</td>\n",
       "      <td>99.707167</td>\n",
       "      <td>2018</td>\n",
       "      <td>DE4</td>\n",
       "    </tr>\n",
       "    <tr>\n",
       "      <th>1</th>\n",
       "      <td>53</td>\n",
       "      <td>14.0</td>\n",
       "      <td>Pedicularis-longiflora</td>\n",
       "      <td>29.144722</td>\n",
       "      <td>100.034778</td>\n",
       "      <td>2018</td>\n",
       "      <td>DE54</td>\n",
       "    </tr>\n",
       "    <tr>\n",
       "      <th>2</th>\n",
       "      <td>60</td>\n",
       "      <td>16.0</td>\n",
       "      <td>Pedicularis-longiflora</td>\n",
       "      <td>29.334861</td>\n",
       "      <td>100.099417</td>\n",
       "      <td>2018</td>\n",
       "      <td>DE61</td>\n",
       "    </tr>\n",
       "    <tr>\n",
       "      <th>3</th>\n",
       "      <td>131</td>\n",
       "      <td>31.0</td>\n",
       "      <td>Pedicularis-longiflora</td>\n",
       "      <td>30.419167</td>\n",
       "      <td>101.548056</td>\n",
       "      <td>2018</td>\n",
       "      <td>DE132</td>\n",
       "    </tr>\n",
       "    <tr>\n",
       "      <th>4</th>\n",
       "      <td>140</td>\n",
       "      <td>33.0</td>\n",
       "      <td>Pedicularis-longiflora</td>\n",
       "      <td>30.577028</td>\n",
       "      <td>101.417972</td>\n",
       "      <td>2018</td>\n",
       "      <td>DE141</td>\n",
       "    </tr>\n",
       "  </tbody>\n",
       "</table>\n",
       "</div>"
      ],
      "text/plain": [
       "   index   sid               shortname   latitude   longitude  year    cid\n",
       "0      3   2.0  Pedicularis-longiflora  27.959194   99.707167  2018    DE4\n",
       "1     53  14.0  Pedicularis-longiflora  29.144722  100.034778  2018   DE54\n",
       "2     60  16.0  Pedicularis-longiflora  29.334861  100.099417  2018   DE61\n",
       "3    131  31.0  Pedicularis-longiflora  30.419167  101.548056  2018  DE132\n",
       "4    140  33.0  Pedicularis-longiflora  30.577028  101.417972  2018  DE141"
      ]
     },
     "execution_count": 24,
     "metadata": {},
     "output_type": "execute_result"
    }
   ],
   "source": [
    "# get a subset data set for a specific taxon\n",
    "newdata.subset(\"longiflora\").head()"
   ]
  },
  {
   "cell_type": "markdown",
   "metadata": {},
   "source": [
    "## Phylogeography"
   ]
  },
  {
   "cell_type": "code",
   "execution_count": 9,
   "metadata": {},
   "outputs": [
    {
     "ename": "TypeError",
     "evalue": "cannot concatenate object of type \"<class '__main__.Hengduan'>\"; only pd.Series, pd.DataFrame, and pd.Panel (deprecated) objs are valid",
     "output_type": "error",
     "traceback": [
      "\u001b[0;31m---------------------------------------------------------------------------\u001b[0m",
      "\u001b[0;31mTypeError\u001b[0m                                 Traceback (most recent call last)",
      "\u001b[0;32m<ipython-input-9-f3c9d692e80d>\u001b[0m in \u001b[0;36m<module>\u001b[0;34m()\u001b[0m\n\u001b[1;32m      3\u001b[0m     \u001b[0;31m#height=\"40%\",\u001b[0m\u001b[0;34m\u001b[0m\u001b[0;34m\u001b[0m\u001b[0;34m\u001b[0m\u001b[0m\n\u001b[1;32m      4\u001b[0m     \u001b[0mnlocs\u001b[0m\u001b[0;34m=\u001b[0m\u001b[0mnewdata\u001b[0m\u001b[0;34m.\u001b[0m\u001b[0msubset\u001b[0m\u001b[0;34m(\u001b[0m\u001b[0;34m\"cranolopha\"\u001b[0m\u001b[0;34m)\u001b[0m\u001b[0;34m,\u001b[0m\u001b[0;34m\u001b[0m\u001b[0;34m\u001b[0m\u001b[0m\n\u001b[0;32m----> 5\u001b[0;31m     \u001b[0mhlocs\u001b[0m\u001b[0;34m=\u001b[0m\u001b[0mHengduan\u001b[0m\u001b[0;34m(\u001b[0m\u001b[0;34m\"Ped cranolopha\"\u001b[0m\u001b[0;34m,\u001b[0m \u001b[0;32mTrue\u001b[0m\u001b[0;34m)\u001b[0m\u001b[0;34m,\u001b[0m\u001b[0;34m\u001b[0m\u001b[0;34m\u001b[0m\u001b[0m\n\u001b[0m\u001b[1;32m      6\u001b[0m ).draw()\n\u001b[1;32m      7\u001b[0m \u001b[0;34m\u001b[0m\u001b[0m\n",
      "\u001b[0;32m<ipython-input-4-a94e897d630d>\u001b[0m in \u001b[0;36m__init__\u001b[0;34m(self, hlocs, nlocs, height, width)\u001b[0m\n\u001b[1;32m      6\u001b[0m         \u001b[0mself\u001b[0m\u001b[0;34m.\u001b[0m\u001b[0mnlocs\u001b[0m \u001b[0;34m=\u001b[0m \u001b[0mnlocs\u001b[0m\u001b[0;34m\u001b[0m\u001b[0;34m\u001b[0m\u001b[0m\n\u001b[1;32m      7\u001b[0m         \u001b[0mself\u001b[0m\u001b[0;34m.\u001b[0m\u001b[0mhlocs\u001b[0m \u001b[0;34m=\u001b[0m \u001b[0mhlocs\u001b[0m\u001b[0;34m\u001b[0m\u001b[0;34m\u001b[0m\u001b[0m\n\u001b[0;32m----> 8\u001b[0;31m         \u001b[0mself\u001b[0m\u001b[0;34m.\u001b[0m\u001b[0malldata\u001b[0m \u001b[0;34m=\u001b[0m \u001b[0mpd\u001b[0m\u001b[0;34m.\u001b[0m\u001b[0mconcat\u001b[0m\u001b[0;34m(\u001b[0m\u001b[0;34m[\u001b[0m\u001b[0mself\u001b[0m\u001b[0;34m.\u001b[0m\u001b[0mnlocs\u001b[0m\u001b[0;34m,\u001b[0m \u001b[0mself\u001b[0m\u001b[0;34m.\u001b[0m\u001b[0mhlocs\u001b[0m\u001b[0;34m]\u001b[0m\u001b[0;34m,\u001b[0m \u001b[0msort\u001b[0m\u001b[0;34m=\u001b[0m\u001b[0;32mFalse\u001b[0m\u001b[0;34m)\u001b[0m\u001b[0;34m\u001b[0m\u001b[0;34m\u001b[0m\u001b[0m\n\u001b[0m\u001b[1;32m      9\u001b[0m         \u001b[0;31m#self.color = color\u001b[0m\u001b[0;34m\u001b[0m\u001b[0;34m\u001b[0m\u001b[0;34m\u001b[0m\u001b[0m\n\u001b[1;32m     10\u001b[0m \u001b[0;34m\u001b[0m\u001b[0m\n",
      "\u001b[0;32m~/miniconda3/lib/python3.6/site-packages/pandas/core/reshape/concat.py\u001b[0m in \u001b[0;36mconcat\u001b[0;34m(objs, axis, join, join_axes, ignore_index, keys, levels, names, verify_integrity, sort, copy)\u001b[0m\n\u001b[1;32m    226\u001b[0m                        \u001b[0mkeys\u001b[0m\u001b[0;34m=\u001b[0m\u001b[0mkeys\u001b[0m\u001b[0;34m,\u001b[0m \u001b[0mlevels\u001b[0m\u001b[0;34m=\u001b[0m\u001b[0mlevels\u001b[0m\u001b[0;34m,\u001b[0m \u001b[0mnames\u001b[0m\u001b[0;34m=\u001b[0m\u001b[0mnames\u001b[0m\u001b[0;34m,\u001b[0m\u001b[0;34m\u001b[0m\u001b[0;34m\u001b[0m\u001b[0m\n\u001b[1;32m    227\u001b[0m                        \u001b[0mverify_integrity\u001b[0m\u001b[0;34m=\u001b[0m\u001b[0mverify_integrity\u001b[0m\u001b[0;34m,\u001b[0m\u001b[0;34m\u001b[0m\u001b[0;34m\u001b[0m\u001b[0m\n\u001b[0;32m--> 228\u001b[0;31m                        copy=copy, sort=sort)\n\u001b[0m\u001b[1;32m    229\u001b[0m     \u001b[0;32mreturn\u001b[0m \u001b[0mop\u001b[0m\u001b[0;34m.\u001b[0m\u001b[0mget_result\u001b[0m\u001b[0;34m(\u001b[0m\u001b[0;34m)\u001b[0m\u001b[0;34m\u001b[0m\u001b[0;34m\u001b[0m\u001b[0m\n\u001b[1;32m    230\u001b[0m \u001b[0;34m\u001b[0m\u001b[0m\n",
      "\u001b[0;32m~/miniconda3/lib/python3.6/site-packages/pandas/core/reshape/concat.py\u001b[0m in \u001b[0;36m__init__\u001b[0;34m(self, objs, axis, join, join_axes, keys, levels, names, ignore_index, verify_integrity, copy, sort)\u001b[0m\n\u001b[1;32m    287\u001b[0m                        \u001b[0;34m' only pd.Series, pd.DataFrame, and pd.Panel'\u001b[0m\u001b[0;34m\u001b[0m\u001b[0;34m\u001b[0m\u001b[0m\n\u001b[1;32m    288\u001b[0m                        ' (deprecated) objs are valid'.format(type(obj)))\n\u001b[0;32m--> 289\u001b[0;31m                 \u001b[0;32mraise\u001b[0m \u001b[0mTypeError\u001b[0m\u001b[0;34m(\u001b[0m\u001b[0mmsg\u001b[0m\u001b[0;34m)\u001b[0m\u001b[0;34m\u001b[0m\u001b[0;34m\u001b[0m\u001b[0m\n\u001b[0m\u001b[1;32m    290\u001b[0m \u001b[0;34m\u001b[0m\u001b[0m\n\u001b[1;32m    291\u001b[0m             \u001b[0;31m# consolidate\u001b[0m\u001b[0;34m\u001b[0m\u001b[0;34m\u001b[0m\u001b[0;34m\u001b[0m\u001b[0m\n",
      "\u001b[0;31mTypeError\u001b[0m: cannot concatenate object of type \"<class '__main__.Hengduan'>\"; only pd.Series, pd.DataFrame, and pd.Panel (deprecated) objs are valid"
     ]
    }
   ],
   "source": [
    "crano = Map(\n",
    "    #width=\"50%\", \n",
    "    #height=\"40%\",\n",
    "    nlocs=newdata.subset(\"cranolopha\"),\n",
    "    hlocs=Hengduan(\"Ped cranolopha\", True),\n",
    ").draw()\n",
    "\n",
    "crano.save(\"/Users/jaredmeek/Desktop/hengduan/maps/pedmaps_python/cranolopha.html\")"
   ]
  },
  {
   "cell_type": "code",
   "execution_count": null,
   "metadata": {},
   "outputs": [],
   "source": [
    "integ = Map(\n",
    "    #width=\"50%\", \n",
    "    #height=\"40%\",\n",
    "    nlocs=newdata.subset(\"integrifolia\"),\n",
    "    hlocs=Hengduan(\"Ped integrifolia\", True),\n",
    ").draw()\n",
    "\n",
    "integ.save(\"/Users/jaredmeek/Desktop/hengduan/maps/pedmaps_python/integrifolia.html\")"
   ]
  },
  {
   "cell_type": "code",
   "execution_count": null,
   "metadata": {},
   "outputs": [],
   "source": [
    "kansu = Map(\n",
    "    #width=\"50%\", \n",
    "    #height=\"40%\",\n",
    "    nlocs=newdata.subset(\"kansuensis\"),\n",
    "    hlocs=Hengduan(\"Ped kansuensis\", True),\n",
    ").draw()\n",
    "\n",
    "kansu.save(\"/Users/jaredmeek/Desktop/hengduan/maps/pedmaps_python/kansuensis.html\")"
   ]
  },
  {
   "cell_type": "code",
   "execution_count": null,
   "metadata": {},
   "outputs": [],
   "source": [
    "lachno = Map(\n",
    "    #width=\"50%\", \n",
    "    #height=\"40%\",\n",
    "    nlocs=newdata.subset(\"lachnoglossa\"),\n",
    "    hlocs=Hengduan(\"Ped lachnoglossa\", True),\n",
    ").draw()\n",
    "\n",
    "lachno.save(\"/Users/jaredmeek/Desktop/hengduan/maps/pedmaps_python/lachnoglossa.html\")"
   ]
  },
  {
   "cell_type": "code",
   "execution_count": null,
   "metadata": {},
   "outputs": [],
   "source": [
    "longi = Map(\n",
    "    #width=\"50%\", \n",
    "    #height=\"40%\",\n",
    "    nlocs=newdata.subset(\"longiflora\"),\n",
    "    hlocs=Hengduan(\"Ped longiflora\", True),\n",
    ").draw()\n",
    "\n",
    "longi.save(\"/Users/jaredmeek/Desktop/hengduan/maps/pedmaps_python/longiflora.html\")"
   ]
  },
  {
   "cell_type": "code",
   "execution_count": null,
   "metadata": {},
   "outputs": [],
   "source": [
    "rhinanth = Map(\n",
    "    #width=\"50%\", \n",
    "    #height=\"40%\",\n",
    "    nlocs=newdata.subset(\"rhinanthoides\"),\n",
    "    hlocs=Hengduan(\"Ped rhinanthoides\", True),\n",
    ").draw()\n",
    "\n",
    "rhinanth.save(\"/Users/jaredmeek/Desktop/hengduan/maps/pedmaps_python/rhinanthoides.html\")"
   ]
  },
  {
   "cell_type": "code",
   "execution_count": 29,
   "metadata": {},
   "outputs": [],
   "source": [
    "# how to concatenate?\n",
    "#phylogeo = pd.concat([crano, integ, kansu, lachno, longi, rhinanth])"
   ]
  },
  {
   "cell_type": "markdown",
   "metadata": {},
   "source": [
    "## Maps for historical-contemporary species"
   ]
  },
  {
   "cell_type": "code",
   "execution_count": 42,
   "metadata": {},
   "outputs": [
    {
     "data": {
      "text/html": [
       "<div style=\"width:100%;\"><div style=\"position:relative;width:100%;height:0;padding-bottom:60%;\"><iframe src=\"data:text/html;charset=utf-8;base64,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\" style=\"position:absolute;width:100%;height:100%;left:0;top:0;border:none !important;\" allowfullscreen webkitallowfullscreen mozallowfullscreen></iframe></div></div>"
      ],
      "text/plain": [
       "<folium.folium.Map at 0x11a945f98>"
      ]
     },
     "execution_count": 42,
     "metadata": {},
     "output_type": "execute_result"
    }
   ],
   "source": [
    "# example map old and new \n",
    "Map(\n",
    "    #width=\"50%\", \n",
    "    #height=\"40%\",\n",
    "    nlocs=newdata.subset(\"longiflora\"),\n",
    "    hlocs=Hengduan(\"Ped longiflora\", True).filter_by_max_year(1998),\n",
    ").draw()"
   ]
  },
  {
   "cell_type": "code",
   "execution_count": 43,
   "metadata": {},
   "outputs": [],
   "source": [
    "# this returns a Hengduan object  \n",
    "peds = Hengduan(\"Pedicularis \", dna=True)\n",
    "\n",
    "# this attribute of the object has the unfiltered data\n",
    "peds.data\n",
    "\n",
    "# this function call from the object return a DF\n",
    "old = peds.filter_by_max_year(1998)"
   ]
  },
  {
   "cell_type": "code",
   "execution_count": 49,
   "metadata": {},
   "outputs": [
    {
     "name": "stdout",
     "output_type": "stream",
     "text": [
      "            family                                              taxon    cid   sid  year                                  shortname   latitude   longitude\n",
      "0    Orobanchaceae                                        Pedicularis  27501   384  1997                                Pedicularis  30.040278  101.838333\n",
      "1    Orobanchaceae                                        Pedicularis  27567   452  1997                                Pedicularis  30.015278  101.859444\n",
      "35   Orobanchaceae                  Pedicularis\\n                anas  27904   790  1997                           Pedicularis-anas  31.706111  102.313889\n",
      "36   Orobanchaceae                  Pedicularis\\n                anas  27966   852  1997                           Pedicularis-anas  31.850278  102.670278\n",
      "90   Orobanchaceae          Pedicularis\\n                anthemifolia  27837   723  1997                   Pedicularis-anthemifolia  31.725000  100.744444\n",
      "151  Orobanchaceae       Pedicularis\\n                cheilanthifolia  27566   451  1997                Pedicularis-cheilanthifolia  30.015278  101.859444\n",
      "175  Orobanchaceae            Pedicularis\\n                cranolopha  27709   595  1997                     Pedicularis-cranolopha  30.850278  101.276667\n",
      "176  Orobanchaceae            Pedicularis\\n                cranolopha  27821   707  1997                     Pedicularis-cranolopha  31.660000  100.712778\n",
      "213  Orobanchaceae           Pedicularis\\n                cristatella  27840   726  1997                    Pedicularis-cristatella  31.511944  100.695833\n",
      "232  Orobanchaceae               Pedicularis\\n                davidii  27967   853  1997                        Pedicularis-davidii  31.850278  102.670278\n",
      "251  Orobanchaceae           Pedicularis\\n                decorissima  27825   711  1997                    Pedicularis-decorissima  31.696111  100.705278\n",
      "252  Orobanchaceae           Pedicularis\\n                decorissima  27832   718  1997                    Pedicularis-decorissima  31.660000  100.712778\n",
      "331  Orobanchaceae                Pedicularis\\n                ingens  27823   709  1997                         Pedicularis-ingens  31.696111  100.705278\n",
      "332  Orobanchaceae                Pedicularis\\n                ingens  27830   716  1997                         Pedicularis-ingens  31.761667  100.756944\n",
      "390  Orobanchaceae          Pedicularis\\n                lachnoglossa  27613   498  1997                   Pedicularis-lachnoglossa  30.146944  101.860278\n",
      "411  Orobanchaceae            Pedicularis\\n                lasiophrys  27968   854  1997                     Pedicularis-lasiophrys  31.850278  102.670278\n",
      "424  Orobanchaceae               Pedicularis\\n                lineata  27942   828  1997                        Pedicularis-lineata  31.929722  102.657222\n",
      "436  Orobanchaceae            Pedicularis\\n                longiflora  27508   391  1997                     Pedicularis-longiflora  30.040278  101.838333\n",
      "489  Orobanchaceae                Pedicularis\\n                lyrata  27561   446  1997                         Pedicularis-lyrata  30.015278  101.859444\n",
      "490  Orobanchaceae                Pedicularis\\n                lyrata  27706   592  1997                         Pedicularis-lyrata  30.850278  101.276667\n",
      "491  Orobanchaceae                Pedicularis\\n                lyrata  27835   721  1997                         Pedicularis-lyrata  31.725000  100.744444\n",
      "507  Orobanchaceae     Pedicularis\\n                metaszetschuanica  27898   784  1997              Pedicularis-metaszetschuanica  31.706111  102.313889\n",
      "559  Orobanchaceae         Pedicularis\\n                petitmenginii  27941   827  1997                  Pedicularis-petitmenginii  31.929722  102.657222\n",
      "645  Orobanchaceae         Pedicularis\\n                rhinanthoides  27565   450  1997                  Pedicularis-rhinanthoides  30.015278  101.859444\n",
      "646  Orobanchaceae         Pedicularis\\n                rhinanthoides  27839   725  1997                  Pedicularis-rhinanthoides  31.726389  100.735278\n",
      "681  Orobanchaceae           Pedicularis\\n                rhodotricha  27903   789  1997                    Pedicularis-rhodotricha  31.706111  102.313889\n",
      "710  Orobanchaceae                 Pedicularis\\n                rudis  27641   526  1997                          Pedicularis-rudis  30.171111  101.868889\n",
      "711  Orobanchaceae                 Pedicularis\\n                rudis  27691   576  1997                          Pedicularis-rudis  30.284167  101.528611\n",
      "748  Orobanchaceae             Pedicularis\\n                semitorta  27773   659  1997                      Pedicularis-semitorta  31.660000  100.712778\n",
      "749  Orobanchaceae             Pedicularis\\n                semitorta  27822   708  1997                      Pedicularis-semitorta  31.660000  100.712778\n",
      "802  Orobanchaceae               Pedicularis\\n                souliei  27836   722  1997                        Pedicularis-souliei  31.725000  100.744444\n",
      "845  Orobanchaceae          Pedicularis\\n                tatsienensis  27831   717  1997                   Pedicularis-tatsienensis  31.725000  100.744444\n",
      "850  Orobanchaceae                Pedicularis\\n                tenera  27708   594  1997                         Pedicularis-tenera  30.850278  101.276667\n",
      "2    Orobanchaceae                                        Pedicularis  28595  1486  1998                                Pedicularis  29.108056   99.907778\n",
      "3    Orobanchaceae                                        Pedicularis  29339  2234  1998                                Pedicularis  27.375000   99.966667\n",
      "37   Orobanchaceae                  Pedicularis\\n                anas  28071   960  1998                           Pedicularis-anas  29.385833  100.149444\n",
      "107  Orobanchaceae             Pedicularis\\n                axillaris  28246  1137  1998                      Pedicularis-axillaris  28.746389  100.269167\n",
      "108  Orobanchaceae             Pedicularis\\n                axillaris  28362  1253  1998                      Pedicularis-axillaris  29.141111   99.928333\n",
      "109  Orobanchaceae             Pedicularis\\n                axillaris  28744  1638  1998                      Pedicularis-axillaris  29.103056   99.631944\n",
      "157  Orobanchaceae         Pedicularis\\n                confertiflora  28271  1162  1998                  Pedicularis-confertiflora  28.746389  100.269167\n",
      "158  Orobanchaceae         Pedicularis\\n                confertiflora  29144  2039  1998                  Pedicularis-confertiflora  28.585833   99.837222\n",
      "177  Orobanchaceae            Pedicularis\\n                cranolopha  28522  1413  1998                     Pedicularis-cranolopha  29.141111   99.928333\n",
      "178  Orobanchaceae            Pedicularis\\n                cranolopha  28746  1640  1998                     Pedicularis-cranolopha  29.103056   99.631944\n",
      "222  Orobanchaceae          Pedicularis\\n                cyathophylla  28478  1369  1998                   Pedicularis-cyathophylla  29.123889   99.996667\n",
      "257  Orobanchaceae            Pedicularis\\n                densispica  28415  1306  1998                     Pedicularis-densispica  29.141111   99.928333\n",
      "280  Orobanchaceae             Pedicularis\\n                dichotoma  29034  1929  1998                      Pedicularis-dichotoma  28.767222   99.870000\n",
      "284  Orobanchaceae          Pedicularis\\n                dolichocymba  29181  2076  1998                   Pedicularis-dolichocymba  28.573333   99.811667\n",
      "286  Orobanchaceae         Pedicularis\\n                dolichoglossa  28873  1768  1998                  Pedicularis-dolichoglossa  29.072500   99.632222\n",
      "287  Orobanchaceae         Pedicularis\\n                dolichoglossa  29236  2131  1998                  Pedicularis-dolichoglossa  28.593889   99.846944\n",
      "291  Orobanchaceae               Pedicularis\\n                elwesii  29147  2042  1998                        Pedicularis-elwesii  28.585833   99.837222\n",
      "312  Orobanchaceae           Pedicularis\\n                glabrescens  28650  1541  1998                    Pedicularis-glabrescens  29.127778   99.975278\n",
      "326  Orobanchaceae           Pedicularis\\n                gyrorhyncha  28435  1326  1998                    Pedicularis-gyrorhyncha  29.141111   99.964444\n",
      "336  Orobanchaceae          Pedicularis\\n                integrifolia  28273  1164  1998                   Pedicularis-integrifolia  28.746389  100.269167\n",
      "337  Orobanchaceae          Pedicularis\\n                integrifolia  28603  1494  1998                   Pedicularis-integrifolia  29.112222  100.032778\n",
      "338  Orobanchaceae          Pedicularis\\n                integrifolia  28910  1805  1998                   Pedicularis-integrifolia  29.072778   99.675556\n",
      "355  Orobanchaceae            Pedicularis\\n                kansuensis  28607  1498  1998                     Pedicularis-kansuensis  29.112222  100.032778\n",
      "356  Orobanchaceae            Pedicularis\\n                kansuensis  28992  1887  1998                     Pedicularis-kansuensis  29.001944   99.742778\n",
      "391  Orobanchaceae          Pedicularis\\n                lachnoglossa  28066   955  1998                   Pedicularis-lachnoglossa  29.385833  100.149444\n",
      "420  Orobanchaceae          Pedicularis\\n                likiangensis  28297  1188  1998                   Pedicularis-likiangensis  28.899167  100.285556\n",
      "437  Orobanchaceae            Pedicularis\\n                longiflora  28270  1161  1998                     Pedicularis-longiflora  28.746389  100.269167\n",
      "524  Orobanchaceae             Pedicularis\\n                muscoides  28664  1557  1998                      Pedicularis-muscoides  29.146111  100.038333\n",
      "586  Orobanchaceae           Pedicularis\\n                przewalskii  28058   947  1998                    Pedicularis-przewalskii  29.385833  100.149444\n",
      "593  Orobanchaceae  Pedicularis\\n                pseudomelampyriflora  28210  1101  1998           Pedicularis-pseudomelampyriflora  28.600278  100.286667\n",
      "594  Orobanchaceae  Pedicularis\\n                pseudomelampyriflora  28702  1595  1998           Pedicularis-pseudomelampyriflora  29.103056   99.631944\n",
      "625  Orobanchaceae                   Pedicularis\\n                rex  28416  1307  1998                            Pedicularis-rex  29.141111   99.928333\n",
      "647  Orobanchaceae         Pedicularis\\n                rhinanthoides  28127  1016  1998                  Pedicularis-rhinanthoides  29.140000  100.157222\n",
      "649  Orobanchaceae         Pedicularis\\n                rhinanthoides  28264  1155  1998                  Pedicularis-rhinanthoides  28.746389  100.269167\n",
      "648  Orobanchaceae  Pedicularis\\n                rhinanthoides\\n  ...  28229  1120  1998  Pedicularis-rhinanthoides-subsp.-tibetica  28.746389  100.269167\n",
      "682  Orobanchaceae           Pedicularis\\n                rhodotricha  28613  1504  1998                    Pedicularis-rhodotricha  29.112222  100.032778\n",
      "683  Orobanchaceae           Pedicularis\\n                rhodotricha  28872  1767  1998                    Pedicularis-rhodotricha  29.072500   99.632222\n",
      "684  Orobanchaceae           Pedicularis\\n                rhodotricha  28979  1874  1998                    Pedicularis-rhodotricha  29.001944   99.742778\n",
      "700  Orobanchaceae          Pedicularis\\n                rhynchodonta  28070   959  1998                   Pedicularis-rhynchodonta  29.385833  100.149444\n",
      "721  Orobanchaceae              Pedicularis\\n                rupicola  28998  1893  1998                       Pedicularis-rupicola  29.001944   99.742778\n",
      "719  Orobanchaceae  Pedicularis\\n                rupicola\\n       ...  28190  1081  1998       Pedicularis-rupicola-subsp.-rupicola  29.133889  100.042500\n",
      "720  Orobanchaceae  Pedicularis\\n                rupicola\\n       ...  28484  1375  1998    Pedicularis-rupicola-subsp.-zambalensis  29.123889   99.996667\n",
      "763  Orobanchaceae           Pedicularis\\n                siphonantha  28272  1163  1998                    Pedicularis-siphonantha  28.746389  100.269167\n",
      "762  Orobanchaceae  Pedicularis\\n                siphonantha\\n    ...  28187  1078  1998      Pedicularis-siphonantha-var.-delavayi  29.133889  100.042500\n",
      "830  Orobanchaceae               Pedicularis\\n                superba  29154  2049  1998                        Pedicularis-superba  28.573333   99.811667\n",
      "846  Orobanchaceae          Pedicularis\\n                tatsienensis  28186  1077  1998                   Pedicularis-tatsienensis  29.133889  100.042500\n",
      "855  Orobanchaceae           Pedicularis\\n                thamnophila  28967  1862  1998                    Pedicularis-thamnophila  29.044722   99.711389\n",
      "869  Orobanchaceae           Pedicularis\\n                trichocymba  28244  1135  1998                    Pedicularis-trichocymba  28.746389  100.269167\n"
     ]
    }
   ],
   "source": [
    "# visualize old DataFrame\n",
    "print(old.to_string())"
   ]
  },
  {
   "cell_type": "code",
   "execution_count": 50,
   "metadata": {},
   "outputs": [
    {
     "data": {
      "text/plain": [
       "40"
      ]
     },
     "execution_count": 50,
     "metadata": {},
     "output_type": "execute_result"
    }
   ],
   "source": [
    "#Create dictionary for all species with collections older than 1998\n",
    "listofnames = [ \n",
    "    'anas',\n",
    "    'axillaris',\n",
    "    'cheilanthifolia',\n",
    "    'confertiflora',\n",
    "    'cranolopha',\n",
    "    'cristatella',\n",
    "    'cyathophylla',\n",
    "    'davidii',\n",
    "    'decorissima',\n",
    "    'densispica',\n",
    "    'dichotoma',\n",
    "    'dolichocymba',\n",
    "    'dolichoglossa',\n",
    "    'elwesii',\n",
    "    'ingens',\n",
    "    'integrifolia',\n",
    "    'kansuensis',\n",
    "    'lachnoglossa',\n",
    "    'lasiophrys',\n",
    "    'likiangensis',\n",
    "    'lineata',\n",
    "    'longiflora',\n",
    "    'lyrata',\n",
    "    'metaszetschuanica',\n",
    "    'petitmenginii',\n",
    "    'przewalskii',\n",
    "    'pseudomelampyriflora',\n",
    "    'rex',\n",
    "    'rhinanthoides',\n",
    "    'rhodotricha',\n",
    "    'rhynchodonta',\n",
    "    'rudis',\n",
    "    'rupicola',\n",
    "    'semitorta',\n",
    "    'siphonantha',\n",
    "    'souliei',\n",
    "    'superba',\n",
    "    'tatsienensis',\n",
    "    'tenera',\n",
    "    'thamnophila'\n",
    "]\n",
    "\n",
    "len(listofnames)"
   ]
  },
  {
   "cell_type": "code",
   "execution_count": 51,
   "metadata": {},
   "outputs": [
    {
     "data": {
      "text/plain": [
       "'/Users/jaredmeek/Desktop/hengduan/maps/pedmaps_python/h-cmaps/'"
      ]
     },
     "execution_count": 51,
     "metadata": {},
     "output_type": "execute_result"
    }
   ],
   "source": [
    "import os\n",
    "\n",
    "home = os.path.expanduser(\"~\")\n",
    "proj = \"Desktop/hengduan/maps/pedmaps_python/h-cmaps/\"\n",
    "\n",
    "path = os.path.join(home, proj)\n",
    "path"
   ]
  },
  {
   "cell_type": "code",
   "execution_count": 52,
   "metadata": {},
   "outputs": [],
   "source": [
    "# combine Hengduan and New dataframes\n",
    "\n",
    "def insert_epithet(name, newdata, records):\n",
    "    \"\"\"\n",
    "    name is a string.\n",
    "    newdata is a object loaded from CSV.\n",
    "    records is a DataFrame.\n",
    "    \"\"\"\n",
    "    comb = pd.concat([newdata.subset(name), records[name]], sort=True)\n",
    "    comb = comb.drop(columns=[\"family\", \"taxon\", \"index\"])\n",
    "    comb.to_csv(path + \"{}.csv\".format(name))\n"
   ]
  },
  {
   "cell_type": "code",
   "execution_count": 53,
   "metadata": {},
   "outputs": [
    {
     "name": "stdout",
     "output_type": "stream",
     "text": [
      "anas\n",
      "axillaris\n",
      "cheilanthifolia\n",
      "confertiflora\n",
      "cranolopha\n",
      "cristatella\n",
      "cyathophylla\n",
      "davidii\n",
      "decorissima\n",
      "densispica\n",
      "dichotoma\n",
      "dolichocymba\n",
      "dolichoglossa\n",
      "elwesii\n",
      "ingens\n",
      "integrifolia\n",
      "kansuensis\n",
      "lachnoglossa\n",
      "lasiophrys\n",
      "likiangensis\n",
      "lineata\n",
      "longiflora\n",
      "lyrata\n",
      "metaszetschuanica\n",
      "petitmenginii\n",
      "przewalskii\n",
      "pseudomelampyriflora\n",
      "rex\n",
      "rhinanthoides\n",
      "rhodotricha\n",
      "rhynchodonta\n",
      "rudis\n",
      "rupicola\n",
      "semitorta\n",
      "siphonantha\n",
      "souliei\n",
      "superba\n",
      "tatsienensis\n",
      "tenera\n",
      "thamnophila\n"
     ]
    }
   ],
   "source": [
    "records = {}\n",
    "for taxon in listofnames:\n",
    "    # store H object\n",
    "    print(taxon)\n",
    "    \n",
    "    # scrape all data for this taxon to create a Heng object\n",
    "    scraped = Hengduan(\"Pedicularis \" + taxon)\n",
    "    \n",
    "    # limit scraped data to old points and return as a DF\n",
    "    tmpold = scraped.filter_by_max_year(1998)\n",
    "    \n",
    "    # store DF in the records diction\n",
    "    records[taxon] = tmpold\n",
    "    \n",
    "    # save csv to file that combines data from CSV obj and DF\n",
    "    # ing our data with hengduan\n",
    "    insert_epithet(taxon, newdata, records)\n",
    "    \n",
    "    # draw and save map\n",
    "    imap= Map(hlocs=records[taxon], nlocs=newdata.subset(taxon))\n",
    "    imap.map.save(\"/Users/jaredmeek/Desktop/hengduan/maps/pedmaps_python/h-cmaps/\" + taxon + \".html\")"
   ]
  },
  {
   "cell_type": "markdown",
   "metadata": {},
   "source": [
    "## Extras to figure out later"
   ]
  },
  {
   "cell_type": "code",
   "execution_count": null,
   "metadata": {},
   "outputs": [],
   "source": [
    "#broken\n",
    "co = Hengduan(\"ped rhinanth\", True)\n",
    "# draw historical (red) and newer collections (blue)\n",
    "m = Map(hlocs=co.filter_by_max_year(1998), nlocs=co.data)\n",
    "m.draw()\n",
    "m.map.save(outfile=\"./reduced.html\")\n",
    "m.save(\"/Users/jaredmeek/Desktop/\")"
   ]
  },
  {
   "cell_type": "code",
   "execution_count": 22,
   "metadata": {},
   "outputs": [],
   "source": [
    "# combine Hengduan 'records' dataframes\n",
    "\n",
    "newdf = pd.concat([i.data[i.data.year.astype(int) < 1998] for i in records.values()])\n",
    "newdf.to_csv(\"path\")"
   ]
  },
  {
   "cell_type": "code",
   "execution_count": 42,
   "metadata": {},
   "outputs": [
    {
     "ename": "KeyError",
     "evalue": "'cranolopha'",
     "output_type": "error",
     "traceback": [
      "\u001b[0;31m---------------------------------------------------------------------------\u001b[0m",
      "\u001b[0;31mKeyError\u001b[0m                                  Traceback (most recent call last)",
      "\u001b[0;32m<ipython-input-42-8abaf0e491a4>\u001b[0m in \u001b[0;36m<module>\u001b[0;34m()\u001b[0m\n\u001b[0;32m----> 1\u001b[0;31m \u001b[0mrecords\u001b[0m\u001b[0;34m[\u001b[0m\u001b[0;34m'cranolopha'\u001b[0m\u001b[0;34m]\u001b[0m\u001b[0;34m.\u001b[0m\u001b[0mdata\u001b[0m\u001b[0;34m.\u001b[0m\u001b[0mhead\u001b[0m\u001b[0;34m(\u001b[0m\u001b[0;34m)\u001b[0m\u001b[0;34m\u001b[0m\u001b[0;34m\u001b[0m\u001b[0m\n\u001b[0m",
      "\u001b[0;31mKeyError\u001b[0m: 'cranolopha'"
     ]
    }
   ],
   "source": [
    "records['cranolopha'].data.head()"
   ]
  },
  {
   "cell_type": "code",
   "execution_count": 43,
   "metadata": {},
   "outputs": [
    {
     "data": {
      "text/html": [
       "<div>\n",
       "<style scoped>\n",
       "    .dataframe tbody tr th:only-of-type {\n",
       "        vertical-align: middle;\n",
       "    }\n",
       "\n",
       "    .dataframe tbody tr th {\n",
       "        vertical-align: top;\n",
       "    }\n",
       "\n",
       "    .dataframe thead th {\n",
       "        text-align: right;\n",
       "    }\n",
       "</style>\n",
       "<table border=\"1\" class=\"dataframe\">\n",
       "  <thead>\n",
       "    <tr style=\"text-align: right;\">\n",
       "      <th></th>\n",
       "      <th>index</th>\n",
       "      <th>sid</th>\n",
       "      <th>shortname</th>\n",
       "      <th>latitude</th>\n",
       "      <th>longitude</th>\n",
       "      <th>year</th>\n",
       "      <th>cid</th>\n",
       "    </tr>\n",
       "  </thead>\n",
       "  <tbody>\n",
       "    <tr>\n",
       "      <th>0</th>\n",
       "      <td>5</td>\n",
       "      <td>2.0</td>\n",
       "      <td>Pedicularis-siphonantha</td>\n",
       "      <td>27.959194</td>\n",
       "      <td>99.707167</td>\n",
       "      <td>2018</td>\n",
       "      <td>DE6</td>\n",
       "    </tr>\n",
       "    <tr>\n",
       "      <th>1</th>\n",
       "      <td>19</td>\n",
       "      <td>6.0</td>\n",
       "      <td>Pedicularis-siphonantha</td>\n",
       "      <td>28.585861</td>\n",
       "      <td>99.837222</td>\n",
       "      <td>2018</td>\n",
       "      <td>DE20</td>\n",
       "    </tr>\n",
       "    <tr>\n",
       "      <th>2</th>\n",
       "      <td>44</td>\n",
       "      <td>12.0</td>\n",
       "      <td>Pedicularis-siphonantha</td>\n",
       "      <td>29.123889</td>\n",
       "      <td>99.996667</td>\n",
       "      <td>2018</td>\n",
       "      <td>DE45</td>\n",
       "    </tr>\n",
       "    <tr>\n",
       "      <th>3</th>\n",
       "      <td>48</td>\n",
       "      <td>14.0</td>\n",
       "      <td>Pedicularis-siphonantha</td>\n",
       "      <td>29.144722</td>\n",
       "      <td>100.034778</td>\n",
       "      <td>2018</td>\n",
       "      <td>DE49</td>\n",
       "    </tr>\n",
       "    <tr>\n",
       "      <th>4</th>\n",
       "      <td>74</td>\n",
       "      <td>18.0</td>\n",
       "      <td>Pedicularis-siphonantha</td>\n",
       "      <td>30.010972</td>\n",
       "      <td>100.316167</td>\n",
       "      <td>2018</td>\n",
       "      <td>DE75</td>\n",
       "    </tr>\n",
       "  </tbody>\n",
       "</table>\n",
       "</div>"
      ],
      "text/plain": [
       "   index   sid                shortname   latitude   longitude  year   cid\n",
       "0      5   2.0  Pedicularis-siphonantha  27.959194   99.707167  2018   DE6\n",
       "1     19   6.0  Pedicularis-siphonantha  28.585861   99.837222  2018  DE20\n",
       "2     44  12.0  Pedicularis-siphonantha  29.123889   99.996667  2018  DE45\n",
       "3     48  14.0  Pedicularis-siphonantha  29.144722  100.034778  2018  DE49\n",
       "4     74  18.0  Pedicularis-siphonantha  30.010972  100.316167  2018  DE75"
      ]
     },
     "execution_count": 43,
     "metadata": {},
     "output_type": "execute_result"
    }
   ],
   "source": [
    "# get a subset data set for a specific taxon\n",
    "newdata.subset(\"siphonantha\").head()"
   ]
  },
  {
   "cell_type": "code",
   "execution_count": 19,
   "metadata": {},
   "outputs": [
    {
     "ename": "KeyError",
     "evalue": "'siphonantha'",
     "output_type": "error",
     "traceback": [
      "\u001b[0;31m---------------------------------------------------------------------------\u001b[0m",
      "\u001b[0;31mKeyError\u001b[0m                                  Traceback (most recent call last)",
      "\u001b[0;32m<ipython-input-19-b6f0a43f15c1>\u001b[0m in \u001b[0;36m<module>\u001b[0;34m()\u001b[0m\n\u001b[0;32m----> 1\u001b[0;31m \u001b[0mobj\u001b[0m \u001b[0;34m=\u001b[0m \u001b[0mrecords\u001b[0m\u001b[0;34m[\u001b[0m\u001b[0;34m'siphonantha'\u001b[0m\u001b[0;34m]\u001b[0m\u001b[0;34m\u001b[0m\u001b[0;34m\u001b[0m\u001b[0m\n\u001b[0m\u001b[1;32m      2\u001b[0m \u001b[0mobj\u001b[0m\u001b[0;34m.\u001b[0m\u001b[0mfilter_by_max_year\u001b[0m\u001b[0;34m(\u001b[0m\u001b[0;36m1998\u001b[0m\u001b[0;34m)\u001b[0m\u001b[0;34m\u001b[0m\u001b[0;34m\u001b[0m\u001b[0m\n",
      "\u001b[0;31mKeyError\u001b[0m: 'siphonantha'"
     ]
    }
   ],
   "source": [
    "obj = records['siphonantha']\n",
    "obj.filter_by_max_year(1998)"
   ]
  },
  {
   "cell_type": "code",
   "execution_count": 17,
   "metadata": {},
   "outputs": [
    {
     "ename": "KeyError",
     "evalue": "'siphonantha'",
     "output_type": "error",
     "traceback": [
      "\u001b[0;31m---------------------------------------------------------------------------\u001b[0m",
      "\u001b[0;31mKeyError\u001b[0m                                  Traceback (most recent call last)",
      "\u001b[0;32m<ipython-input-17-c1769bdd779f>\u001b[0m in \u001b[0;36m<module>\u001b[0;34m()\u001b[0m\n\u001b[1;32m      1\u001b[0m Map(\n\u001b[1;32m      2\u001b[0m     \u001b[0mnlocs\u001b[0m\u001b[0;34m=\u001b[0m\u001b[0mnewdata\u001b[0m\u001b[0;34m.\u001b[0m\u001b[0msubset\u001b[0m\u001b[0;34m(\u001b[0m\u001b[0;34m\"siphonantha\"\u001b[0m\u001b[0;34m)\u001b[0m\u001b[0;34m,\u001b[0m\u001b[0;34m\u001b[0m\u001b[0;34m\u001b[0m\u001b[0m\n\u001b[0;32m----> 3\u001b[0;31m     \u001b[0mhlocs\u001b[0m\u001b[0;34m=\u001b[0m\u001b[0mrecords\u001b[0m\u001b[0;34m[\u001b[0m\u001b[0;34m\"siphonantha\"\u001b[0m\u001b[0;34m]\u001b[0m\u001b[0;34m.\u001b[0m\u001b[0mfilter_by_max_year\u001b[0m\u001b[0;34m(\u001b[0m\u001b[0;36m1998\u001b[0m\u001b[0;34m)\u001b[0m\u001b[0;34m,\u001b[0m\u001b[0;34m\u001b[0m\u001b[0;34m\u001b[0m\u001b[0m\n\u001b[0m\u001b[1;32m      4\u001b[0m ).draw()\n",
      "\u001b[0;31mKeyError\u001b[0m: 'siphonantha'"
     ]
    }
   ],
   "source": [
    "Map(\n",
    "    nlocs=newdata.subset(\"siphonantha\"), \n",
    "    hlocs=records[\"siphonantha\"].filter_by_max_year(1998),\n",
    ").draw()"
   ]
  },
  {
   "cell_type": "code",
   "execution_count": null,
   "metadata": {},
   "outputs": [],
   "source": [
    "# figure this out later, if it's even possible\n",
    "#all_ped = Map(\n",
    "    #width=\"50%\", \n",
    "    #height=\"40%\",\n",
    "    #nlocs=newdata.subset(\"Pedicularis \"),\n",
    "    #hlocs=Hengduan(\"Pedicularis \", True).filter_by_max_year(1998),\n",
    "#).draw()\n",
    "\n",
    "#m.save(\"/Users/jaredmeek/Desktop/hengduan/maps/pedmaps_python/all_ped.html\")"
   ]
  }
 ],
 "metadata": {
  "kernelspec": {
   "display_name": "Python 3",
   "language": "python",
   "name": "python3"
  },
  "language_info": {
   "codemirror_mode": {
    "name": "ipython",
    "version": 3
   },
   "file_extension": ".py",
   "mimetype": "text/x-python",
   "name": "python",
   "nbconvert_exporter": "python",
   "pygments_lexer": "ipython3",
   "version": "3.6.8"
  },
  "varInspector": {
   "cols": {
    "lenName": 16,
    "lenType": 16,
    "lenVar": 40
   },
   "kernels_config": {
    "python": {
     "delete_cmd_postfix": "",
     "delete_cmd_prefix": "del ",
     "library": "var_list.py",
     "varRefreshCmd": "print(var_dic_list())"
    },
    "r": {
     "delete_cmd_postfix": ") ",
     "delete_cmd_prefix": "rm(",
     "library": "var_list.r",
     "varRefreshCmd": "cat(var_dic_list()) "
    }
   },
   "types_to_exclude": [
    "module",
    "function",
    "builtin_function_or_method",
    "instance",
    "_Feature"
   ],
   "window_display": false
  }
 },
 "nbformat": 4,
 "nbformat_minor": 2
}
