{
 "cells": [
  {
   "cell_type": "markdown",
   "metadata": {},
   "source": [
    "## Search the Hengduan Database \n",
    "We hope to find many species for which collections are available from multiple disjunct regions sampled between 1997-2004. "
   ]
  },
  {
   "cell_type": "code",
   "execution_count": null,
   "metadata": {},
   "outputs": [],
   "source": [
    "#conda install pandas\n",
    "#conda install beautifulsoup4\n",
    "#pip install folium"
   ]
  },
  {
   "cell_type": "code",
   "execution_count": 1,
   "metadata": {},
   "outputs": [],
   "source": [
    "from concurrent.futures import ThreadPoolExecutor\n",
    "import requests\n",
    "import pandas as pd\n",
    "from bs4 import BeautifulSoup\n",
    "import folium\n",
    "import time"
   ]
  },
  {
   "cell_type": "markdown",
   "metadata": {},
   "source": [
    "### The Hengduan API structure"
   ]
  },
  {
   "cell_type": "code",
   "execution_count": null,
   "metadata": {},
   "outputs": [],
   "source": [
    "# specimen search page\n",
    "# http://hengduan.huh.harvard.edu/fieldnotes/specimens/search/search.zpt?\n",
    "#    dna_collection=on&\n",
    "#    st=pedicularis&\n",
    "#    action=search&\n",
    "#    submit_button=Search"
   ]
  },
  {
   "cell_type": "code",
   "execution_count": null,
   "metadata": {},
   "outputs": [],
   "source": [
    "# individual specimen page\n",
    "# http://hengduan.huh.harvard.edu/fieldnotes/specimens/search/specimen_detail.zpt?\n",
    "#    specimen_id=718"
   ]
  },
  {
   "cell_type": "markdown",
   "metadata": {},
   "source": [
    "### A class object to search and parse Hengduan data"
   ]
  },
  {
   "cell_type": "code",
   "execution_count": 2,
   "metadata": {},
   "outputs": [],
   "source": [
    "class Hengduan:\n",
    "    \"Search the Hengduan database and return a dataframe\"\n",
    "    \n",
    "    def __init__(self, taxon, dna=True,):\n",
    "        # class globals\n",
    "        baseurl = \"http://hengduan.huh.harvard.edu/fieldnotes/\"\n",
    "        self.search_url = baseurl + \"specimens/search/search.zpt\"\n",
    "        self.specimen_url = baseurl + \"specimens/search/specimen_detail.zpt\"\n",
    "        \n",
    "        # class attrs\n",
    "        self.taxon = taxon\n",
    "        self.dna = [\"on\" if True else \"off\"][0]\n",
    "        self.data = None\n",
    "        \n",
    "        # do search and fill database\n",
    "        if self._get_search_data():\n",
    "            self._fill_data_coords()\n",
    "        \n",
    "        \n",
    "    def _search_request(self):\n",
    "        # slow it down by waiting one second\n",
    "        time.sleep(1)\n",
    "        res = requests.get(\n",
    "            url=self.search_url,\n",
    "            params={\n",
    "                \"dna_collection\": self.dna, \n",
    "                \"st\": self.taxon,\n",
    "                \"action\": \"search\", \n",
    "                \"submit_button\": \"Search\",\n",
    "            }\n",
    "        )\n",
    "        res.raise_for_status()\n",
    "        return BeautifulSoup(res.text, \"html5lib\")\n",
    "       \n",
    "        \n",
    "    def _get_search_data(self):\n",
    "        soup = self._search_request()\n",
    "        table = soup.find('table', attrs={\"class\": \"listing\", \"id\": \"angio_table\"})\n",
    "        if table:\n",
    "            headers = [header.text for header in table.find_all('th')]\n",
    "        # if no record then return 0\n",
    "        else:\n",
    "            return 0\n",
    "        \n",
    "        headers.extend([\"specimen-id\"])\n",
    "        rows = []\n",
    "        for row in table.find_all('tr')[1:]:\n",
    "            tds = row.find_all('td')\n",
    "            row = [val.text.strip() for val in tds]\n",
    "            tmp = [i.a for i in tds][2]\n",
    "            spid = (tmp.attrs['href'].split(\"=\")[-1])\n",
    "            row.extend([spid])\n",
    "            rows.append(row)\n",
    "        self.data = pd.DataFrame(\n",
    "            rows, \n",
    "            columns=[\"family\", \"taxon\", \"cid\", \"cdate\", \"\", \"sid\"]\n",
    "        )\n",
    "        self.data['year'] = (\n",
    "            self.data[\"cdate\"]\n",
    "             .apply(str.split)\n",
    "             .apply(lambda x: x[-1])\n",
    "            )\n",
    "        self.data = self.data.drop([\"cdate\", \"\"], axis=1)\n",
    "        # add shortname ref\n",
    "        self.data[\"shortname\"] = (\n",
    "            self.data\n",
    "            .taxon\n",
    "            .apply(str.split)\n",
    "            .apply(\"-\".join)\n",
    "        )\n",
    "        # on success return 1\n",
    "        return 1\n",
    "        \n",
    "    def _specimen_request(self, spid):\n",
    "        res = requests.get(\n",
    "            url=self.specimen_url,\n",
    "            params={\n",
    "                \"specimen_id\": spid,\n",
    "            }\n",
    "        )\n",
    "        res.raise_for_status()\n",
    "        return BeautifulSoup(res.text, \"html5lib\")\n",
    "\n",
    "        \n",
    "    def _get_coordinates(self, specid):\n",
    "        soup = self._specimen_request(specid)\n",
    "        textlocs = soup.find(id=\"locality\")\n",
    "        text = textlocs.find_all(\"td\")[1].text.split(\"\\n\")\n",
    "        descr = \" \".join([i.strip() for i in text][1:4])\n",
    "        tmp0, tmp1 = text[-3].strip().split(\"°\")\n",
    "        tmp0, tmp1\n",
    "        tmp1, tmp2 = tmp1.split(\"\\'\")\n",
    "        tmp2 = tmp2.lstrip(\";\").rstrip(\";\").replace('\"', '')\n",
    "        point = \"-\".join([tmp0, tmp1, tmp2])\n",
    "        eastwest = self._convert_gps(point)\n",
    "\n",
    "        tmp0, tmp1 = text[-4].strip().split(\"°\")\n",
    "        tmp1, tmp2 = tmp1.split(\"\\'\")\n",
    "        tmp2 = tmp2.lstrip(\";\").rstrip(\",\").replace('\"', '')\n",
    "        point = \"-\".join([tmp0, tmp1, tmp2])\n",
    "        northsouth = self._convert_gps(point)\n",
    "        return (northsouth, eastwest)\n",
    "\n",
    "        \n",
    "    @staticmethod\n",
    "    def _convert_gps(tude):\n",
    "        multiplier = 1 if tude[-1] in ['N', 'E'] else -1\n",
    "        return multiplier * sum(float(x) / 60 ** n for n, x in enumerate(tude[:-1].split('-')))  \n",
    "    \n",
    "    \n",
    "    def _fill_data_coords(self):\n",
    "        with ThreadPoolExecutor(max_workers=4) as executor:\n",
    "            jobs = [executor.submit(\n",
    "                self._get_coordinates, specid) for specid in self.data.sid]\n",
    "            res = [i.result() for i in jobs]\n",
    "        \n",
    "        self.data['latitude'] = [i[0] for i in res]\n",
    "        self.data['longitude'] = [i[1] for i in res]\n",
    "        \n",
    "        \n",
    "    def count_by_maxyear(self, year):\n",
    "        try:\n",
    "            return (\n",
    "             self.data[self.data.year.astype(int) <= year]\n",
    "             .sort_values(by=[\"year\", \"shortname\"])\n",
    "             .groupby('shortname')\n",
    "             .apply(len)\n",
    "             .sort_values(ascending=False)\n",
    "            )\n",
    "        except TypeError:\n",
    "            return None\n",
    "        \n",
    "            \n",
    "    def filter_by_max_year(self, year):\n",
    "        try:\n",
    "            return (\n",
    "             self.data[self.data.year.astype(int) <= year]\n",
    "             .sort_values(by=[\"year\", \"shortname\"])\n",
    "            )\n",
    "        except TypeError:\n",
    "            return None\n"
   ]
  },
  {
   "cell_type": "markdown",
   "metadata": {},
   "source": [
    "### Test usage"
   ]
  },
  {
   "cell_type": "code",
   "execution_count": 8,
   "metadata": {},
   "outputs": [],
   "source": [
    "# get dataframe\n",
    "test = Hengduan(taxon=\"Ped cranolopha\", dna=True)"
   ]
  },
  {
   "cell_type": "code",
   "execution_count": 9,
   "metadata": {},
   "outputs": [
    {
     "data": {
      "text/html": [
       "<div>\n",
       "<style scoped>\n",
       "    .dataframe tbody tr th:only-of-type {\n",
       "        vertical-align: middle;\n",
       "    }\n",
       "\n",
       "    .dataframe tbody tr th {\n",
       "        vertical-align: top;\n",
       "    }\n",
       "\n",
       "    .dataframe thead th {\n",
       "        text-align: right;\n",
       "    }\n",
       "</style>\n",
       "<table border=\"1\" class=\"dataframe\">\n",
       "  <thead>\n",
       "    <tr style=\"text-align: right;\">\n",
       "      <th></th>\n",
       "      <th>family</th>\n",
       "      <th>taxon</th>\n",
       "      <th>cid</th>\n",
       "      <th>sid</th>\n",
       "      <th>year</th>\n",
       "      <th>shortname</th>\n",
       "      <th>latitude</th>\n",
       "      <th>longitude</th>\n",
       "    </tr>\n",
       "  </thead>\n",
       "  <tbody>\n",
       "    <tr>\n",
       "      <th>0</th>\n",
       "      <td>Orobanchaceae</td>\n",
       "      <td>Pedicularis\\n                cranolopha</td>\n",
       "      <td>27709</td>\n",
       "      <td>595</td>\n",
       "      <td>1997</td>\n",
       "      <td>Pedicularis-cranolopha</td>\n",
       "      <td>30.850278</td>\n",
       "      <td>101.276667</td>\n",
       "    </tr>\n",
       "    <tr>\n",
       "      <th>1</th>\n",
       "      <td>Orobanchaceae</td>\n",
       "      <td>Pedicularis\\n                cranolopha</td>\n",
       "      <td>27821</td>\n",
       "      <td>707</td>\n",
       "      <td>1997</td>\n",
       "      <td>Pedicularis-cranolopha</td>\n",
       "      <td>31.660000</td>\n",
       "      <td>100.712778</td>\n",
       "    </tr>\n",
       "    <tr>\n",
       "      <th>2</th>\n",
       "      <td>Orobanchaceae</td>\n",
       "      <td>Pedicularis\\n                cranolopha</td>\n",
       "      <td>28522</td>\n",
       "      <td>1413</td>\n",
       "      <td>1998</td>\n",
       "      <td>Pedicularis-cranolopha</td>\n",
       "      <td>29.141111</td>\n",
       "      <td>99.928333</td>\n",
       "    </tr>\n",
       "    <tr>\n",
       "      <th>3</th>\n",
       "      <td>Orobanchaceae</td>\n",
       "      <td>Pedicularis\\n                cranolopha</td>\n",
       "      <td>28746</td>\n",
       "      <td>1640</td>\n",
       "      <td>1998</td>\n",
       "      <td>Pedicularis-cranolopha</td>\n",
       "      <td>29.103056</td>\n",
       "      <td>99.631944</td>\n",
       "    </tr>\n",
       "  </tbody>\n",
       "</table>\n",
       "</div>"
      ],
      "text/plain": [
       "          family                                    taxon    cid   sid  year  \\\n",
       "0  Orobanchaceae  Pedicularis\\n                cranolopha  27709   595  1997   \n",
       "1  Orobanchaceae  Pedicularis\\n                cranolopha  27821   707  1997   \n",
       "2  Orobanchaceae  Pedicularis\\n                cranolopha  28522  1413  1998   \n",
       "3  Orobanchaceae  Pedicularis\\n                cranolopha  28746  1640  1998   \n",
       "\n",
       "                shortname   latitude   longitude  \n",
       "0  Pedicularis-cranolopha  30.850278  101.276667  \n",
       "1  Pedicularis-cranolopha  31.660000  100.712778  \n",
       "2  Pedicularis-cranolopha  29.141111   99.928333  \n",
       "3  Pedicularis-cranolopha  29.103056   99.631944  "
      ]
     },
     "execution_count": 9,
     "metadata": {},
     "output_type": "execute_result"
    }
   ],
   "source": [
    "# see first N records\n",
    "test.filter_by_max_year(1998)"
   ]
  },
  {
   "cell_type": "markdown",
   "metadata": {},
   "source": [
    "# MAP"
   ]
  },
  {
   "cell_type": "markdown",
   "metadata": {},
   "source": [
    "### A class object to map lat long data"
   ]
  },
  {
   "cell_type": "code",
   "execution_count": 12,
   "metadata": {},
   "outputs": [
    {
     "data": {
      "text/plain": [
       "(11.509995655950528, 3.3941125496954276)"
      ]
     },
     "execution_count": 12,
     "metadata": {},
     "output_type": "execute_result"
    }
   ],
   "source": [
    "# make size a function of year\n",
    "y = 2018\n",
    "x = 1997\n",
    "import numpy as np\n",
    "\n",
    "def yearsize(x):\n",
    "    diff = x - 1995\n",
    "    ndiff = 1 - (diff / 25)\n",
    "    return 12 * np.sqrt(ndiff)\n",
    "    \n",
    "    \n",
    "yearsize(x), yearsize(y)"
   ]
  },
  {
   "cell_type": "code",
   "execution_count": 13,
   "metadata": {},
   "outputs": [],
   "source": [
    "class Map:\n",
    "    def __init__(self, hlocs=None, nlocs=None, height=None, width=None):\n",
    "                 #color=None):\n",
    "        \n",
    "        # store attributes\n",
    "        self.nlocs = nlocs\n",
    "        self.hlocs = hlocs\n",
    "        self.alldata = pd.concat([self.nlocs, self.hlocs], sort=False)\n",
    "        #self.color = color\n",
    "        \n",
    "        # create map with zoom x and location y\n",
    "        if not width:\n",
    "            width = 450\n",
    "        if not height:\n",
    "            height = width\n",
    "        \n",
    "        self.map = folium.Map(\n",
    "            location=[30.3849, 101.0083],\n",
    "            zoom_start=6.5,\n",
    "            #location=[self.alldata.latitude.mean(), self.alldata.longitude.mean()],\n",
    "            tiles='Stamen Terrain'\n",
    "        )\n",
    "\n",
    "        # add points\n",
    "        if isinstance(nlocs, pd.DataFrame):\n",
    "            self.add_nlocs()\n",
    "        if isinstance(hlocs, pd.DataFrame):\n",
    "            self.add_hlocs()\n",
    "            \n",
    "    def draw(self):\n",
    "        # fit bounds of map to show all points\n",
    "        latlongtuples = [\n",
    "            self.alldata[[\"latitude\", \"longitude\"]].iloc[i].tolist() for i in self.alldata.index\n",
    "        ]\n",
    "        #self.map.fit_bounds(latlongtuples)\n",
    "        return self.map\n",
    "       \n",
    "    def add_nlocs(self):\n",
    "        for idx in self.nlocs.index:\n",
    "            lat, long = self.nlocs.iloc[idx].latitude, self.nlocs.iloc[idx].longitude\n",
    "            folium.CircleMarker(\n",
    "                location=[lat, long],\n",
    "                color='rgba(85.1%,37.3%,0.8%,1.000)',\n",
    "                #color= self.color,\n",
    "                fill=True,\n",
    "                fill_color='rgba(85.1%,37.3%,0.8%,1.000)',\n",
    "                #fill_color=self.color,\n",
    "                radius= 5, #2 * (1 - (self.nlocs.iloc[idx].year.astype(int) / 2018)),\n",
    "                popup=\" | \".join(self.nlocs.iloc[idx][[\"shortname\", \"cid\", \"year\"]].tolist()),\n",
    "                #icon=folium.Icon(color=\"blue\", icon=\"circle\", prefix=\"fa\"),\n",
    "            ).add_to(self.map)\n",
    " \n",
    "    def add_hlocs(self):\n",
    "        for idx in self.hlocs.index:\n",
    "            lat, long = self.hlocs.iloc[idx].latitude, self.hlocs.iloc[idx].longitude\n",
    "            folium.CircleMarker(\n",
    "                location=[lat, long],\n",
    "                color='rgba(45.9%,43.9%,70.2%,1.000)',\n",
    "                #color= self.color,\n",
    "                fill=True,\n",
    "                fill_color='rgba(45.9%,43.9%,70.2%,1.000)',\n",
    "                #fill_color= self.color,\n",
    "                radius=yearsize(int(self.hlocs.iloc[idx].year)),\n",
    "                popup=\" | \".join(self.hlocs.iloc[idx][[\"shortname\", \"cid\", \"year\"]].tolist()),\n",
    "                #icon=folium.Icon(color=\"red\", icon=\"circle\", prefix=\"fa\",\n",
    "            ).add_to(self.map)\n",
    "        "
   ]
  },
  {
   "cell_type": "code",
   "execution_count": 5,
   "metadata": {},
   "outputs": [
    {
     "data": {
      "text/plain": [
       "'rgba(45.9%,43.9%,70.2%,1.000)'"
      ]
     },
     "execution_count": 5,
     "metadata": {},
     "output_type": "execute_result"
    }
   ],
   "source": [
    "import toyplot\n",
    "\n",
    "a = toyplot.color.brewer.palette(\"Dark2\")\n",
    "toyplot.color.to_css(a[2])"
   ]
  },
  {
   "cell_type": "code",
   "execution_count": 14,
   "metadata": {
    "scrolled": true
   },
   "outputs": [
    {
     "data": {
      "text/html": [
       "<div style=\"width:100%;\"><div style=\"position:relative;width:100%;height:0;padding-bottom:60%;\"><iframe src=\"data:text/html;charset=utf-8;base64,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\" style=\"position:absolute;width:100%;height:100%;left:0;top:0;border:none !important;\" allowfullscreen webkitallowfullscreen mozallowfullscreen></iframe></div></div>"
      ],
      "text/plain": [
       "<folium.folium.Map at 0x11b14bd30>"
      ]
     },
     "execution_count": 14,
     "metadata": {},
     "output_type": "execute_result"
    }
   ],
   "source": [
    "# draw historical (blue) and newer collections (red)\n",
    "m = Map(hlocs=test.filter_by_max_year(1998), nlocs=test.data).draw()\n",
    "m.add_child(folium.LatLngPopup())\n",
    "#m.save(\"\")"
   ]
  },
  {
   "cell_type": "code",
   "execution_count": 15,
   "metadata": {},
   "outputs": [
    {
     "data": {
      "text/html": [
       "<div style=\"width:100%;\"><div style=\"position:relative;width:100%;height:0;padding-bottom:60%;\"><iframe src=\"data:text/html;charset=utf-8;base64,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\" style=\"position:absolute;width:100%;height:100%;left:0;top:0;border:none !important;\" allowfullscreen webkitallowfullscreen mozallowfullscreen></iframe></div></div>"
      ],
      "text/plain": [
       "<folium.folium.Map at 0x107ec9a90>"
      ]
     },
     "execution_count": 15,
     "metadata": {},
     "output_type": "execute_result"
    }
   ],
   "source": [
    "rhinanth = Hengduan(\"ped rhinanth\", True)\n",
    "# draw historical (blue) and newer collections (red)\n",
    "m = Map(hlocs=rhinanth.filter_by_max_year(1997), nlocs=rhinanth.data)\n",
    "m.draw()\n",
    "#m.map.save(outfile=\"../example.html\")"
   ]
  },
  {
   "cell_type": "markdown",
   "metadata": {},
   "source": [
    "### Load our 2018-19 collections into a DataFrame"
   ]
  },
  {
   "cell_type": "code",
   "execution_count": 16,
   "metadata": {},
   "outputs": [],
   "source": [
    "class New:\n",
    "    def __init__(self, df):\n",
    "        self._load_2018_dataframe(df)\n",
    "        \n",
    "    def subset(self, taxon):\n",
    "        return self.data[self.data.shortname.apply(lambda x: taxon in x)].reset_index()\n",
    "\n",
    "    def _load_2018_dataframe(self, df):\n",
    "        # load Data\n",
    "        data = pd.read_csv(df)\n",
    "\n",
    "        # drop unidentified\n",
    "        data = data[data.species_epithet.notna()]\n",
    "\n",
    "        # select just the columns we want\n",
    "        data = data[[\"accession\", \"locality\", \"date\", \"latitude\", \"longitude\", \"genus\", \"species_epithet\"]]\n",
    "        data[\"shortname\"] = data[[\"genus\", \"species_epithet\"]].apply(lambda x: '-'.join(x), axis=1)\n",
    "\n",
    "        # convert lat longs to decimals\n",
    "        def convert_gps(tude):\n",
    "            deg, _ = tude.split(\"°\")\n",
    "            minu, _ = _.split(\"'\")\n",
    "            seco = _.split('\"')[0]\n",
    "            tude = \"-\".join([deg, minu, seco])\n",
    "            return sum(float(x) / 60 ** n for n, x in enumerate(tude.split('-')))  \n",
    "\n",
    "        data[\"lat\"] = data.latitude.apply(convert_gps)\n",
    "        data[\"long\"] = data.longitude.apply(convert_gps)\n",
    "        data.head()\n",
    "\n",
    "        data[\"year\"] = data.date.apply(lambda x: x.split(\"/\")[-1])\n",
    "        data[\"cid\"] = data[\"accession\"]\n",
    "\n",
    "        # convert label names to match with Hengduan object\n",
    "        data = data.drop(columns=[\"latitude\", \"longitude\", \"genus\", \"species_epithet\", \"date\", \"accession\"])\n",
    "        data = data.rename({\"lat\": \"latitude\", \"long\": \"longitude\", \"locality\": \"sid\"}, axis='columns')\n",
    "        self.data = data"
   ]
  },
  {
   "cell_type": "code",
   "execution_count": 17,
   "metadata": {},
   "outputs": [],
   "source": [
    "# create an instance to hold all the 2018-19 data\n",
    "newdata = New(\"/Users/jaredmeek/Desktop/hengduan/fieldnotes/fieldnotes_combined.csv\")"
   ]
  },
  {
   "cell_type": "code",
   "execution_count": 18,
   "metadata": {},
   "outputs": [
    {
     "data": {
      "text/html": [
       "<div>\n",
       "<style scoped>\n",
       "    .dataframe tbody tr th:only-of-type {\n",
       "        vertical-align: middle;\n",
       "    }\n",
       "\n",
       "    .dataframe tbody tr th {\n",
       "        vertical-align: top;\n",
       "    }\n",
       "\n",
       "    .dataframe thead th {\n",
       "        text-align: right;\n",
       "    }\n",
       "</style>\n",
       "<table border=\"1\" class=\"dataframe\">\n",
       "  <thead>\n",
       "    <tr style=\"text-align: right;\">\n",
       "      <th></th>\n",
       "      <th>index</th>\n",
       "      <th>sid</th>\n",
       "      <th>shortname</th>\n",
       "      <th>latitude</th>\n",
       "      <th>longitude</th>\n",
       "      <th>year</th>\n",
       "      <th>cid</th>\n",
       "    </tr>\n",
       "  </thead>\n",
       "  <tbody>\n",
       "    <tr>\n",
       "      <th>0</th>\n",
       "      <td>3</td>\n",
       "      <td>2.0</td>\n",
       "      <td>Pedicularis-longiflora</td>\n",
       "      <td>27.959194</td>\n",
       "      <td>99.707167</td>\n",
       "      <td>2018</td>\n",
       "      <td>DE4</td>\n",
       "    </tr>\n",
       "    <tr>\n",
       "      <th>1</th>\n",
       "      <td>53</td>\n",
       "      <td>14.0</td>\n",
       "      <td>Pedicularis-longiflora</td>\n",
       "      <td>29.144722</td>\n",
       "      <td>100.034778</td>\n",
       "      <td>2018</td>\n",
       "      <td>DE54</td>\n",
       "    </tr>\n",
       "    <tr>\n",
       "      <th>2</th>\n",
       "      <td>60</td>\n",
       "      <td>16.0</td>\n",
       "      <td>Pedicularis-longiflora</td>\n",
       "      <td>29.334861</td>\n",
       "      <td>100.099417</td>\n",
       "      <td>2018</td>\n",
       "      <td>DE61</td>\n",
       "    </tr>\n",
       "    <tr>\n",
       "      <th>3</th>\n",
       "      <td>131</td>\n",
       "      <td>31.0</td>\n",
       "      <td>Pedicularis-longiflora</td>\n",
       "      <td>30.419167</td>\n",
       "      <td>101.548056</td>\n",
       "      <td>2018</td>\n",
       "      <td>DE132</td>\n",
       "    </tr>\n",
       "    <tr>\n",
       "      <th>4</th>\n",
       "      <td>140</td>\n",
       "      <td>33.0</td>\n",
       "      <td>Pedicularis-longiflora</td>\n",
       "      <td>30.577028</td>\n",
       "      <td>101.417972</td>\n",
       "      <td>2018</td>\n",
       "      <td>DE141</td>\n",
       "    </tr>\n",
       "  </tbody>\n",
       "</table>\n",
       "</div>"
      ],
      "text/plain": [
       "   index   sid               shortname   latitude   longitude  year    cid\n",
       "0      3   2.0  Pedicularis-longiflora  27.959194   99.707167  2018    DE4\n",
       "1     53  14.0  Pedicularis-longiflora  29.144722  100.034778  2018   DE54\n",
       "2     60  16.0  Pedicularis-longiflora  29.334861  100.099417  2018   DE61\n",
       "3    131  31.0  Pedicularis-longiflora  30.419167  101.548056  2018  DE132\n",
       "4    140  33.0  Pedicularis-longiflora  30.577028  101.417972  2018  DE141"
      ]
     },
     "execution_count": 18,
     "metadata": {},
     "output_type": "execute_result"
    }
   ],
   "source": [
    "# get a subset data set for a specific taxon\n",
    "newdata.subset(\"longiflora\").head()"
   ]
  },
  {
   "cell_type": "markdown",
   "metadata": {},
   "source": [
    "## Phylogeographic maps"
   ]
  },
  {
   "cell_type": "code",
   "execution_count": 13,
   "metadata": {},
   "outputs": [],
   "source": [
    "crano = Map(\n",
    "    #width=\"50%\", \n",
    "    #height=\"40%\",\n",
    "    nlocs=newdata.subset(\"cranolopha\"),\n",
    "    hlocs=Hengduan(\"Ped cranolopha\", True).filter_by_max_year(2019),\n",
    ").draw()\n",
    "\n",
    "#crano.save(\"/Users/jaredmeek/Desktop/hengduan/maps/pedmaps_python/cranolopha.html\")"
   ]
  },
  {
   "cell_type": "code",
   "execution_count": null,
   "metadata": {},
   "outputs": [],
   "source": [
    "integ = Map(\n",
    "    #width=\"50%\", \n",
    "    #height=\"40%\",\n",
    "    nlocs=newdata.subset(\"integrifolia\"),\n",
    "    hlocs=Hengduan(\"Ped integrifolia\", True).filter_by_max_year(2019),\n",
    ").draw()\n",
    "\n",
    "#integ.save(\"/Users/jaredmeek/Desktop/hengduan/maps/pedmaps_python/integrifolia.html\")"
   ]
  },
  {
   "cell_type": "code",
   "execution_count": 9,
   "metadata": {},
   "outputs": [],
   "source": [
    "kansu = Map(\n",
    "    #width=\"50%\", \n",
    "    #height=\"40%\",\n",
    "    nlocs=newdata.subset(\"kansuensis\"),\n",
    "    hlocs=Hengduan(\"Ped kansuensis\", True).filter_by_max_year(2019),\n",
    ").draw()\n",
    "\n",
    "#kansu.save(\"/Users/jaredmeek/Desktop/hengduan/maps/pedmaps_python/kansuensis.html\")"
   ]
  },
  {
   "cell_type": "code",
   "execution_count": null,
   "metadata": {},
   "outputs": [],
   "source": [
    "lachno = Map(\n",
    "    #width=\"50%\", \n",
    "    #height=\"40%\",\n",
    "    nlocs=newdata.subset(\"lachnoglossa\"),\n",
    "    hlocs=Hengduan(\"Ped lachnoglossa\", True).filter_by_max_year(2019),\n",
    ").draw()\n",
    "\n",
    "#lachno.save(\"/Users/jaredmeek/Desktop/hengduan/maps/pedmaps_python/lachnoglossa.html\")"
   ]
  },
  {
   "cell_type": "code",
   "execution_count": null,
   "metadata": {},
   "outputs": [],
   "source": [
    "longi = Map(\n",
    "    #width=\"50%\", \n",
    "    #height=\"40%\",\n",
    "    nlocs=newdata.subset(\"longiflora\"),\n",
    "    hlocs=Hengduan(\"Ped longiflora\", True).filter_by_max_year(2019),\n",
    ").draw()\n",
    "\n",
    "#longi.save(\"/Users/jaredmeek/Desktop/hengduan/maps/pedmaps_python/longiflora.html\")"
   ]
  },
  {
   "cell_type": "code",
   "execution_count": null,
   "metadata": {},
   "outputs": [],
   "source": [
    "rhinanth = Map(\n",
    "    #width=\"50%\", \n",
    "    #height=\"40%\",\n",
    "    nlocs=newdata.subset(\"rhinanthoides\"),\n",
    "    hlocs=Hengduan(\"Ped rhinanthoides\", True).filter_by_max_year(2019),\n",
    ").draw()\n",
    "\n",
    "#rhinanth.save(\"/Users/jaredmeek/Desktop/hengduan/maps/pedmaps_python/rhinanthoides.html\")"
   ]
  },
  {
   "cell_type": "markdown",
   "metadata": {},
   "source": [
    "## Maps for species with synonyms"
   ]
  },
  {
   "cell_type": "markdown",
   "metadata": {},
   "source": [
    "#### kansuensis + 16 species (Verticillatae clade)"
   ]
  },
  {
   "cell_type": "code",
   "execution_count": 14,
   "metadata": {},
   "outputs": [],
   "source": [
    "# create list of relevant species\n",
    "kansulist = [\n",
    "    'anthemifolia',\n",
    "    'bomiensis',\n",
    "    'brachycrania',\n",
    "    'diffusa',\n",
    "    'glabrescens',\n",
    "    'kansuensis',\n",
    "    'likiangensis',\n",
    "    'lineata',\n",
    "    'minutilabris',\n",
    "    'nyalamensis',\n",
    "    'roylei',\n",
    "    'rupicola',\n",
    "    'szetschuanica',\n",
    "    'tenera',\n",
    "    'triangularidens',\n",
    "    'verticillata',\n",
    "    'zayuensis'\n",
    "]"
   ]
  },
  {
   "cell_type": "code",
   "execution_count": null,
   "metadata": {},
   "outputs": [],
   "source": [
    "# create list for historical locations and search Hengduan database for each species\n",
    "historical = []\n",
    "for taxon in kansulist:\n",
    "    print(taxon)\n",
    "    historical.append(Hengduan(\"Pedicularis \" + taxon, True).filter_by_max_year(2019))"
   ]
  },
  {
   "cell_type": "code",
   "execution_count": 31,
   "metadata": {},
   "outputs": [],
   "source": [
    "# concatenate historical locations\n",
    "h_phylo_kansu = historical[0]\n",
    "for taxon in range(1, len(historical)):\n",
    "    h_phylo_kansu = pd.concat([h_phylo_kansu, historical[taxon]], ignore_index=True)"
   ]
  },
  {
   "cell_type": "code",
   "execution_count": null,
   "metadata": {},
   "outputs": [],
   "source": [
    "h_phylo_kansu"
   ]
  },
  {
   "cell_type": "code",
   "execution_count": null,
   "metadata": {},
   "outputs": [],
   "source": [
    "# create list for new locations and store data frames for each species in list\n",
    "contemp = []\n",
    "for taxon in kansulist:\n",
    "    print(taxon)\n",
    "    contemp.append(newdata.subset(taxon))"
   ]
  },
  {
   "cell_type": "code",
   "execution_count": 34,
   "metadata": {},
   "outputs": [],
   "source": [
    "# concatenate new locations\n",
    "n_phylo_kansu = contemp[0]\n",
    "for taxon in range(1, len(contemp)):\n",
    "    n_phylo_kansu = pd.concat([n_phylo_kansu, contemp[taxon]], ignore_index=True)"
   ]
  },
  {
   "cell_type": "code",
   "execution_count": null,
   "metadata": {},
   "outputs": [],
   "source": [
    "n_phylo_kansu"
   ]
  },
  {
   "cell_type": "code",
   "execution_count": null,
   "metadata": {},
   "outputs": [],
   "source": [
    "# check which historical species names we collected in 2018-2019\n",
    "for idx in range(len(kansulist)):\n",
    "    print(kansulist[idx])\n",
    "    print(contemp[idx])"
   ]
  },
  {
   "cell_type": "code",
   "execution_count": 19,
   "metadata": {},
   "outputs": [],
   "source": [
    "# combine historical and new locations, draw map, and save\n",
    "kansu_plus = Map(\n",
    "    hlocs=h_phylo_kansu,\n",
    "    nlocs=n_phylo_kansu\n",
    ").draw()\n",
    "\n",
    "#kansu_plus.save(\"/Users/jaredmeek/Desktop/hengduan/maps/pedmaps_python/kansu_plus.html\")"
   ]
  },
  {
   "cell_type": "markdown",
   "metadata": {},
   "source": [
    "#### cranolopha"
   ]
  },
  {
   "cell_type": "code",
   "execution_count": 37,
   "metadata": {},
   "outputs": [],
   "source": [
    "cranolist = [\n",
    "    'cranolopha',\n",
    "    'croizatiana',\n",
    "    'tricolor'\n",
    "]"
   ]
  },
  {
   "cell_type": "code",
   "execution_count": null,
   "metadata": {},
   "outputs": [],
   "source": [
    "historical = []\n",
    "for taxon in cranolist:\n",
    "    print(taxon)\n",
    "    historical.append(Hengduan(\"Pedicularis \" + taxon, True).filter_by_max_year(2019))"
   ]
  },
  {
   "cell_type": "code",
   "execution_count": null,
   "metadata": {},
   "outputs": [],
   "source": [
    "h_crano = historical[0]\n",
    "for taxon in range(1, len(historical)):\n",
    "    h_crano = pd.concat([h_crano, historical[taxon]], ignore_index=True)\n",
    "    \n",
    "h_crano    "
   ]
  },
  {
   "cell_type": "code",
   "execution_count": null,
   "metadata": {},
   "outputs": [],
   "source": [
    "contemp = []\n",
    "for taxon in cranolist:\n",
    "    print(taxon)\n",
    "    contemp.append(newdata.subset(taxon))"
   ]
  },
  {
   "cell_type": "code",
   "execution_count": null,
   "metadata": {},
   "outputs": [],
   "source": [
    "n_crano = contemp[0]\n",
    "for taxon in range(1, len(contemp)):\n",
    "    n_crano = pd.concat([n_crano, contemp[taxon]], ignore_index=True)\n",
    "    \n",
    "n_crano "
   ]
  },
  {
   "cell_type": "code",
   "execution_count": 28,
   "metadata": {},
   "outputs": [],
   "source": [
    "crano_plus = Map(\n",
    "    hlocs=h_crano,\n",
    "    nlocs=n_crano\n",
    ").draw()\n",
    "\n",
    "#crano_plus.save(\"/Users/jaredmeek/Desktop/hengduan/maps/pedmaps_python/crano_plus.html\")"
   ]
  },
  {
   "cell_type": "markdown",
   "metadata": {},
   "source": [
    "#### lyrata"
   ]
  },
  {
   "cell_type": "code",
   "execution_count": null,
   "metadata": {},
   "outputs": [],
   "source": [
    "lyratalist = [\n",
    "    'lyrata',\n",
    "    'lutescens',\n",
    "    'dolichoglossa',\n",
    "    'polyodonta'\n",
    "]"
   ]
  },
  {
   "cell_type": "code",
   "execution_count": null,
   "metadata": {},
   "outputs": [],
   "source": [
    "historical = []\n",
    "for taxon in lyratalist:\n",
    "    print(taxon)\n",
    "    historical.append(Hengduan(\"Pedicularis \" + taxon, True).filter_by_max_year(1998))"
   ]
  },
  {
   "cell_type": "code",
   "execution_count": null,
   "metadata": {},
   "outputs": [],
   "source": [
    "h_lyrata = historical[0]\n",
    "for taxon in range(1, len(historical)):\n",
    "    h_lyrata = pd.concat([h_lyrata, historical[taxon]], ignore_index=True)\n",
    "    \n",
    "h_lyrata"
   ]
  },
  {
   "cell_type": "code",
   "execution_count": null,
   "metadata": {},
   "outputs": [],
   "source": [
    "contemp = []\n",
    "for taxon in lyratalist:\n",
    "    print(taxon)\n",
    "    contemp.append(newdata.subset(taxon))"
   ]
  },
  {
   "cell_type": "code",
   "execution_count": null,
   "metadata": {},
   "outputs": [],
   "source": [
    "n_lyrata = contemp[0]\n",
    "for taxon in range(1, len(contemp)):\n",
    "    n_lyrata = pd.concat([n_lyrata, contemp[taxon]], ignore_index=True)\n",
    "    \n",
    "n_lyrata"
   ]
  },
  {
   "cell_type": "code",
   "execution_count": 84,
   "metadata": {},
   "outputs": [],
   "source": [
    "lyrata_plus = Map(\n",
    "    hlocs=h_lyrata,\n",
    "    nlocs=n_lyrata\n",
    ").draw()\n",
    "\n",
    "lyrata_plus.save(\"/Users/jaredmeek/Desktop/hengduan/maps/pedmaps_python/lyrata_plus.html\")"
   ]
  },
  {
   "cell_type": "markdown",
   "metadata": {},
   "source": [
    "#### anas"
   ]
  },
  {
   "cell_type": "code",
   "execution_count": 85,
   "metadata": {},
   "outputs": [],
   "source": [
    "anaslist = [\n",
    "    'anas',\n",
    "    'cheilanthifolia'\n",
    "]"
   ]
  },
  {
   "cell_type": "code",
   "execution_count": null,
   "metadata": {},
   "outputs": [],
   "source": [
    "historical = []\n",
    "for taxon in anaslist:\n",
    "    print(taxon)\n",
    "    historical.append(Hengduan(\"Pedicularis \" + taxon, True).filter_by_max_year(1998))"
   ]
  },
  {
   "cell_type": "code",
   "execution_count": null,
   "metadata": {},
   "outputs": [],
   "source": [
    "h_anas = historical[0]\n",
    "for taxon in range(1, len(historical)):\n",
    "    h_anas = pd.concat([h_anas, historical[taxon]], ignore_index=True)\n",
    "    \n",
    "h_anas"
   ]
  },
  {
   "cell_type": "code",
   "execution_count": null,
   "metadata": {},
   "outputs": [],
   "source": [
    "contemp = []\n",
    "for taxon in anaslist:\n",
    "    print(taxon)\n",
    "    contemp.append(newdata.subset(taxon))"
   ]
  },
  {
   "cell_type": "code",
   "execution_count": null,
   "metadata": {},
   "outputs": [],
   "source": [
    "n_anas = contemp[0]\n",
    "for taxon in range(1, len(contemp)):\n",
    "    n_anas = pd.concat([n_anas, contemp[taxon]], ignore_index=True)\n",
    "    \n",
    "n_anas"
   ]
  },
  {
   "cell_type": "code",
   "execution_count": 90,
   "metadata": {},
   "outputs": [],
   "source": [
    "anas_plus = Map(\n",
    "    hlocs=h_anas,\n",
    "    nlocs=n_anas\n",
    ").draw()\n",
    "\n",
    "anas_plus.save(\"/Users/jaredmeek/Desktop/hengduan/maps/pedmaps_python/anas_plus.html\")"
   ]
  },
  {
   "cell_type": "markdown",
   "metadata": {},
   "source": [
    "#### ingens"
   ]
  },
  {
   "cell_type": "code",
   "execution_count": 93,
   "metadata": {},
   "outputs": [],
   "source": [
    "h_ingens = Hengduan(\"Pedicularis ingens\", True).filter_by_max_year(1998)\n",
    "h_rudis = Hengduan(\"Pedicularis rudis\", True).filter_by_max_year(1998)"
   ]
  },
  {
   "cell_type": "code",
   "execution_count": null,
   "metadata": {},
   "outputs": [],
   "source": [
    "h_locs = pd.concat([h_ingens, h_rudis], ignore_index=True)\n",
    "h_locs"
   ]
  },
  {
   "cell_type": "code",
   "execution_count": 104,
   "metadata": {},
   "outputs": [],
   "source": [
    "n_ingens = newdata.subset(\"ingens\")\n",
    "n_rudis = newdata.subset(\"rudis\")"
   ]
  },
  {
   "cell_type": "code",
   "execution_count": null,
   "metadata": {},
   "outputs": [],
   "source": [
    "n_locs = pd.concat([n_ingens, n_rudis], ignore_index=True)\n",
    "n_locs"
   ]
  },
  {
   "cell_type": "code",
   "execution_count": 108,
   "metadata": {},
   "outputs": [],
   "source": [
    "ingens_plus = Map(\n",
    "    hlocs=h_locs,\n",
    "    nlocs=n_locs\n",
    ").draw()\n",
    "\n",
    "ingens_plus.save(\"/Users/jaredmeek/Desktop/hengduan/maps/pedmaps_python/ingens_plus.html\")"
   ]
  },
  {
   "cell_type": "markdown",
   "metadata": {},
   "source": [
    "#### rhodotricha (not necessary, no historical trichoglossa"
   ]
  },
  {
   "cell_type": "code",
   "execution_count": 110,
   "metadata": {},
   "outputs": [],
   "source": [
    "h_rhodo = Hengduan(\"Ped rhodotricha\", True).filter_by_max_year(1998)\n",
    "h_tricho = Hengduan(\"Ped trichoglossa\", True).filter_by_max_year(1998)"
   ]
  },
  {
   "cell_type": "code",
   "execution_count": 112,
   "metadata": {},
   "outputs": [
    {
     "name": "stdout",
     "output_type": "stream",
     "text": [
      "Empty DataFrame\n",
      "Columns: [family, taxon, cid, sid, year, shortname, latitude, longitude]\n",
      "Index: []\n"
     ]
    }
   ],
   "source": [
    "print(h_tricho)"
   ]
  },
  {
   "cell_type": "code",
   "execution_count": 111,
   "metadata": {},
   "outputs": [
    {
     "data": {
      "text/html": [
       "<div>\n",
       "<style scoped>\n",
       "    .dataframe tbody tr th:only-of-type {\n",
       "        vertical-align: middle;\n",
       "    }\n",
       "\n",
       "    .dataframe tbody tr th {\n",
       "        vertical-align: top;\n",
       "    }\n",
       "\n",
       "    .dataframe thead th {\n",
       "        text-align: right;\n",
       "    }\n",
       "</style>\n",
       "<table border=\"1\" class=\"dataframe\">\n",
       "  <thead>\n",
       "    <tr style=\"text-align: right;\">\n",
       "      <th></th>\n",
       "      <th>family</th>\n",
       "      <th>taxon</th>\n",
       "      <th>cid</th>\n",
       "      <th>sid</th>\n",
       "      <th>year</th>\n",
       "      <th>shortname</th>\n",
       "      <th>latitude</th>\n",
       "      <th>longitude</th>\n",
       "    </tr>\n",
       "  </thead>\n",
       "  <tbody>\n",
       "    <tr>\n",
       "      <th>0</th>\n",
       "      <td>Orobanchaceae</td>\n",
       "      <td>Pedicularis\\n                rhodotricha</td>\n",
       "      <td>27903</td>\n",
       "      <td>789</td>\n",
       "      <td>1997</td>\n",
       "      <td>Pedicularis-rhodotricha</td>\n",
       "      <td>31.706111</td>\n",
       "      <td>102.313889</td>\n",
       "    </tr>\n",
       "    <tr>\n",
       "      <th>1</th>\n",
       "      <td>Orobanchaceae</td>\n",
       "      <td>Pedicularis\\n                rhodotricha</td>\n",
       "      <td>28613</td>\n",
       "      <td>1504</td>\n",
       "      <td>1998</td>\n",
       "      <td>Pedicularis-rhodotricha</td>\n",
       "      <td>29.112222</td>\n",
       "      <td>100.032778</td>\n",
       "    </tr>\n",
       "    <tr>\n",
       "      <th>2</th>\n",
       "      <td>Orobanchaceae</td>\n",
       "      <td>Pedicularis\\n                rhodotricha</td>\n",
       "      <td>28872</td>\n",
       "      <td>1767</td>\n",
       "      <td>1998</td>\n",
       "      <td>Pedicularis-rhodotricha</td>\n",
       "      <td>29.072500</td>\n",
       "      <td>99.632222</td>\n",
       "    </tr>\n",
       "    <tr>\n",
       "      <th>3</th>\n",
       "      <td>Orobanchaceae</td>\n",
       "      <td>Pedicularis\\n                rhodotricha</td>\n",
       "      <td>28979</td>\n",
       "      <td>1874</td>\n",
       "      <td>1998</td>\n",
       "      <td>Pedicularis-rhodotricha</td>\n",
       "      <td>29.001944</td>\n",
       "      <td>99.742778</td>\n",
       "    </tr>\n",
       "  </tbody>\n",
       "</table>\n",
       "</div>"
      ],
      "text/plain": [
       "          family                                     taxon    cid   sid  year  \\\n",
       "0  Orobanchaceae  Pedicularis\\n                rhodotricha  27903   789  1997   \n",
       "1  Orobanchaceae  Pedicularis\\n                rhodotricha  28613  1504  1998   \n",
       "2  Orobanchaceae  Pedicularis\\n                rhodotricha  28872  1767  1998   \n",
       "3  Orobanchaceae  Pedicularis\\n                rhodotricha  28979  1874  1998   \n",
       "\n",
       "                 shortname   latitude   longitude  \n",
       "0  Pedicularis-rhodotricha  31.706111  102.313889  \n",
       "1  Pedicularis-rhodotricha  29.112222  100.032778  \n",
       "2  Pedicularis-rhodotricha  29.072500   99.632222  \n",
       "3  Pedicularis-rhodotricha  29.001944   99.742778  "
      ]
     },
     "execution_count": 111,
     "metadata": {},
     "output_type": "execute_result"
    }
   ],
   "source": [
    "h_locs = pd.concat([h_rhodo, h_tricho], ignore_index=True)\n",
    "h_locs"
   ]
  },
  {
   "cell_type": "markdown",
   "metadata": {},
   "source": [
    "## Maps for historical-contemporary species"
   ]
  },
  {
   "cell_type": "code",
   "execution_count": 63,
   "metadata": {},
   "outputs": [
    {
     "data": {
      "text/html": [
       "<div style=\"width:100%;\"><div style=\"position:relative;width:100%;height:0;padding-bottom:60%;\"><iframe src=\"data:text/html;charset=utf-8;base64,PCFET0NUWVBFIGh0bWw+CjxoZWFkPiAgICAKICAgIDxtZXRhIGh0dHAtZXF1aXY9ImNvbnRlbnQtdHlwZSIgY29udGVudD0idGV4dC9odG1sOyBjaGFyc2V0PVVURi04IiAvPgogICAgCiAgICAgICAgPHNjcmlwdD4KICAgICAgICAgICAgTF9OT19UT1VDSCA9IGZhbHNlOwogICAgICAgICAgICBMX0RJU0FCTEVfM0QgPSBmYWxzZTsKICAgICAgICA8L3NjcmlwdD4KICAgIAogICAgPHNjcmlwdCBzcmM9Imh0dHBzOi8vY2RuLmpzZGVsaXZyLm5ldC9ucG0vbGVhZmxldEAxLjUuMS9kaXN0L2xlYWZsZXQuanMiPjwvc2NyaXB0PgogICAgPHNjcmlwdCBzcmM9Imh0dHBzOi8vY29kZS5qcXVlcnkuY29tL2pxdWVyeS0xLjEyLjQubWluLmpzIj48L3NjcmlwdD4KICAgIDxzY3JpcHQgc3JjPSJodHRwczovL21heGNkbi5ib290c3RyYXBjZG4uY29tL2Jvb3RzdHJhcC8zLjIuMC9qcy9ib290c3RyYXAubWluLmpzIj48L3NjcmlwdD4KICAgIDxzY3JpcHQgc3JjPSJodHRwczovL2NkbmpzLmNsb3VkZmxhcmUuY29tL2FqYXgvbGlicy9MZWFmbGV0LmF3ZXNvbWUtbWFya2Vycy8yLjAuMi9sZWFmbGV0LmF3ZXNvbWUtbWFya2Vycy5qcyI+PC9zY3JpcHQ+CiAgICA8bGluayByZWw9InN0eWxlc2hlZXQiIGhyZWY9Imh0dHBzOi8vY2RuLmpzZGVsaXZyLm5ldC9ucG0vbGVhZmxldEAxLjUuMS9kaXN0L2xlYWZsZXQuY3NzIi8+CiAgICA8bGluayByZWw9InN0eWxlc2hlZXQiIGhyZWY9Imh0dHBzOi8vbWF4Y2RuLmJvb3RzdHJhcGNkbi5jb20vYm9vdHN0cmFwLzMuMi4wL2Nzcy9ib290c3RyYXAubWluLmNzcyIvPgogICAgPGxpbmsgcmVsPSJzdHlsZXNoZWV0IiBocmVmPSJodHRwczovL21heGNkbi5ib290c3RyYXBjZG4uY29tL2Jvb3RzdHJhcC8zLjIuMC9jc3MvYm9vdHN0cmFwLXRoZW1lLm1pbi5jc3MiLz4KICAgIDxsaW5rIHJlbD0ic3R5bGVzaGVldCIgaHJlZj0iaHR0cHM6Ly9tYXhjZG4uYm9vdHN0cmFwY2RuLmNvbS9mb250LWF3ZXNvbWUvNC42LjMvY3NzL2ZvbnQtYXdlc29tZS5taW4uY3NzIi8+CiAgICA8bGluayByZWw9InN0eWxlc2hlZXQiIGhyZWY9Imh0dHBzOi8vY2RuanMuY2xvdWRmbGFyZS5jb20vYWpheC9saWJzL0xlYWZsZXQuYXdlc29tZS1tYXJrZXJzLzIuMC4yL2xlYWZsZXQuYXdlc29tZS1tYXJrZXJzLmNzcyIvPgogICAgPGxpbmsgcmVsPSJzdHlsZXNoZWV0IiBocmVmPSJodHRwczovL3Jhd2Nkbi5naXRoYWNrLmNvbS9weXRob24tdmlzdWFsaXphdGlvbi9mb2xpdW0vbWFzdGVyL2ZvbGl1bS90ZW1wbGF0ZXMvbGVhZmxldC5hd2Vzb21lLnJvdGF0ZS5jc3MiLz4KICAgIDxzdHlsZT5odG1sLCBib2R5IHt3aWR0aDogMTAwJTtoZWlnaHQ6IDEwMCU7bWFyZ2luOiAwO3BhZGRpbmc6IDA7fTwvc3R5bGU+CiAgICA8c3R5bGU+I21hcCB7cG9zaXRpb246YWJzb2x1dGU7dG9wOjA7Ym90dG9tOjA7cmlnaHQ6MDtsZWZ0OjA7fTwvc3R5bGU+CiAgICAKICAgICAgICAgICAgPG1ldGEgbmFtZT0idmlld3BvcnQiIGNvbnRlbnQ9IndpZHRoPWRldmljZS13aWR0aCwKICAgICAgICAgICAgICAgIGluaXRpYWwtc2NhbGU9MS4wLCBtYXhpbXVtLXNjYWxlPTEuMCwgdXNlci1zY2FsYWJsZT1ubyIgLz4KICAgICAgICAgICAgPHN0eWxlPgogICAgICAgICAgICAgICAgI21hcF84NGM5NDNiN2Q1NDA0NDIwOThlN2YwYjlhYjdmY2I1ZSB7CiAgICAgICAgICAgICAgICAgICAgcG9zaXRpb246IHJlbGF0aXZlOwogICAgICAgICAgICAgICAgICAgIHdpZHRoOiAxMDAuMCU7CiAgICAgICAgICAgICAgICAgICAgaGVpZ2h0OiAxMDAuMCU7CiAgICAgICAgICAgICAgICAgICAgbGVmdDogMC4wJTsKICAgICAgICAgICAgICAgICAgICB0b3A6IDAuMCU7CiAgICAgICAgICAgICAgICB9CiAgICAgICAgICAgIDwvc3R5bGU+CiAgICAgICAgCjwvaGVhZD4KPGJvZHk+ICAgIAogICAgCiAgICAgICAgICAgIDxkaXYgY2xhc3M9ImZvbGl1bS1tYXAiIGlkPSJtYXBfODRjOTQzYjdkNTQwNDQyMDk4ZTdmMGI5YWI3ZmNiNWUiID48L2Rpdj4KICAgICAgICAKPC9ib2R5Pgo8c2NyaXB0PiAgICAKICAgIAogICAgICAgICAgICB2YXIgbWFwXzg0Yzk0M2I3ZDU0MDQ0MjA5OGU3ZjBiOWFiN2ZjYjVlID0gTC5tYXAoCiAgICAgICAgICAgICAgICAibWFwXzg0Yzk0M2I3ZDU0MDQ0MjA5OGU3ZjBiOWFiN2ZjYjVlIiwKICAgICAgICAgICAgICAgIHsKICAgICAgICAgICAgICAgICAgICBjZW50ZXI6IFszMC4zODQ5LCAxMDEuMDA4M10sCiAgICAgICAgICAgICAgICAgICAgY3JzOiBMLkNSUy5FUFNHMzg1NywKICAgICAgICAgICAgICAgICAgICB6b29tOiA2LjUsCiAgICAgICAgICAgICAgICAgICAgem9vbUNvbnRyb2w6IHRydWUsCiAgICAgICAgICAgICAgICAgICAgcHJlZmVyQ2FudmFzOiBmYWxzZSwKICAgICAgICAgICAgICAgIH0KICAgICAgICAgICAgKTsKCiAgICAgICAgICAgIAoKICAgICAgICAKICAgIAogICAgICAgICAgICB2YXIgdGlsZV9sYXllcl8yZmIwMzQ2ODg4Yjk0NmRiYmU4NWI2ZjIyZDdhMWJiMyA9IEwudGlsZUxheWVyKAogICAgICAgICAgICAgICAgImh0dHBzOi8vc3RhbWVuLXRpbGVzLXtzfS5hLnNzbC5mYXN0bHkubmV0L3RlcnJhaW4ve3p9L3t4fS97eX0uanBnIiwKICAgICAgICAgICAgICAgIHsiYXR0cmlidXRpb24iOiAiTWFwIHRpbGVzIGJ5IFx1MDAzY2EgaHJlZj1cImh0dHA6Ly9zdGFtZW4uY29tXCJcdTAwM2VTdGFtZW4gRGVzaWduXHUwMDNjL2FcdTAwM2UsIHVuZGVyIFx1MDAzY2EgaHJlZj1cImh0dHA6Ly9jcmVhdGl2ZWNvbW1vbnMub3JnL2xpY2Vuc2VzL2J5LzMuMFwiXHUwMDNlQ0MgQlkgMy4wXHUwMDNjL2FcdTAwM2UuIERhdGEgYnkgXHUwMDI2Y29weTsgXHUwMDNjYSBocmVmPVwiaHR0cDovL29wZW5zdHJlZXRtYXAub3JnXCJcdTAwM2VPcGVuU3RyZWV0TWFwXHUwMDNjL2FcdTAwM2UsIHVuZGVyIFx1MDAzY2EgaHJlZj1cImh0dHA6Ly9jcmVhdGl2ZWNvbW1vbnMub3JnL2xpY2Vuc2VzL2J5LXNhLzMuMFwiXHUwMDNlQ0MgQlkgU0FcdTAwM2MvYVx1MDAzZS4iLCAiZGV0ZWN0UmV0aW5hIjogZmFsc2UsICJtYXhOYXRpdmVab29tIjogMTgsICJtYXhab29tIjogMTgsICJtaW5ab29tIjogMCwgIm5vV3JhcCI6IGZhbHNlLCAib3BhY2l0eSI6IDEsICJzdWJkb21haW5zIjogImFiYyIsICJ0bXMiOiBmYWxzZX0KICAgICAgICAgICAgKS5hZGRUbyhtYXBfODRjOTQzYjdkNTQwNDQyMDk4ZTdmMGI5YWI3ZmNiNWUpOwogICAgICAgIAogICAgCiAgICAgICAgICAgIHZhciBjaXJjbGVfbWFya2VyXzRiNDAyYTIzOGNmZDQ3YTNhNDFjYzY4MjNmNWVjMTIyID0gTC5jaXJjbGVNYXJrZXIoCiAgICAgICAgICAgICAgICBbMjcuOTU5MTk0NDQ0NDQ0NDQyLCA5OS43MDcxNjY2NjY2NjY2N10sCiAgICAgICAgICAgICAgICB7ImJ1YmJsaW5nTW91c2VFdmVudHMiOiB0cnVlLCAiY29sb3IiOiAicmdiYSg4NS4xJSwzNy4zJSwwLjglLDEuMDAwKSIsICJkYXNoQXJyYXkiOiBudWxsLCAiZGFzaE9mZnNldCI6IG51bGwsICJmaWxsIjogdHJ1ZSwgImZpbGxDb2xvciI6ICJyZ2JhKDg1LjElLDM3LjMlLDAuOCUsMS4wMDApIiwgImZpbGxPcGFjaXR5IjogMC4yLCAiZmlsbFJ1bGUiOiAiZXZlbm9kZCIsICJsaW5lQ2FwIjogInJvdW5kIiwgImxpbmVKb2luIjogInJvdW5kIiwgIm9wYWNpdHkiOiAxLjAsICJyYWRpdXMiOiA1LCAic3Ryb2tlIjogdHJ1ZSwgIndlaWdodCI6IDN9CiAgICAgICAgICAgICkuYWRkVG8obWFwXzg0Yzk0M2I3ZDU0MDQ0MjA5OGU3ZjBiOWFiN2ZjYjVlKTsKICAgICAgICAKICAgIAogICAgICAgIHZhciBwb3B1cF82M2I5MzdiMWM1N2I0Zjc5OWYwZGJlODk0YjU4ZWEzMiA9IEwucG9wdXAoeyJtYXhXaWR0aCI6ICIxMDAlIn0pOwoKICAgICAgICAKICAgICAgICAgICAgdmFyIGh0bWxfZjM4YmM3YmJjNjgxNGU4MmI3N2ZmNjBiNGE2MDEyYjggPSAkKGA8ZGl2IGlkPSJodG1sX2YzOGJjN2JiYzY4MTRlODJiNzdmZjYwYjRhNjAxMmI4IiBzdHlsZT0id2lkdGg6IDEwMC4wJTsgaGVpZ2h0OiAxMDAuMCU7Ij5QZWRpY3VsYXJpcy1sb25naWZsb3JhIHwgREU0IHwgMjAxODwvZGl2PmApWzBdOwogICAgICAgICAgICBwb3B1cF82M2I5MzdiMWM1N2I0Zjc5OWYwZGJlODk0YjU4ZWEzMi5zZXRDb250ZW50KGh0bWxfZjM4YmM3YmJjNjgxNGU4MmI3N2ZmNjBiNGE2MDEyYjgpOwogICAgICAgIAoKICAgICAgICBjaXJjbGVfbWFya2VyXzRiNDAyYTIzOGNmZDQ3YTNhNDFjYzY4MjNmNWVjMTIyLmJpbmRQb3B1cChwb3B1cF82M2I5MzdiMWM1N2I0Zjc5OWYwZGJlODk0YjU4ZWEzMikKICAgICAgICA7CgogICAgICAgIAogICAgCiAgICAKICAgICAgICAgICAgdmFyIGNpcmNsZV9tYXJrZXJfMTJiMzE5NmUxZWEwNDIzZDgxNzI0ZmQ2MWIzOGQ5ZTMgPSBMLmNpcmNsZU1hcmtlcigKICAgICAgICAgICAgICAgIFsyOS4xNDQ3MjIyMjIyMjIyMiwgMTAwLjAzNDc3Nzc3Nzc3Nzc4XSwKICAgICAgICAgICAgICAgIHsiYnViYmxpbmdNb3VzZUV2ZW50cyI6IHRydWUsICJjb2xvciI6ICJyZ2JhKDg1LjElLDM3LjMlLDAuOCUsMS4wMDApIiwgImRhc2hBcnJheSI6IG51bGwsICJkYXNoT2Zmc2V0IjogbnVsbCwgImZpbGwiOiB0cnVlLCAiZmlsbENvbG9yIjogInJnYmEoODUuMSUsMzcuMyUsMC44JSwxLjAwMCkiLCAiZmlsbE9wYWNpdHkiOiAwLjIsICJmaWxsUnVsZSI6ICJldmVub2RkIiwgImxpbmVDYXAiOiAicm91bmQiLCAibGluZUpvaW4iOiAicm91bmQiLCAib3BhY2l0eSI6IDEuMCwgInJhZGl1cyI6IDUsICJzdHJva2UiOiB0cnVlLCAid2VpZ2h0IjogM30KICAgICAgICAgICAgKS5hZGRUbyhtYXBfODRjOTQzYjdkNTQwNDQyMDk4ZTdmMGI5YWI3ZmNiNWUpOwogICAgICAgIAogICAgCiAgICAgICAgdmFyIHBvcHVwXzlkMjY4Y2Y5NWYwMjRmNDVhOWJlOTc1MDI5ZjllNjVlID0gTC5wb3B1cCh7Im1heFdpZHRoIjogIjEwMCUifSk7CgogICAgICAgIAogICAgICAgICAgICB2YXIgaHRtbF80YWNhYjdlYjBiN2U0MDgxOWNkNjhlYjQ4MjcxMWU3OCA9ICQoYDxkaXYgaWQ9Imh0bWxfNGFjYWI3ZWIwYjdlNDA4MTljZDY4ZWI0ODI3MTFlNzgiIHN0eWxlPSJ3aWR0aDogMTAwLjAlOyBoZWlnaHQ6IDEwMC4wJTsiPlBlZGljdWxhcmlzLWxvbmdpZmxvcmEgfCBERTU0IHwgMjAxODwvZGl2PmApWzBdOwogICAgICAgICAgICBwb3B1cF85ZDI2OGNmOTVmMDI0ZjQ1YTliZTk3NTAyOWY5ZTY1ZS5zZXRDb250ZW50KGh0bWxfNGFjYWI3ZWIwYjdlNDA4MTljZDY4ZWI0ODI3MTFlNzgpOwogICAgICAgIAoKICAgICAgICBjaXJjbGVfbWFya2VyXzEyYjMxOTZlMWVhMDQyM2Q4MTcyNGZkNjFiMzhkOWUzLmJpbmRQb3B1cChwb3B1cF85ZDI2OGNmOTVmMDI0ZjQ1YTliZTk3NTAyOWY5ZTY1ZSkKICAgICAgICA7CgogICAgICAgIAogICAgCiAgICAKICAgICAgICAgICAgdmFyIGNpcmNsZV9tYXJrZXJfN2U5YjRiZTNmYzRkNDBiYmEyOTBiYzBlOTZmZDU4MzYgPSBMLmNpcmNsZU1hcmtlcigKICAgICAgICAgICAgICAgIFsyOS4zMzQ4NjExMTExMTExMSwgMTAwLjA5OTQxNjY2NjY2NjY2XSwKICAgICAgICAgICAgICAgIHsiYnViYmxpbmdNb3VzZUV2ZW50cyI6IHRydWUsICJjb2xvciI6ICJyZ2JhKDg1LjElLDM3LjMlLDAuOCUsMS4wMDApIiwgImRhc2hBcnJheSI6IG51bGwsICJkYXNoT2Zmc2V0IjogbnVsbCwgImZpbGwiOiB0cnVlLCAiZmlsbENvbG9yIjogInJnYmEoODUuMSUsMzcuMyUsMC44JSwxLjAwMCkiLCAiZmlsbE9wYWNpdHkiOiAwLjIsICJmaWxsUnVsZSI6ICJldmVub2RkIiwgImxpbmVDYXAiOiAicm91bmQiLCAibGluZUpvaW4iOiAicm91bmQiLCAib3BhY2l0eSI6IDEuMCwgInJhZGl1cyI6IDUsICJzdHJva2UiOiB0cnVlLCAid2VpZ2h0IjogM30KICAgICAgICAgICAgKS5hZGRUbyhtYXBfODRjOTQzYjdkNTQwNDQyMDk4ZTdmMGI5YWI3ZmNiNWUpOwogICAgICAgIAogICAgCiAgICAgICAgdmFyIHBvcHVwXzk3ODdhZjYxZWViMDRlNzNiYmJkOTg4NmQ3MTIxY2I1ID0gTC5wb3B1cCh7Im1heFdpZHRoIjogIjEwMCUifSk7CgogICAgICAgIAogICAgICAgICAgICB2YXIgaHRtbF9kMzNhODBhZmQ3Yzk0MTc2YWRmZjMzZTdlMDVlMWU0ZSA9ICQoYDxkaXYgaWQ9Imh0bWxfZDMzYTgwYWZkN2M5NDE3NmFkZmYzM2U3ZTA1ZTFlNGUiIHN0eWxlPSJ3aWR0aDogMTAwLjAlOyBoZWlnaHQ6IDEwMC4wJTsiPlBlZGljdWxhcmlzLWxvbmdpZmxvcmEgfCBERTYxIHwgMjAxODwvZGl2PmApWzBdOwogICAgICAgICAgICBwb3B1cF85Nzg3YWY2MWVlYjA0ZTczYmJiZDk4ODZkNzEyMWNiNS5zZXRDb250ZW50KGh0bWxfZDMzYTgwYWZkN2M5NDE3NmFkZmYzM2U3ZTA1ZTFlNGUpOwogICAgICAgIAoKICAgICAgICBjaXJjbGVfbWFya2VyXzdlOWI0YmUzZmM0ZDQwYmJhMjkwYmMwZTk2ZmQ1ODM2LmJpbmRQb3B1cChwb3B1cF85Nzg3YWY2MWVlYjA0ZTczYmJiZDk4ODZkNzEyMWNiNSkKICAgICAgICA7CgogICAgICAgIAogICAgCiAgICAKICAgICAgICAgICAgdmFyIGNpcmNsZV9tYXJrZXJfN2M4MWQ3MDcxMDU5NDgwOGE2NTVhMGY2YWZmOWQwMWUgPSBMLmNpcmNsZU1hcmtlcigKICAgICAgICAgICAgICAgIFszMC40MTkxNjY2NjY2NjY2NywgMTAxLjU0ODA1NTU1NTU1NTU1XSwKICAgICAgICAgICAgICAgIHsiYnViYmxpbmdNb3VzZUV2ZW50cyI6IHRydWUsICJjb2xvciI6ICJyZ2JhKDg1LjElLDM3LjMlLDAuOCUsMS4wMDApIiwgImRhc2hBcnJheSI6IG51bGwsICJkYXNoT2Zmc2V0IjogbnVsbCwgImZpbGwiOiB0cnVlLCAiZmlsbENvbG9yIjogInJnYmEoODUuMSUsMzcuMyUsMC44JSwxLjAwMCkiLCAiZmlsbE9wYWNpdHkiOiAwLjIsICJmaWxsUnVsZSI6ICJldmVub2RkIiwgImxpbmVDYXAiOiAicm91bmQiLCAibGluZUpvaW4iOiAicm91bmQiLCAib3BhY2l0eSI6IDEuMCwgInJhZGl1cyI6IDUsICJzdHJva2UiOiB0cnVlLCAid2VpZ2h0IjogM30KICAgICAgICAgICAgKS5hZGRUbyhtYXBfODRjOTQzYjdkNTQwNDQyMDk4ZTdmMGI5YWI3ZmNiNWUpOwogICAgICAgIAogICAgCiAgICAgICAgdmFyIHBvcHVwXzY4MGUxYjFmOTRkZDRmOGZiNzYwZjM5NThlOTg0YzI5ID0gTC5wb3B1cCh7Im1heFdpZHRoIjogIjEwMCUifSk7CgogICAgICAgIAogICAgICAgICAgICB2YXIgaHRtbF82MDk4ZGM2NTUwMTI0NjUyOTMzNDVkN2M2YmE5NDAwMCA9ICQoYDxkaXYgaWQ9Imh0bWxfNjA5OGRjNjU1MDEyNDY1MjkzMzQ1ZDdjNmJhOTQwMDAiIHN0eWxlPSJ3aWR0aDogMTAwLjAlOyBoZWlnaHQ6IDEwMC4wJTsiPlBlZGljdWxhcmlzLWxvbmdpZmxvcmEgfCBERTEzMiB8IDIwMTg8L2Rpdj5gKVswXTsKICAgICAgICAgICAgcG9wdXBfNjgwZTFiMWY5NGRkNGY4ZmI3NjBmMzk1OGU5ODRjMjkuc2V0Q29udGVudChodG1sXzYwOThkYzY1NTAxMjQ2NTI5MzM0NWQ3YzZiYTk0MDAwKTsKICAgICAgICAKCiAgICAgICAgY2lyY2xlX21hcmtlcl83YzgxZDcwNzEwNTk0ODA4YTY1NWEwZjZhZmY5ZDAxZS5iaW5kUG9wdXAocG9wdXBfNjgwZTFiMWY5NGRkNGY4ZmI3NjBmMzk1OGU5ODRjMjkpCiAgICAgICAgOwoKICAgICAgICAKICAgIAogICAgCiAgICAgICAgICAgIHZhciBjaXJjbGVfbWFya2VyXzdkNDI5MDJiOWI4NzRlZTk4ZDUzYzVkMzgwYTMzMWEzID0gTC5jaXJjbGVNYXJrZXIoCiAgICAgICAgICAgICAgICBbMzAuNTc3MDI3Nzc3Nzc3NzgsIDEwMS40MTc5NzIyMjIyMjIyM10sCiAgICAgICAgICAgICAgICB7ImJ1YmJsaW5nTW91c2VFdmVudHMiOiB0cnVlLCAiY29sb3IiOiAicmdiYSg4NS4xJSwzNy4zJSwwLjglLDEuMDAwKSIsICJkYXNoQXJyYXkiOiBudWxsLCAiZGFzaE9mZnNldCI6IG51bGwsICJmaWxsIjogdHJ1ZSwgImZpbGxDb2xvciI6ICJyZ2JhKDg1LjElLDM3LjMlLDAuOCUsMS4wMDApIiwgImZpbGxPcGFjaXR5IjogMC4yLCAiZmlsbFJ1bGUiOiAiZXZlbm9kZCIsICJsaW5lQ2FwIjogInJvdW5kIiwgImxpbmVKb2luIjogInJvdW5kIiwgIm9wYWNpdHkiOiAxLjAsICJyYWRpdXMiOiA1LCAic3Ryb2tlIjogdHJ1ZSwgIndlaWdodCI6IDN9CiAgICAgICAgICAgICkuYWRkVG8obWFwXzg0Yzk0M2I3ZDU0MDQ0MjA5OGU3ZjBiOWFiN2ZjYjVlKTsKICAgICAgICAKICAgIAogICAgICAgIHZhciBwb3B1cF82NTcyZWExOTRkOGI0NzdiYmQ2NTY2MjljZDdjNTE4NyA9IEwucG9wdXAoeyJtYXhXaWR0aCI6ICIxMDAlIn0pOwoKICAgICAgICAKICAgICAgICAgICAgdmFyIGh0bWxfY2YxMTkwMjNjZWUwNGJlNzhkNTJhMWE2OGNiYTZlNWMgPSAkKGA8ZGl2IGlkPSJodG1sX2NmMTE5MDIzY2VlMDRiZTc4ZDUyYTFhNjhjYmE2ZTVjIiBzdHlsZT0id2lkdGg6IDEwMC4wJTsgaGVpZ2h0OiAxMDAuMCU7Ij5QZWRpY3VsYXJpcy1sb25naWZsb3JhIHwgREUxNDEgfCAyMDE4PC9kaXY+YClbMF07CiAgICAgICAgICAgIHBvcHVwXzY1NzJlYTE5NGQ4YjQ3N2JiZDY1NjYyOWNkN2M1MTg3LnNldENvbnRlbnQoaHRtbF9jZjExOTAyM2NlZTA0YmU3OGQ1MmExYTY4Y2JhNmU1Yyk7CiAgICAgICAgCgogICAgICAgIGNpcmNsZV9tYXJrZXJfN2Q0MjkwMmI5Yjg3NGVlOThkNTNjNWQzODBhMzMxYTMuYmluZFBvcHVwKHBvcHVwXzY1NzJlYTE5NGQ4YjQ3N2JiZDY1NjYyOWNkN2M1MTg3KQogICAgICAgIDsKCiAgICAgICAgCiAgICAKICAgIAogICAgICAgICAgICB2YXIgY2lyY2xlX21hcmtlcl9lN2FiZWZkMDIzMjk0OTI2YTc4MjlhYTEzZjViY2JkMiA9IEwuY2lyY2xlTWFya2VyKAogICAgICAgICAgICAgICAgWzMwLjY0MzExMTExMTExMTExLCAxMDEuNDA0MTM4ODg4ODg4OV0sCiAgICAgICAgICAgICAgICB7ImJ1YmJsaW5nTW91c2VFdmVudHMiOiB0cnVlLCAiY29sb3IiOiAicmdiYSg4NS4xJSwzNy4zJSwwLjglLDEuMDAwKSIsICJkYXNoQXJyYXkiOiBudWxsLCAiZGFzaE9mZnNldCI6IG51bGwsICJmaWxsIjogdHJ1ZSwgImZpbGxDb2xvciI6ICJyZ2JhKDg1LjElLDM3LjMlLDAuOCUsMS4wMDApIiwgImZpbGxPcGFjaXR5IjogMC4yLCAiZmlsbFJ1bGUiOiAiZXZlbm9kZCIsICJsaW5lQ2FwIjogInJvdW5kIiwgImxpbmVKb2luIjogInJvdW5kIiwgIm9wYWNpdHkiOiAxLjAsICJyYWRpdXMiOiA1LCAic3Ryb2tlIjogdHJ1ZSwgIndlaWdodCI6IDN9CiAgICAgICAgICAgICkuYWRkVG8obWFwXzg0Yzk0M2I3ZDU0MDQ0MjA5OGU3ZjBiOWFiN2ZjYjVlKTsKICAgICAgICAKICAgIAogICAgICAgIHZhciBwb3B1cF9kNzkyNzQzYmJiZTI0ZGM1YTU2YTE4YjUwZDg2Y2RiNCA9IEwucG9wdXAoeyJtYXhXaWR0aCI6ICIxMDAlIn0pOwoKICAgICAgICAKICAgICAgICAgICAgdmFyIGh0bWxfNzk5NTMxNDk3YWExNDY5NGJjZDU0YzdjNmYzNjkwMzIgPSAkKGA8ZGl2IGlkPSJodG1sXzc5OTUzMTQ5N2FhMTQ2OTRiY2Q1NGM3YzZmMzY5MDMyIiBzdHlsZT0id2lkdGg6IDEwMC4wJTsgaGVpZ2h0OiAxMDAuMCU7Ij5QZWRpY3VsYXJpcy1sb25naWZsb3JhIHwgREUxNTQgfCAyMDE4PC9kaXY+YClbMF07CiAgICAgICAgICAgIHBvcHVwX2Q3OTI3NDNiYmJlMjRkYzVhNTZhMThiNTBkODZjZGI0LnNldENvbnRlbnQoaHRtbF83OTk1MzE0OTdhYTE0Njk0YmNkNTRjN2M2ZjM2OTAzMik7CiAgICAgICAgCgogICAgICAgIGNpcmNsZV9tYXJrZXJfZTdhYmVmZDAyMzI5NDkyNmE3ODI5YWExM2Y1YmNiZDIuYmluZFBvcHVwKHBvcHVwX2Q3OTI3NDNiYmJlMjRkYzVhNTZhMThiNTBkODZjZGI0KQogICAgICAgIDsKCiAgICAgICAgCiAgICAKICAgIAogICAgICAgICAgICB2YXIgY2lyY2xlX21hcmtlcl9mNjA4ZGUyODJkYTM0ODM3OWQ1ZGE3YjM5OTNjOWYyMSA9IEwuY2lyY2xlTWFya2VyKAogICAgICAgICAgICAgICAgWzMwLjcxMTgzMzMzMzMzMzMzLCAxMDEuMzY0MzMzMzMzMzMzMzNdLAogICAgICAgICAgICAgICAgeyJidWJibGluZ01vdXNlRXZlbnRzIjogdHJ1ZSwgImNvbG9yIjogInJnYmEoODUuMSUsMzcuMyUsMC44JSwxLjAwMCkiLCAiZGFzaEFycmF5IjogbnVsbCwgImRhc2hPZmZzZXQiOiBudWxsLCAiZmlsbCI6IHRydWUsICJmaWxsQ29sb3IiOiAicmdiYSg4NS4xJSwzNy4zJSwwLjglLDEuMDAwKSIsICJmaWxsT3BhY2l0eSI6IDAuMiwgImZpbGxSdWxlIjogImV2ZW5vZGQiLCAibGluZUNhcCI6ICJyb3VuZCIsICJsaW5lSm9pbiI6ICJyb3VuZCIsICJvcGFjaXR5IjogMS4wLCAicmFkaXVzIjogNSwgInN0cm9rZSI6IHRydWUsICJ3ZWlnaHQiOiAzfQogICAgICAgICAgICApLmFkZFRvKG1hcF84NGM5NDNiN2Q1NDA0NDIwOThlN2YwYjlhYjdmY2I1ZSk7CiAgICAgICAgCiAgICAKICAgICAgICB2YXIgcG9wdXBfOTkxZmFiMTFhOTk2NDZiN2FhNzMyMDhmZTUzZDJiNjQgPSBMLnBvcHVwKHsibWF4V2lkdGgiOiAiMTAwJSJ9KTsKCiAgICAgICAgCiAgICAgICAgICAgIHZhciBodG1sX2M0MmUzMGUxZGE2NzQ5NGM4NTE2ZWNkNDdjMDllMWU5ID0gJChgPGRpdiBpZD0iaHRtbF9jNDJlMzBlMWRhNjc0OTRjODUxNmVjZDQ3YzA5ZTFlOSIgc3R5bGU9IndpZHRoOiAxMDAuMCU7IGhlaWdodDogMTAwLjAlOyI+UGVkaWN1bGFyaXMtbG9uZ2lmbG9yYSB8IERFMTU2IHwgMjAxODwvZGl2PmApWzBdOwogICAgICAgICAgICBwb3B1cF85OTFmYWIxMWE5OTY0NmI3YWE3MzIwOGZlNTNkMmI2NC5zZXRDb250ZW50KGh0bWxfYzQyZTMwZTFkYTY3NDk0Yzg1MTZlY2Q0N2MwOWUxZTkpOwogICAgICAgIAoKICAgICAgICBjaXJjbGVfbWFya2VyX2Y2MDhkZTI4MmRhMzQ4Mzc5ZDVkYTdiMzk5M2M5ZjIxLmJpbmRQb3B1cChwb3B1cF85OTFmYWIxMWE5OTY0NmI3YWE3MzIwOGZlNTNkMmI2NCkKICAgICAgICA7CgogICAgICAgIAogICAgCiAgICAKICAgICAgICAgICAgdmFyIGNpcmNsZV9tYXJrZXJfOWQwNWJjYTIyNmY0NGZjZDkyYTNkMmI5NmIzMzhmMGYgPSBMLmNpcmNsZU1hcmtlcigKICAgICAgICAgICAgICAgIFszMC43MTE4MzMzMzMzMzMzMywgMTAxLjM2NDMzMzMzMzMzMzMzXSwKICAgICAgICAgICAgICAgIHsiYnViYmxpbmdNb3VzZUV2ZW50cyI6IHRydWUsICJjb2xvciI6ICJyZ2JhKDg1LjElLDM3LjMlLDAuOCUsMS4wMDApIiwgImRhc2hBcnJheSI6IG51bGwsICJkYXNoT2Zmc2V0IjogbnVsbCwgImZpbGwiOiB0cnVlLCAiZmlsbENvbG9yIjogInJnYmEoODUuMSUsMzcuMyUsMC44JSwxLjAwMCkiLCAiZmlsbE9wYWNpdHkiOiAwLjIsICJmaWxsUnVsZSI6ICJldmVub2RkIiwgImxpbmVDYXAiOiAicm91bmQiLCAibGluZUpvaW4iOiAicm91bmQiLCAib3BhY2l0eSI6IDEuMCwgInJhZGl1cyI6IDUsICJzdHJva2UiOiB0cnVlLCAid2VpZ2h0IjogM30KICAgICAgICAgICAgKS5hZGRUbyhtYXBfODRjOTQzYjdkNTQwNDQyMDk4ZTdmMGI5YWI3ZmNiNWUpOwogICAgICAgIAogICAgCiAgICAgICAgdmFyIHBvcHVwX2RkOTZhNGFhOGU2ODRlZDU4NGE2NWZiZDAxM2QzMDkzID0gTC5wb3B1cCh7Im1heFdpZHRoIjogIjEwMCUifSk7CgogICAgICAgIAogICAgICAgICAgICB2YXIgaHRtbF85Nzk1NjA2ODAxYzE0MjIwYmRkMzJhOTlkZTkyMDEzNyA9ICQoYDxkaXYgaWQ9Imh0bWxfOTc5NTYwNjgwMWMxNDIyMGJkZDMyYTk5ZGU5MjAxMzciIHN0eWxlPSJ3aWR0aDogMTAwLjAlOyBoZWlnaHQ6IDEwMC4wJTsiPlBlZGljdWxhcmlzLWxvbmdpZmxvcmEgfCBERTE2NSB8IDIwMTg8L2Rpdj5gKVswXTsKICAgICAgICAgICAgcG9wdXBfZGQ5NmE0YWE4ZTY4NGVkNTg0YTY1ZmJkMDEzZDMwOTMuc2V0Q29udGVudChodG1sXzk3OTU2MDY4MDFjMTQyMjBiZGQzMmE5OWRlOTIwMTM3KTsKICAgICAgICAKCiAgICAgICAgY2lyY2xlX21hcmtlcl85ZDA1YmNhMjI2ZjQ0ZmNkOTJhM2QyYjk2YjMzOGYwZi5iaW5kUG9wdXAocG9wdXBfZGQ5NmE0YWE4ZTY4NGVkNTg0YTY1ZmJkMDEzZDMwOTMpCiAgICAgICAgOwoKICAgICAgICAKICAgIAogICAgCiAgICAgICAgICAgIHZhciBjaXJjbGVfbWFya2VyXzk4NzVmNzg2ZWYwMDRlMGZhNjVhNWJhMTdkMTFlOTYyID0gTC5jaXJjbGVNYXJrZXIoCiAgICAgICAgICAgICAgICBbMzAuODI2Nzc3Nzc3Nzc3Nzc4LCAxMDEuMjgyMjc3Nzc3Nzc3NzhdLAogICAgICAgICAgICAgICAgeyJidWJibGluZ01vdXNlRXZlbnRzIjogdHJ1ZSwgImNvbG9yIjogInJnYmEoODUuMSUsMzcuMyUsMC44JSwxLjAwMCkiLCAiZGFzaEFycmF5IjogbnVsbCwgImRhc2hPZmZzZXQiOiBudWxsLCAiZmlsbCI6IHRydWUsICJmaWxsQ29sb3IiOiAicmdiYSg4NS4xJSwzNy4zJSwwLjglLDEuMDAwKSIsICJmaWxsT3BhY2l0eSI6IDAuMiwgImZpbGxSdWxlIjogImV2ZW5vZGQiLCAibGluZUNhcCI6ICJyb3VuZCIsICJsaW5lSm9pbiI6ICJyb3VuZCIsICJvcGFjaXR5IjogMS4wLCAicmFkaXVzIjogNSwgInN0cm9rZSI6IHRydWUsICJ3ZWlnaHQiOiAzfQogICAgICAgICAgICApLmFkZFRvKG1hcF84NGM5NDNiN2Q1NDA0NDIwOThlN2YwYjlhYjdmY2I1ZSk7CiAgICAgICAgCiAgICAKICAgICAgICB2YXIgcG9wdXBfNDkwOTJhZmU0YjkzNDQwOTkxZWNjNWI1Y2I5NGY4NTcgPSBMLnBvcHVwKHsibWF4V2lkdGgiOiAiMTAwJSJ9KTsKCiAgICAgICAgCiAgICAgICAgICAgIHZhciBodG1sX2MxMjY0OTJkNDJhOTQ3ZDU4NTk0ZTc3YTU1NDhjYzc1ID0gJChgPGRpdiBpZD0iaHRtbF9jMTI2NDkyZDQyYTk0N2Q1ODU5NGU3N2E1NTQ4Y2M3NSIgc3R5bGU9IndpZHRoOiAxMDAuMCU7IGhlaWdodDogMTAwLjAlOyI+UGVkaWN1bGFyaXMtbG9uZ2lmbG9yYSB8IERFMTc1IHwgMjAxODwvZGl2PmApWzBdOwogICAgICAgICAgICBwb3B1cF80OTA5MmFmZTRiOTM0NDA5OTFlY2M1YjVjYjk0Zjg1Ny5zZXRDb250ZW50KGh0bWxfYzEyNjQ5MmQ0MmE5NDdkNTg1OTRlNzdhNTU0OGNjNzUpOwogICAgICAgIAoKICAgICAgICBjaXJjbGVfbWFya2VyXzk4NzVmNzg2ZWYwMDRlMGZhNjVhNWJhMTdkMTFlOTYyLmJpbmRQb3B1cChwb3B1cF80OTA5MmFmZTRiOTM0NDA5OTFlY2M1YjVjYjk0Zjg1NykKICAgICAgICA7CgogICAgICAgIAogICAgCiAgICAKICAgICAgICAgICAgdmFyIGNpcmNsZV9tYXJrZXJfZDYzNmZmYWIxZGYzNDIzNWFhZTgzMTFhNmM1NjE3ZjIgPSBMLmNpcmNsZU1hcmtlcigKICAgICAgICAgICAgICAgIFszMS41NzQ3MjIyMjIyMjIyMiwgMTAwLjcyMDk0NDQ0NDQ0NDQ0XSwKICAgICAgICAgICAgICAgIHsiYnViYmxpbmdNb3VzZUV2ZW50cyI6IHRydWUsICJjb2xvciI6ICJyZ2JhKDg1LjElLDM3LjMlLDAuOCUsMS4wMDApIiwgImRhc2hBcnJheSI6IG51bGwsICJkYXNoT2Zmc2V0IjogbnVsbCwgImZpbGwiOiB0cnVlLCAiZmlsbENvbG9yIjogInJnYmEoODUuMSUsMzcuMyUsMC44JSwxLjAwMCkiLCAiZmlsbE9wYWNpdHkiOiAwLjIsICJmaWxsUnVsZSI6ICJldmVub2RkIiwgImxpbmVDYXAiOiAicm91bmQiLCAibGluZUpvaW4iOiAicm91bmQiLCAib3BhY2l0eSI6IDEuMCwgInJhZGl1cyI6IDUsICJzdHJva2UiOiB0cnVlLCAid2VpZ2h0IjogM30KICAgICAgICAgICAgKS5hZGRUbyhtYXBfODRjOTQzYjdkNTQwNDQyMDk4ZTdmMGI5YWI3ZmNiNWUpOwogICAgICAgIAogICAgCiAgICAgICAgdmFyIHBvcHVwX2UzNzdlOTg3OGY3ODRhODJhMjczZTA4ZDc3YmYyOTJkID0gTC5wb3B1cCh7Im1heFdpZHRoIjogIjEwMCUifSk7CgogICAgICAgIAogICAgICAgICAgICB2YXIgaHRtbF84MDQ2MDliMDEyNDg0OWFlYWFjMzNhM2YwNmI1NGZiNSA9ICQoYDxkaXYgaWQ9Imh0bWxfODA0NjA5YjAxMjQ4NDlhZWFhYzMzYTNmMDZiNTRmYjUiIHN0eWxlPSJ3aWR0aDogMTAwLjAlOyBoZWlnaHQ6IDEwMC4wJTsiPlBlZGljdWxhcmlzLWxvbmdpZmxvcmEgfCBERTE5MyB8IDIwMTg8L2Rpdj5gKVswXTsKICAgICAgICAgICAgcG9wdXBfZTM3N2U5ODc4Zjc4NGE4MmEyNzNlMDhkNzdiZjI5MmQuc2V0Q29udGVudChodG1sXzgwNDYwOWIwMTI0ODQ5YWVhYWMzM2EzZjA2YjU0ZmI1KTsKICAgICAgICAKCiAgICAgICAgY2lyY2xlX21hcmtlcl9kNjM2ZmZhYjFkZjM0MjM1YWFlODMxMWE2YzU2MTdmMi5iaW5kUG9wdXAocG9wdXBfZTM3N2U5ODc4Zjc4NGE4MmEyNzNlMDhkNzdiZjI5MmQpCiAgICAgICAgOwoKICAgICAgICAKICAgIAogICAgCiAgICAgICAgICAgIHZhciBjaXJjbGVfbWFya2VyXzlkMDBiZWIwNDBlMjRmNTY5MjQ3YmM5MWNhMzliM2FiID0gTC5jaXJjbGVNYXJrZXIoCiAgICAgICAgICAgICAgICBbMzEuNTQzMTM4ODg4ODg4ODksIDEwMC40NzA2Mzg4ODg4ODg4OV0sCiAgICAgICAgICAgICAgICB7ImJ1YmJsaW5nTW91c2VFdmVudHMiOiB0cnVlLCAiY29sb3IiOiAicmdiYSg4NS4xJSwzNy4zJSwwLjglLDEuMDAwKSIsICJkYXNoQXJyYXkiOiBudWxsLCAiZGFzaE9mZnNldCI6IG51bGwsICJmaWxsIjogdHJ1ZSwgImZpbGxDb2xvciI6ICJyZ2JhKDg1LjElLDM3LjMlLDAuOCUsMS4wMDApIiwgImZpbGxPcGFjaXR5IjogMC4yLCAiZmlsbFJ1bGUiOiAiZXZlbm9kZCIsICJsaW5lQ2FwIjogInJvdW5kIiwgImxpbmVKb2luIjogInJvdW5kIiwgIm9wYWNpdHkiOiAxLjAsICJyYWRpdXMiOiA1LCAic3Ryb2tlIjogdHJ1ZSwgIndlaWdodCI6IDN9CiAgICAgICAgICAgICkuYWRkVG8obWFwXzg0Yzk0M2I3ZDU0MDQ0MjA5OGU3ZjBiOWFiN2ZjYjVlKTsKICAgICAgICAKICAgIAogICAgICAgIHZhciBwb3B1cF80YjdlMzBmYzRhMzg0Zjk1YjIzZGVlY2UzZDM4NzI5YyA9IEwucG9wdXAoeyJtYXhXaWR0aCI6ICIxMDAlIn0pOwoKICAgICAgICAKICAgICAgICAgICAgdmFyIGh0bWxfMjJkNmY5OWE2M2MwNDhjMDhjNTlhZTg4YTk4MTRjNDIgPSAkKGA8ZGl2IGlkPSJodG1sXzIyZDZmOTlhNjNjMDQ4YzA4YzU5YWU4OGE5ODE0YzQyIiBzdHlsZT0id2lkdGg6IDEwMC4wJTsgaGVpZ2h0OiAxMDAuMCU7Ij5QZWRpY3VsYXJpcy1sb25naWZsb3JhIHwgREUyMjggfCAyMDE4PC9kaXY+YClbMF07CiAgICAgICAgICAgIHBvcHVwXzRiN2UzMGZjNGEzODRmOTViMjNkZWVjZTNkMzg3MjljLnNldENvbnRlbnQoaHRtbF8yMmQ2Zjk5YTYzYzA0OGMwOGM1OWFlODhhOTgxNGM0Mik7CiAgICAgICAgCgogICAgICAgIGNpcmNsZV9tYXJrZXJfOWQwMGJlYjA0MGUyNGY1NjkyNDdiYzkxY2EzOWIzYWIuYmluZFBvcHVwKHBvcHVwXzRiN2UzMGZjNGEzODRmOTViMjNkZWVjZTNkMzg3MjljKQogICAgICAgIDsKCiAgICAgICAgCiAgICAKICAgIAogICAgICAgICAgICB2YXIgY2lyY2xlX21hcmtlcl81MmY4M2YxNWQwM2E0OTUwYjA3YzViODVkYWE5Nzk3OCA9IEwuY2lyY2xlTWFya2VyKAogICAgICAgICAgICAgICAgWzMxLjY1MTg4ODg4ODg4ODg4NywgMTAwLjI1ODQxNjY2NjY2NjY2XSwKICAgICAgICAgICAgICAgIHsiYnViYmxpbmdNb3VzZUV2ZW50cyI6IHRydWUsICJjb2xvciI6ICJyZ2JhKDg1LjElLDM3LjMlLDAuOCUsMS4wMDApIiwgImRhc2hBcnJheSI6IG51bGwsICJkYXNoT2Zmc2V0IjogbnVsbCwgImZpbGwiOiB0cnVlLCAiZmlsbENvbG9yIjogInJnYmEoODUuMSUsMzcuMyUsMC44JSwxLjAwMCkiLCAiZmlsbE9wYWNpdHkiOiAwLjIsICJmaWxsUnVsZSI6ICJldmVub2RkIiwgImxpbmVDYXAiOiAicm91bmQiLCAibGluZUpvaW4iOiAicm91bmQiLCAib3BhY2l0eSI6IDEuMCwgInJhZGl1cyI6IDUsICJzdHJva2UiOiB0cnVlLCAid2VpZ2h0IjogM30KICAgICAgICAgICAgKS5hZGRUbyhtYXBfODRjOTQzYjdkNTQwNDQyMDk4ZTdmMGI5YWI3ZmNiNWUpOwogICAgICAgIAogICAgCiAgICAgICAgdmFyIHBvcHVwX2I0ZDIzYmExZjM3MTQwM2ZiMGY1MDQ2N2U2ODY3ZjZmID0gTC5wb3B1cCh7Im1heFdpZHRoIjogIjEwMCUifSk7CgogICAgICAgIAogICAgICAgICAgICB2YXIgaHRtbF82ODViMzU3MWQyYjE0M2U1OTViMzBjNmI1NjU4NDk2MCA9ICQoYDxkaXYgaWQ9Imh0bWxfNjg1YjM1NzFkMmIxNDNlNTk1YjMwYzZiNTY1ODQ5NjAiIHN0eWxlPSJ3aWR0aDogMTAwLjAlOyBoZWlnaHQ6IDEwMC4wJTsiPlBlZGljdWxhcmlzLWxvbmdpZmxvcmEgfCBERTI0NiB8IDIwMTg8L2Rpdj5gKVswXTsKICAgICAgICAgICAgcG9wdXBfYjRkMjNiYTFmMzcxNDAzZmIwZjUwNDY3ZTY4NjdmNmYuc2V0Q29udGVudChodG1sXzY4NWIzNTcxZDJiMTQzZTU5NWIzMGM2YjU2NTg0OTYwKTsKICAgICAgICAKCiAgICAgICAgY2lyY2xlX21hcmtlcl81MmY4M2YxNWQwM2E0OTUwYjA3YzViODVkYWE5Nzk3OC5iaW5kUG9wdXAocG9wdXBfYjRkMjNiYTFmMzcxNDAzZmIwZjUwNDY3ZTY4NjdmNmYpCiAgICAgICAgOwoKICAgICAgICAKICAgIAogICAgCiAgICAgICAgICAgIHZhciBjaXJjbGVfbWFya2VyXzkwNzY5YWJlZGI4MTRiM2E4NDI2NTBmOWM4NmE1MmUyID0gTC5jaXJjbGVNYXJrZXIoCiAgICAgICAgICAgICAgICBbMzEuNjI2MTExMTExMTExMTEsIDEwMC4yMjMzMDU1NTU1NTU1Nl0sCiAgICAgICAgICAgICAgICB7ImJ1YmJsaW5nTW91c2VFdmVudHMiOiB0cnVlLCAiY29sb3IiOiAicmdiYSg4NS4xJSwzNy4zJSwwLjglLDEuMDAwKSIsICJkYXNoQXJyYXkiOiBudWxsLCAiZGFzaE9mZnNldCI6IG51bGwsICJmaWxsIjogdHJ1ZSwgImZpbGxDb2xvciI6ICJyZ2JhKDg1LjElLDM3LjMlLDAuOCUsMS4wMDApIiwgImZpbGxPcGFjaXR5IjogMC4yLCAiZmlsbFJ1bGUiOiAiZXZlbm9kZCIsICJsaW5lQ2FwIjogInJvdW5kIiwgImxpbmVKb2luIjogInJvdW5kIiwgIm9wYWNpdHkiOiAxLjAsICJyYWRpdXMiOiA1LCAic3Ryb2tlIjogdHJ1ZSwgIndlaWdodCI6IDN9CiAgICAgICAgICAgICkuYWRkVG8obWFwXzg0Yzk0M2I3ZDU0MDQ0MjA5OGU3ZjBiOWFiN2ZjYjVlKTsKICAgICAgICAKICAgIAogICAgICAgIHZhciBwb3B1cF84YTk0Mjc3OWI5YjU0YjhhOWRhOWYzNGNlZTg4NDhkOCA9IEwucG9wdXAoeyJtYXhXaWR0aCI6ICIxMDAlIn0pOwoKICAgICAgICAKICAgICAgICAgICAgdmFyIGh0bWxfZmY3MmM0ZWQyNjE2NGE4MTg2NDM3Y2RhY2JiM2Q2Y2IgPSAkKGA8ZGl2IGlkPSJodG1sX2ZmNzJjNGVkMjYxNjRhODE4NjQzN2NkYWNiYjNkNmNiIiBzdHlsZT0id2lkdGg6IDEwMC4wJTsgaGVpZ2h0OiAxMDAuMCU7Ij5QZWRpY3VsYXJpcy1sb25naWZsb3JhIHwgREUyNTcgfCAyMDE4PC9kaXY+YClbMF07CiAgICAgICAgICAgIHBvcHVwXzhhOTQyNzc5YjliNTRiOGE5ZGE5ZjM0Y2VlODg0OGQ4LnNldENvbnRlbnQoaHRtbF9mZjcyYzRlZDI2MTY0YTgxODY0MzdjZGFjYmIzZDZjYik7CiAgICAgICAgCgogICAgICAgIGNpcmNsZV9tYXJrZXJfOTA3NjlhYmVkYjgxNGIzYTg0MjY1MGY5Yzg2YTUyZTIuYmluZFBvcHVwKHBvcHVwXzhhOTQyNzc5YjliNTRiOGE5ZGE5ZjM0Y2VlODg0OGQ4KQogICAgICAgIDsKCiAgICAgICAgCiAgICAKICAgIAogICAgICAgICAgICB2YXIgY2lyY2xlX21hcmtlcl84YTc1YTMxOGRkOGM0MDIzOGIyMDU1OGUwOTNjNmJjMCA9IEwuY2lyY2xlTWFya2VyKAogICAgICAgICAgICAgICAgWzMxLjU4NjYxMTExMTExMTExLCAxMDAuMTQxNjY2NjY2NjY2NjhdLAogICAgICAgICAgICAgICAgeyJidWJibGluZ01vdXNlRXZlbnRzIjogdHJ1ZSwgImNvbG9yIjogInJnYmEoODUuMSUsMzcuMyUsMC44JSwxLjAwMCkiLCAiZGFzaEFycmF5IjogbnVsbCwgImRhc2hPZmZzZXQiOiBudWxsLCAiZmlsbCI6IHRydWUsICJmaWxsQ29sb3IiOiAicmdiYSg4NS4xJSwzNy4zJSwwLjglLDEuMDAwKSIsICJmaWxsT3BhY2l0eSI6IDAuMiwgImZpbGxSdWxlIjogImV2ZW5vZGQiLCAibGluZUNhcCI6ICJyb3VuZCIsICJsaW5lSm9pbiI6ICJyb3VuZCIsICJvcGFjaXR5IjogMS4wLCAicmFkaXVzIjogNSwgInN0cm9rZSI6IHRydWUsICJ3ZWlnaHQiOiAzfQogICAgICAgICAgICApLmFkZFRvKG1hcF84NGM5NDNiN2Q1NDA0NDIwOThlN2YwYjlhYjdmY2I1ZSk7CiAgICAgICAgCiAgICAKICAgICAgICB2YXIgcG9wdXBfMjMzMDhhMDgwMTA4NGE2OTkyMWU4NTE2Yjg5OGYxNTIgPSBMLnBvcHVwKHsibWF4V2lkdGgiOiAiMTAwJSJ9KTsKCiAgICAgICAgCiAgICAgICAgICAgIHZhciBodG1sX2MzMTFhNWI0NDFkMTQ2NGI5NTBlNTM5YTI0ZDEwY2M1ID0gJChgPGRpdiBpZD0iaHRtbF9jMzExYTViNDQxZDE0NjRiOTUwZTUzOWEyNGQxMGNjNSIgc3R5bGU9IndpZHRoOiAxMDAuMCU7IGhlaWdodDogMTAwLjAlOyI+UGVkaWN1bGFyaXMtbG9uZ2lmbG9yYSB8IERFMjY1IHwgMjAxODwvZGl2PmApWzBdOwogICAgICAgICAgICBwb3B1cF8yMzMwOGEwODAxMDg0YTY5OTIxZTg1MTZiODk4ZjE1Mi5zZXRDb250ZW50KGh0bWxfYzMxMWE1YjQ0MWQxNDY0Yjk1MGU1MzlhMjRkMTBjYzUpOwogICAgICAgIAoKICAgICAgICBjaXJjbGVfbWFya2VyXzhhNzVhMzE4ZGQ4YzQwMjM4YjIwNTU4ZTA5M2M2YmMwLmJpbmRQb3B1cChwb3B1cF8yMzMwOGEwODAxMDg0YTY5OTIxZTg1MTZiODk4ZjE1MikKICAgICAgICA7CgogICAgICAgIAogICAgCiAgICAKICAgICAgICAgICAgdmFyIGNpcmNsZV9tYXJrZXJfYTZkZWU0Y2Q5NTdhNDVlN2IzYmIwZDI4OTFhYjZlZDkgPSBMLmNpcmNsZU1hcmtlcigKICAgICAgICAgICAgICAgIFszMS43MTUzMDU1NTU1NTU1NTYsIDk5LjYxNjI3Nzc3Nzc3Nzc3XSwKICAgICAgICAgICAgICAgIHsiYnViYmxpbmdNb3VzZUV2ZW50cyI6IHRydWUsICJjb2xvciI6ICJyZ2JhKDg1LjElLDM3LjMlLDAuOCUsMS4wMDApIiwgImRhc2hBcnJheSI6IG51bGwsICJkYXNoT2Zmc2V0IjogbnVsbCwgImZpbGwiOiB0cnVlLCAiZmlsbENvbG9yIjogInJnYmEoODUuMSUsMzcuMyUsMC44JSwxLjAwMCkiLCAiZmlsbE9wYWNpdHkiOiAwLjIsICJmaWxsUnVsZSI6ICJldmVub2RkIiwgImxpbmVDYXAiOiAicm91bmQiLCAibGluZUpvaW4iOiAicm91bmQiLCAib3BhY2l0eSI6IDEuMCwgInJhZGl1cyI6IDUsICJzdHJva2UiOiB0cnVlLCAid2VpZ2h0IjogM30KICAgICAgICAgICAgKS5hZGRUbyhtYXBfODRjOTQzYjdkNTQwNDQyMDk4ZTdmMGI5YWI3ZmNiNWUpOwogICAgICAgIAogICAgCiAgICAgICAgdmFyIHBvcHVwXzk3ZTA1ZTRhYjc0MTQzMjc4Y2Y4MmFjMjAwMDY1NjI5ID0gTC5wb3B1cCh7Im1heFdpZHRoIjogIjEwMCUifSk7CgogICAgICAgIAogICAgICAgICAgICB2YXIgaHRtbF8zNGNjZmQxYWNkNmU0ZTQxOWI2MzBmYzc1ZWIyOTQzYSA9ICQoYDxkaXYgaWQ9Imh0bWxfMzRjY2ZkMWFjZDZlNGU0MTliNjMwZmM3NWViMjk0M2EiIHN0eWxlPSJ3aWR0aDogMTAwLjAlOyBoZWlnaHQ6IDEwMC4wJTsiPlBlZGljdWxhcmlzLWxvbmdpZmxvcmEgfCBERTI3OCB8IDIwMTg8L2Rpdj5gKVswXTsKICAgICAgICAgICAgcG9wdXBfOTdlMDVlNGFiNzQxNDMyNzhjZjgyYWMyMDAwNjU2Mjkuc2V0Q29udGVudChodG1sXzM0Y2NmZDFhY2Q2ZTRlNDE5YjYzMGZjNzVlYjI5NDNhKTsKICAgICAgICAKCiAgICAgICAgY2lyY2xlX21hcmtlcl9hNmRlZTRjZDk1N2E0NWU3YjNiYjBkMjg5MWFiNmVkOS5iaW5kUG9wdXAocG9wdXBfOTdlMDVlNGFiNzQxNDMyNzhjZjgyYWMyMDAwNjU2MjkpCiAgICAgICAgOwoKICAgICAgICAKICAgIAogICAgCiAgICAgICAgICAgIHZhciBjaXJjbGVfbWFya2VyX2ZiYTM1YjBhMjJkNzQ4YjdhOTZiN2Y5ZDAxNDZkMWNhID0gTC5jaXJjbGVNYXJrZXIoCiAgICAgICAgICAgICAgICBbMzEuOTExMDI3Nzc3Nzc3Nzc1LCA5OS4yNTc4NjExMTExMTExMV0sCiAgICAgICAgICAgICAgICB7ImJ1YmJsaW5nTW91c2VFdmVudHMiOiB0cnVlLCAiY29sb3IiOiAicmdiYSg4NS4xJSwzNy4zJSwwLjglLDEuMDAwKSIsICJkYXNoQXJyYXkiOiBudWxsLCAiZGFzaE9mZnNldCI6IG51bGwsICJmaWxsIjogdHJ1ZSwgImZpbGxDb2xvciI6ICJyZ2JhKDg1LjElLDM3LjMlLDAuOCUsMS4wMDApIiwgImZpbGxPcGFjaXR5IjogMC4yLCAiZmlsbFJ1bGUiOiAiZXZlbm9kZCIsICJsaW5lQ2FwIjogInJvdW5kIiwgImxpbmVKb2luIjogInJvdW5kIiwgIm9wYWNpdHkiOiAxLjAsICJyYWRpdXMiOiA1LCAic3Ryb2tlIjogdHJ1ZSwgIndlaWdodCI6IDN9CiAgICAgICAgICAgICkuYWRkVG8obWFwXzg0Yzk0M2I3ZDU0MDQ0MjA5OGU3ZjBiOWFiN2ZjYjVlKTsKICAgICAgICAKICAgIAogICAgICAgIHZhciBwb3B1cF80MGJjZWMyZWMxNWQ0NzRmOWNiOTUzNDI3MGU2MTA4MCA9IEwucG9wdXAoeyJtYXhXaWR0aCI6ICIxMDAlIn0pOwoKICAgICAgICAKICAgICAgICAgICAgdmFyIGh0bWxfOTMzNGZkODYyMmZiNDk3OThmMzdjZTRkZmIzMTc5YmIgPSAkKGA8ZGl2IGlkPSJodG1sXzkzMzRmZDg2MjJmYjQ5Nzk4ZjM3Y2U0ZGZiMzE3OWJiIiBzdHlsZT0id2lkdGg6IDEwMC4wJTsgaGVpZ2h0OiAxMDAuMCU7Ij5QZWRpY3VsYXJpcy1sb25naWZsb3JhIHwgREUyODIgfCAyMDE4PC9kaXY+YClbMF07CiAgICAgICAgICAgIHBvcHVwXzQwYmNlYzJlYzE1ZDQ3NGY5Y2I5NTM0MjcwZTYxMDgwLnNldENvbnRlbnQoaHRtbF85MzM0ZmQ4NjIyZmI0OTc5OGYzN2NlNGRmYjMxNzliYik7CiAgICAgICAgCgogICAgICAgIGNpcmNsZV9tYXJrZXJfZmJhMzViMGEyMmQ3NDhiN2E5NmI3ZjlkMDE0NmQxY2EuYmluZFBvcHVwKHBvcHVwXzQwYmNlYzJlYzE1ZDQ3NGY5Y2I5NTM0MjcwZTYxMDgwKQogICAgICAgIDsKCiAgICAgICAgCiAgICAKICAgIAogICAgICAgICAgICB2YXIgY2lyY2xlX21hcmtlcl8wNWYyY2UwY2E0YzI0Y2ZlYmQxZDRkMDAxYThkNTkyYiA9IEwuY2lyY2xlTWFya2VyKAogICAgICAgICAgICAgICAgWzMyLjA2Njg2MTExMTExMTExNiwgOTkuMDA0MjIyMjIyMjIyMjNdLAogICAgICAgICAgICAgICAgeyJidWJibGluZ01vdXNlRXZlbnRzIjogdHJ1ZSwgImNvbG9yIjogInJnYmEoODUuMSUsMzcuMyUsMC44JSwxLjAwMCkiLCAiZGFzaEFycmF5IjogbnVsbCwgImRhc2hPZmZzZXQiOiBudWxsLCAiZmlsbCI6IHRydWUsICJmaWxsQ29sb3IiOiAicmdiYSg4NS4xJSwzNy4zJSwwLjglLDEuMDAwKSIsICJmaWxsT3BhY2l0eSI6IDAuMiwgImZpbGxSdWxlIjogImV2ZW5vZGQiLCAibGluZUNhcCI6ICJyb3VuZCIsICJsaW5lSm9pbiI6ICJyb3VuZCIsICJvcGFjaXR5IjogMS4wLCAicmFkaXVzIjogNSwgInN0cm9rZSI6IHRydWUsICJ3ZWlnaHQiOiAzfQogICAgICAgICAgICApLmFkZFRvKG1hcF84NGM5NDNiN2Q1NDA0NDIwOThlN2YwYjlhYjdmY2I1ZSk7CiAgICAgICAgCiAgICAKICAgICAgICB2YXIgcG9wdXBfYmU2YzUzMTQ4ZDVlNGE5ZGE3YmI1YjViYjI1MTY4NDggPSBMLnBvcHVwKHsibWF4V2lkdGgiOiAiMTAwJSJ9KTsKCiAgICAgICAgCiAgICAgICAgICAgIHZhciBodG1sX2ZhMTYxOThlMjc1ZTQxMDU4NTZhYWU4ZWFjYWFiNTUyID0gJChgPGRpdiBpZD0iaHRtbF9mYTE2MTk4ZTI3NWU0MTA1ODU2YWFlOGVhY2FhYjU1MiIgc3R5bGU9IndpZHRoOiAxMDAuMCU7IGhlaWdodDogMTAwLjAlOyI+UGVkaWN1bGFyaXMtbG9uZ2lmbG9yYSB8IERFMjk4IHwgMjAxODwvZGl2PmApWzBdOwogICAgICAgICAgICBwb3B1cF9iZTZjNTMxNDhkNWU0YTlkYTdiYjViNWJiMjUxNjg0OC5zZXRDb250ZW50KGh0bWxfZmExNjE5OGUyNzVlNDEwNTg1NmFhZThlYWNhYWI1NTIpOwogICAgICAgIAoKICAgICAgICBjaXJjbGVfbWFya2VyXzA1ZjJjZTBjYTRjMjRjZmViZDFkNGQwMDFhOGQ1OTJiLmJpbmRQb3B1cChwb3B1cF9iZTZjNTMxNDhkNWU0YTlkYTdiYjViNWJiMjUxNjg0OCkKICAgICAgICA7CgogICAgICAgIAogICAgCiAgICAKICAgICAgICAgICAgdmFyIGNpcmNsZV9tYXJrZXJfZWUyMTg5YzYwMDI3NGE4NDk0NTdmMjUyNzk2MDhkMDIgPSBMLmNpcmNsZU1hcmtlcigKICAgICAgICAgICAgICAgIFszMi4wMDkwMjc3Nzc3Nzc3NzQsIDk5LjA0ODI3Nzc3Nzc3Nzc3XSwKICAgICAgICAgICAgICAgIHsiYnViYmxpbmdNb3VzZUV2ZW50cyI6IHRydWUsICJjb2xvciI6ICJyZ2JhKDg1LjElLDM3LjMlLDAuOCUsMS4wMDApIiwgImRhc2hBcnJheSI6IG51bGwsICJkYXNoT2Zmc2V0IjogbnVsbCwgImZpbGwiOiB0cnVlLCAiZmlsbENvbG9yIjogInJnYmEoODUuMSUsMzcuMyUsMC44JSwxLjAwMCkiLCAiZmlsbE9wYWNpdHkiOiAwLjIsICJmaWxsUnVsZSI6ICJldmVub2RkIiwgImxpbmVDYXAiOiAicm91bmQiLCAibGluZUpvaW4iOiAicm91bmQiLCAib3BhY2l0eSI6IDEuMCwgInJhZGl1cyI6IDUsICJzdHJva2UiOiB0cnVlLCAid2VpZ2h0IjogM30KICAgICAgICAgICAgKS5hZGRUbyhtYXBfODRjOTQzYjdkNTQwNDQyMDk4ZTdmMGI5YWI3ZmNiNWUpOwogICAgICAgIAogICAgCiAgICAgICAgdmFyIHBvcHVwX2E0NmQ3OWM2YWMyMDQ4YTc5YzdiY2VjMDAxYzEwYjM2ID0gTC5wb3B1cCh7Im1heFdpZHRoIjogIjEwMCUifSk7CgogICAgICAgIAogICAgICAgICAgICB2YXIgaHRtbF84NjEwNDNjOWE5Y2E0MTgwYmM5NTU1MDMxMTNiNTMzMiA9ICQoYDxkaXYgaWQ9Imh0bWxfODYxMDQzYzlhOWNhNDE4MGJjOTU1NTAzMTEzYjUzMzIiIHN0eWxlPSJ3aWR0aDogMTAwLjAlOyBoZWlnaHQ6IDEwMC4wJTsiPlBlZGljdWxhcmlzLWxvbmdpZmxvcmEgfCBERTMwOCB8IDIwMTg8L2Rpdj5gKVswXTsKICAgICAgICAgICAgcG9wdXBfYTQ2ZDc5YzZhYzIwNDhhNzljN2JjZWMwMDFjMTBiMzYuc2V0Q29udGVudChodG1sXzg2MTA0M2M5YTljYTQxODBiYzk1NTUwMzExM2I1MzMyKTsKICAgICAgICAKCiAgICAgICAgY2lyY2xlX21hcmtlcl9lZTIxODljNjAwMjc0YTg0OTQ1N2YyNTI3OTYwOGQwMi5iaW5kUG9wdXAocG9wdXBfYTQ2ZDc5YzZhYzIwNDhhNzljN2JjZWMwMDFjMTBiMzYpCiAgICAgICAgOwoKICAgICAgICAKICAgIAogICAgCiAgICAgICAgICAgIHZhciBjaXJjbGVfbWFya2VyXzZiOTI5ODRmZDdmYzRiNWU5Njk4Y2NiMmU2ZTk3OGJkID0gTC5jaXJjbGVNYXJrZXIoCiAgICAgICAgICAgICAgICBbMzEuODg3MTExMTExMTExMTEsIDk5LjAzMzc3Nzc3Nzc3Nzc3XSwKICAgICAgICAgICAgICAgIHsiYnViYmxpbmdNb3VzZUV2ZW50cyI6IHRydWUsICJjb2xvciI6ICJyZ2JhKDg1LjElLDM3LjMlLDAuOCUsMS4wMDApIiwgImRhc2hBcnJheSI6IG51bGwsICJkYXNoT2Zmc2V0IjogbnVsbCwgImZpbGwiOiB0cnVlLCAiZmlsbENvbG9yIjogInJnYmEoODUuMSUsMzcuMyUsMC44JSwxLjAwMCkiLCAiZmlsbE9wYWNpdHkiOiAwLjIsICJmaWxsUnVsZSI6ICJldmVub2RkIiwgImxpbmVDYXAiOiAicm91bmQiLCAibGluZUpvaW4iOiAicm91bmQiLCAib3BhY2l0eSI6IDEuMCwgInJhZGl1cyI6IDUsICJzdHJva2UiOiB0cnVlLCAid2VpZ2h0IjogM30KICAgICAgICAgICAgKS5hZGRUbyhtYXBfODRjOTQzYjdkNTQwNDQyMDk4ZTdmMGI5YWI3ZmNiNWUpOwogICAgICAgIAogICAgCiAgICAgICAgdmFyIHBvcHVwXzI0MGU3MzM3NDZlNzRmNzA4OGQzZjViZmQ2ODgyOGZkID0gTC5wb3B1cCh7Im1heFdpZHRoIjogIjEwMCUifSk7CgogICAgICAgIAogICAgICAgICAgICB2YXIgaHRtbF9hNDM4YjVkODAzNzE0NmQ4ODhhMDdjMjIxZTlkMzcyYyA9ICQoYDxkaXYgaWQ9Imh0bWxfYTQzOGI1ZDgwMzcxNDZkODg4YTA3YzIyMWU5ZDM3MmMiIHN0eWxlPSJ3aWR0aDogMTAwLjAlOyBoZWlnaHQ6IDEwMC4wJTsiPlBlZGljdWxhcmlzLWxvbmdpZmxvcmEgfCBERTMxMyB8IDIwMTg8L2Rpdj5gKVswXTsKICAgICAgICAgICAgcG9wdXBfMjQwZTczMzc0NmU3NGY3MDg4ZDNmNWJmZDY4ODI4ZmQuc2V0Q29udGVudChodG1sX2E0MzhiNWQ4MDM3MTQ2ZDg4OGEwN2MyMjFlOWQzNzJjKTsKICAgICAgICAKCiAgICAgICAgY2lyY2xlX21hcmtlcl82YjkyOTg0ZmQ3ZmM0YjVlOTY5OGNjYjJlNmU5NzhiZC5iaW5kUG9wdXAocG9wdXBfMjQwZTczMzc0NmU3NGY3MDg4ZDNmNWJmZDY4ODI4ZmQpCiAgICAgICAgOwoKICAgICAgICAKICAgIAogICAgCiAgICAgICAgICAgIHZhciBjaXJjbGVfbWFya2VyX2M3NTU1NjQzZTI3MjQzNGM5NDI3ZmJkOGNhNTZlMjg5ID0gTC5jaXJjbGVNYXJrZXIoCiAgICAgICAgICAgICAgICBbMzAuOTgwODMzMzMzMzMzMzMzLCA5OC45NTkwNTU1NTU1NTU1N10sCiAgICAgICAgICAgICAgICB7ImJ1YmJsaW5nTW91c2VFdmVudHMiOiB0cnVlLCAiY29sb3IiOiAicmdiYSg4NS4xJSwzNy4zJSwwLjglLDEuMDAwKSIsICJkYXNoQXJyYXkiOiBudWxsLCAiZGFzaE9mZnNldCI6IG51bGwsICJmaWxsIjogdHJ1ZSwgImZpbGxDb2xvciI6ICJyZ2JhKDg1LjElLDM3LjMlLDAuOCUsMS4wMDApIiwgImZpbGxPcGFjaXR5IjogMC4yLCAiZmlsbFJ1bGUiOiAiZXZlbm9kZCIsICJsaW5lQ2FwIjogInJvdW5kIiwgImxpbmVKb2luIjogInJvdW5kIiwgIm9wYWNpdHkiOiAxLjAsICJyYWRpdXMiOiA1LCAic3Ryb2tlIjogdHJ1ZSwgIndlaWdodCI6IDN9CiAgICAgICAgICAgICkuYWRkVG8obWFwXzg0Yzk0M2I3ZDU0MDQ0MjA5OGU3ZjBiOWFiN2ZjYjVlKTsKICAgICAgICAKICAgIAogICAgICAgIHZhciBwb3B1cF9hODM2MDg2NDU5OTg0YWI3YTAzZTU4ZmU3NjFmM2NjMCA9IEwucG9wdXAoeyJtYXhXaWR0aCI6ICIxMDAlIn0pOwoKICAgICAgICAKICAgICAgICAgICAgdmFyIGh0bWxfNDAzNTc2ZTY3NmE1NDJiNDllNzhiNzUzODIyYzg2MTEgPSAkKGA8ZGl2IGlkPSJodG1sXzQwMzU3NmU2NzZhNTQyYjQ5ZTc4Yjc1MzgyMmM4NjExIiBzdHlsZT0id2lkdGg6IDEwMC4wJTsgaGVpZ2h0OiAxMDAuMCU7Ij5QZWRpY3VsYXJpcy1sb25naWZsb3JhIHwgREUzNTYgfCAyMDE4PC9kaXY+YClbMF07CiAgICAgICAgICAgIHBvcHVwX2E4MzYwODY0NTk5ODRhYjdhMDNlNThmZTc2MWYzY2MwLnNldENvbnRlbnQoaHRtbF80MDM1NzZlNjc2YTU0MmI0OWU3OGI3NTM4MjJjODYxMSk7CiAgICAgICAgCgogICAgICAgIGNpcmNsZV9tYXJrZXJfYzc1NTU2NDNlMjcyNDM0Yzk0MjdmYmQ4Y2E1NmUyODkuYmluZFBvcHVwKHBvcHVwX2E4MzYwODY0NTk5ODRhYjdhMDNlNThmZTc2MWYzY2MwKQogICAgICAgIDsKCiAgICAgICAgCiAgICAKICAgIAogICAgICAgICAgICB2YXIgY2lyY2xlX21hcmtlcl8wOTU1MjkxOGE3MDg0MDY4OGVmOTg2ODIzYzc4MjRhNyA9IEwuY2lyY2xlTWFya2VyKAogICAgICAgICAgICAgICAgWzMwLjU5NzY5NDQ0NDQ0NDQ0MywgOTkuMTg4Mzg4ODg4ODg4OV0sCiAgICAgICAgICAgICAgICB7ImJ1YmJsaW5nTW91c2VFdmVudHMiOiB0cnVlLCAiY29sb3IiOiAicmdiYSg4NS4xJSwzNy4zJSwwLjglLDEuMDAwKSIsICJkYXNoQXJyYXkiOiBudWxsLCAiZGFzaE9mZnNldCI6IG51bGwsICJmaWxsIjogdHJ1ZSwgImZpbGxDb2xvciI6ICJyZ2JhKDg1LjElLDM3LjMlLDAuOCUsMS4wMDApIiwgImZpbGxPcGFjaXR5IjogMC4yLCAiZmlsbFJ1bGUiOiAiZXZlbm9kZCIsICJsaW5lQ2FwIjogInJvdW5kIiwgImxpbmVKb2luIjogInJvdW5kIiwgIm9wYWNpdHkiOiAxLjAsICJyYWRpdXMiOiA1LCAic3Ryb2tlIjogdHJ1ZSwgIndlaWdodCI6IDN9CiAgICAgICAgICAgICkuYWRkVG8obWFwXzg0Yzk0M2I3ZDU0MDQ0MjA5OGU3ZjBiOWFiN2ZjYjVlKTsKICAgICAgICAKICAgIAogICAgICAgIHZhciBwb3B1cF81ODVkYWY5ZDg0NGE0NzM1YTllYmY4ODM1NjhjOGU2MCA9IEwucG9wdXAoeyJtYXhXaWR0aCI6ICIxMDAlIn0pOwoKICAgICAgICAKICAgICAgICAgICAgdmFyIGh0bWxfNTJiOGQ1MTUzY2RmNDZhYzg2NmNhZGU5YjcwNDMwMWUgPSAkKGA8ZGl2IGlkPSJodG1sXzUyYjhkNTE1M2NkZjQ2YWM4NjZjYWRlOWI3MDQzMDFlIiBzdHlsZT0id2lkdGg6IDEwMC4wJTsgaGVpZ2h0OiAxMDAuMCU7Ij5QZWRpY3VsYXJpcy1sb25naWZsb3JhIHwgREUzNjkgfCAyMDE4PC9kaXY+YClbMF07CiAgICAgICAgICAgIHBvcHVwXzU4NWRhZjlkODQ0YTQ3MzVhOWViZjg4MzU2OGM4ZTYwLnNldENvbnRlbnQoaHRtbF81MmI4ZDUxNTNjZGY0NmFjODY2Y2FkZTliNzA0MzAxZSk7CiAgICAgICAgCgogICAgICAgIGNpcmNsZV9tYXJrZXJfMDk1NTI5MThhNzA4NDA2ODhlZjk4NjgyM2M3ODI0YTcuYmluZFBvcHVwKHBvcHVwXzU4NWRhZjlkODQ0YTQ3MzVhOWViZjg4MzU2OGM4ZTYwKQogICAgICAgIDsKCiAgICAgICAgCiAgICAKICAgIAogICAgICAgICAgICB2YXIgY2lyY2xlX21hcmtlcl8zYmRmNzBmNGZmNDk0MmRjYmZkYTU5ZDdlNTk2MzkzYSA9IEwuY2lyY2xlTWFya2VyKAogICAgICAgICAgICAgICAgWzMwLjI4NzM2MTExMTExMTExNCwgOTkuNDk0OTcyMjIyMjIyMjJdLAogICAgICAgICAgICAgICAgeyJidWJibGluZ01vdXNlRXZlbnRzIjogdHJ1ZSwgImNvbG9yIjogInJnYmEoODUuMSUsMzcuMyUsMC44JSwxLjAwMCkiLCAiZGFzaEFycmF5IjogbnVsbCwgImRhc2hPZmZzZXQiOiBudWxsLCAiZmlsbCI6IHRydWUsICJmaWxsQ29sb3IiOiAicmdiYSg4NS4xJSwzNy4zJSwwLjglLDEuMDAwKSIsICJmaWxsT3BhY2l0eSI6IDAuMiwgImZpbGxSdWxlIjogImV2ZW5vZGQiLCAibGluZUNhcCI6ICJyb3VuZCIsICJsaW5lSm9pbiI6ICJyb3VuZCIsICJvcGFjaXR5IjogMS4wLCAicmFkaXVzIjogNSwgInN0cm9rZSI6IHRydWUsICJ3ZWlnaHQiOiAzfQogICAgICAgICAgICApLmFkZFRvKG1hcF84NGM5NDNiN2Q1NDA0NDIwOThlN2YwYjlhYjdmY2I1ZSk7CiAgICAgICAgCiAgICAKICAgICAgICB2YXIgcG9wdXBfYTgwNmE2MTk1NjJkNDMxNzlhOWMwNWZiNzM3YWIwMzIgPSBMLnBvcHVwKHsibWF4V2lkdGgiOiAiMTAwJSJ9KTsKCiAgICAgICAgCiAgICAgICAgICAgIHZhciBodG1sX2FhY2E5NWIwZjY2ODQzMjE5YzNjYjFkOWE4YjU0OWJiID0gJChgPGRpdiBpZD0iaHRtbF9hYWNhOTViMGY2Njg0MzIxOWMzY2IxZDlhOGI1NDliYiIgc3R5bGU9IndpZHRoOiAxMDAuMCU7IGhlaWdodDogMTAwLjAlOyI+UGVkaWN1bGFyaXMtbG9uZ2lmbG9yYSB8IERFMzgzIHwgMjAxODwvZGl2PmApWzBdOwogICAgICAgICAgICBwb3B1cF9hODA2YTYxOTU2MmQ0MzE3OWE5YzA1ZmI3MzdhYjAzMi5zZXRDb250ZW50KGh0bWxfYWFjYTk1YjBmNjY4NDMyMTljM2NiMWQ5YThiNTQ5YmIpOwogICAgICAgIAoKICAgICAgICBjaXJjbGVfbWFya2VyXzNiZGY3MGY0ZmY0OTQyZGNiZmRhNTlkN2U1OTYzOTNhLmJpbmRQb3B1cChwb3B1cF9hODA2YTYxOTU2MmQ0MzE3OWE5YzA1ZmI3MzdhYjAzMikKICAgICAgICA7CgogICAgICAgIAogICAgCiAgICAKICAgICAgICAgICAgdmFyIGNpcmNsZV9tYXJrZXJfY2JhMTE1NzQ1ZmZiNGU5Y2IxMzllYjA4NzM3MTFmOWMgPSBMLmNpcmNsZU1hcmtlcigKICAgICAgICAgICAgICAgIFszMC4yOTcwMjc3Nzc3Nzc3NzgsIDk5LjY3MV0sCiAgICAgICAgICAgICAgICB7ImJ1YmJsaW5nTW91c2VFdmVudHMiOiB0cnVlLCAiY29sb3IiOiAicmdiYSg4NS4xJSwzNy4zJSwwLjglLDEuMDAwKSIsICJkYXNoQXJyYXkiOiBudWxsLCAiZGFzaE9mZnNldCI6IG51bGwsICJmaWxsIjogdHJ1ZSwgImZpbGxDb2xvciI6ICJyZ2JhKDg1LjElLDM3LjMlLDAuOCUsMS4wMDApIiwgImZpbGxPcGFjaXR5IjogMC4yLCAiZmlsbFJ1bGUiOiAiZXZlbm9kZCIsICJsaW5lQ2FwIjogInJvdW5kIiwgImxpbmVKb2luIjogInJvdW5kIiwgIm9wYWNpdHkiOiAxLjAsICJyYWRpdXMiOiA1LCAic3Ryb2tlIjogdHJ1ZSwgIndlaWdodCI6IDN9CiAgICAgICAgICAgICkuYWRkVG8obWFwXzg0Yzk0M2I3ZDU0MDQ0MjA5OGU3ZjBiOWFiN2ZjYjVlKTsKICAgICAgICAKICAgIAogICAgICAgIHZhciBwb3B1cF9mZDg5NTNjM2ZlYTA0MWE1YWJkODAzZjE1YjY5M2NmZSA9IEwucG9wdXAoeyJtYXhXaWR0aCI6ICIxMDAlIn0pOwoKICAgICAgICAKICAgICAgICAgICAgdmFyIGh0bWxfNDkxMDBiZTYzYTBlNDI1ODhhODU0YjI2MGVhMDYyODkgPSAkKGA8ZGl2IGlkPSJodG1sXzQ5MTAwYmU2M2EwZTQyNTg4YTg1NGIyNjBlYTA2Mjg5IiBzdHlsZT0id2lkdGg6IDEwMC4wJTsgaGVpZ2h0OiAxMDAuMCU7Ij5QZWRpY3VsYXJpcy1sb25naWZsb3JhIHZhci4gdHViaWZvcm1lcyB8IERFMzk1IHwgMjAxODwvZGl2PmApWzBdOwogICAgICAgICAgICBwb3B1cF9mZDg5NTNjM2ZlYTA0MWE1YWJkODAzZjE1YjY5M2NmZS5zZXRDb250ZW50KGh0bWxfNDkxMDBiZTYzYTBlNDI1ODhhODU0YjI2MGVhMDYyODkpOwogICAgICAgIAoKICAgICAgICBjaXJjbGVfbWFya2VyX2NiYTExNTc0NWZmYjRlOWNiMTM5ZWIwODczNzExZjljLmJpbmRQb3B1cChwb3B1cF9mZDg5NTNjM2ZlYTA0MWE1YWJkODAzZjE1YjY5M2NmZSkKICAgICAgICA7CgogICAgICAgIAogICAgCiAgICAKICAgICAgICAgICAgdmFyIGNpcmNsZV9tYXJrZXJfMTVhNWExOTQ3ZjI4NGViZWFjYjJkMDI2MDJmMTcwNGQgPSBMLmNpcmNsZU1hcmtlcigKICAgICAgICAgICAgICAgIFszMC4yMjcyNzc3Nzc3Nzc3NzUsIDEwMC4yNDc2OTQ0NDQ0NDQ0NV0sCiAgICAgICAgICAgICAgICB7ImJ1YmJsaW5nTW91c2VFdmVudHMiOiB0cnVlLCAiY29sb3IiOiAicmdiYSg4NS4xJSwzNy4zJSwwLjglLDEuMDAwKSIsICJkYXNoQXJyYXkiOiBudWxsLCAiZGFzaE9mZnNldCI6IG51bGwsICJmaWxsIjogdHJ1ZSwgImZpbGxDb2xvciI6ICJyZ2JhKDg1LjElLDM3LjMlLDAuOCUsMS4wMDApIiwgImZpbGxPcGFjaXR5IjogMC4yLCAiZmlsbFJ1bGUiOiAiZXZlbm9kZCIsICJsaW5lQ2FwIjogInJvdW5kIiwgImxpbmVKb2luIjogInJvdW5kIiwgIm9wYWNpdHkiOiAxLjAsICJyYWRpdXMiOiA1LCAic3Ryb2tlIjogdHJ1ZSwgIndlaWdodCI6IDN9CiAgICAgICAgICAgICkuYWRkVG8obWFwXzg0Yzk0M2I3ZDU0MDQ0MjA5OGU3ZjBiOWFiN2ZjYjVlKTsKICAgICAgICAKICAgIAogICAgICAgIHZhciBwb3B1cF8zYTZkOGQzMmFkZTk0NDRiOWQyN2QzMmI4MGJmYTNjOCA9IEwucG9wdXAoeyJtYXhXaWR0aCI6ICIxMDAlIn0pOwoKICAgICAgICAKICAgICAgICAgICAgdmFyIGh0bWxfN2IyN2JiNzVkMzRkNDMwZTliNmZjMzMwYzZmNjE4NDcgPSAkKGA8ZGl2IGlkPSJodG1sXzdiMjdiYjc1ZDM0ZDQzMGU5YjZmYzMzMGM2ZjYxODQ3IiBzdHlsZT0id2lkdGg6IDEwMC4wJTsgaGVpZ2h0OiAxMDAuMCU7Ij5QZWRpY3VsYXJpcy1sb25naWZsb3JhIHwgREU0MDIgfCAyMDE4PC9kaXY+YClbMF07CiAgICAgICAgICAgIHBvcHVwXzNhNmQ4ZDMyYWRlOTQ0NGI5ZDI3ZDMyYjgwYmZhM2M4LnNldENvbnRlbnQoaHRtbF83YjI3YmI3NWQzNGQ0MzBlOWI2ZmMzMzBjNmY2MTg0Nyk7CiAgICAgICAgCgogICAgICAgIGNpcmNsZV9tYXJrZXJfMTVhNWExOTQ3ZjI4NGViZWFjYjJkMDI2MDJmMTcwNGQuYmluZFBvcHVwKHBvcHVwXzNhNmQ4ZDMyYWRlOTQ0NGI5ZDI3ZDMyYjgwYmZhM2M4KQogICAgICAgIDsKCiAgICAgICAgCiAgICAKICAgIAogICAgICAgICAgICB2YXIgY2lyY2xlX21hcmtlcl82ZDExMGMzNWY0MDY0ODQxYThjOWUzODhiYTZiYjJlYiA9IEwuY2lyY2xlTWFya2VyKAogICAgICAgICAgICAgICAgWzI5LjE0MTgwNTU1NTU1NTU1NywgMTAwLjE1NjYxMTExMTExMTEyXSwKICAgICAgICAgICAgICAgIHsiYnViYmxpbmdNb3VzZUV2ZW50cyI6IHRydWUsICJjb2xvciI6ICJyZ2JhKDg1LjElLDM3LjMlLDAuOCUsMS4wMDApIiwgImRhc2hBcnJheSI6IG51bGwsICJkYXNoT2Zmc2V0IjogbnVsbCwgImZpbGwiOiB0cnVlLCAiZmlsbENvbG9yIjogInJnYmEoODUuMSUsMzcuMyUsMC44JSwxLjAwMCkiLCAiZmlsbE9wYWNpdHkiOiAwLjIsICJmaWxsUnVsZSI6ICJldmVub2RkIiwgImxpbmVDYXAiOiAicm91bmQiLCAibGluZUpvaW4iOiAicm91bmQiLCAib3BhY2l0eSI6IDEuMCwgInJhZGl1cyI6IDUsICJzdHJva2UiOiB0cnVlLCAid2VpZ2h0IjogM30KICAgICAgICAgICAgKS5hZGRUbyhtYXBfODRjOTQzYjdkNTQwNDQyMDk4ZTdmMGI5YWI3ZmNiNWUpOwogICAgICAgIAogICAgCiAgICAgICAgdmFyIHBvcHVwX2UyNGU4OWYwM2VlNDQ1NmJiYTMxY2VhNjZkNjU0NjAzID0gTC5wb3B1cCh7Im1heFdpZHRoIjogIjEwMCUifSk7CgogICAgICAgIAogICAgICAgICAgICB2YXIgaHRtbF8wZjNmMDY1MzgzNGE0ZTM5OGE0Y2EzMGU3ZGFlMGUzZiA9ICQoYDxkaXYgaWQ9Imh0bWxfMGYzZjA2NTM4MzRhNGUzOThhNGNhMzBlN2RhZTBlM2YiIHN0eWxlPSJ3aWR0aDogMTAwLjAlOyBoZWlnaHQ6IDEwMC4wJTsiPlBlZGljdWxhcmlzLWxvbmdpZmxvcmEgfCBERTQyNCB8IDIwMTg8L2Rpdj5gKVswXTsKICAgICAgICAgICAgcG9wdXBfZTI0ZTg5ZjAzZWU0NDU2YmJhMzFjZWE2NmQ2NTQ2MDMuc2V0Q29udGVudChodG1sXzBmM2YwNjUzODM0YTRlMzk4YTRjYTMwZTdkYWUwZTNmKTsKICAgICAgICAKCiAgICAgICAgY2lyY2xlX21hcmtlcl82ZDExMGMzNWY0MDY0ODQxYThjOWUzODhiYTZiYjJlYi5iaW5kUG9wdXAocG9wdXBfZTI0ZTg5ZjAzZWU0NDU2YmJhMzFjZWE2NmQ2NTQ2MDMpCiAgICAgICAgOwoKICAgICAgICAKICAgIAogICAgCiAgICAgICAgICAgIHZhciBjaXJjbGVfbWFya2VyXzkyZDZlZDM3YTFkZTQ2MGU4YjBiODM3ZmZiNDhmMDljID0gTC5jaXJjbGVNYXJrZXIoCiAgICAgICAgICAgICAgICBbMjguNzQ2Mzg4ODg4ODg4ODksIDEwMC4yNjkxNjY2NjY2NjY2Nl0sCiAgICAgICAgICAgICAgICB7ImJ1YmJsaW5nTW91c2VFdmVudHMiOiB0cnVlLCAiY29sb3IiOiAicmdiYSg4NS4xJSwzNy4zJSwwLjglLDEuMDAwKSIsICJkYXNoQXJyYXkiOiBudWxsLCAiZGFzaE9mZnNldCI6IG51bGwsICJmaWxsIjogdHJ1ZSwgImZpbGxDb2xvciI6ICJyZ2JhKDg1LjElLDM3LjMlLDAuOCUsMS4wMDApIiwgImZpbGxPcGFjaXR5IjogMC4yLCAiZmlsbFJ1bGUiOiAiZXZlbm9kZCIsICJsaW5lQ2FwIjogInJvdW5kIiwgImxpbmVKb2luIjogInJvdW5kIiwgIm9wYWNpdHkiOiAxLjAsICJyYWRpdXMiOiA1LCAic3Ryb2tlIjogdHJ1ZSwgIndlaWdodCI6IDN9CiAgICAgICAgICAgICkuYWRkVG8obWFwXzg0Yzk0M2I3ZDU0MDQ0MjA5OGU3ZjBiOWFiN2ZjYjVlKTsKICAgICAgICAKICAgIAogICAgICAgIHZhciBwb3B1cF84MWVlMzQ3ZjllOTQ0NjBlYjllN2U2YTA2YWViN2RhZCA9IEwucG9wdXAoeyJtYXhXaWR0aCI6ICIxMDAlIn0pOwoKICAgICAgICAKICAgICAgICAgICAgdmFyIGh0bWxfMmM2ZjRhOGY1MjU1NGU4NWIzNmMyNDgxYTQwMmUyZDQgPSAkKGA8ZGl2IGlkPSJodG1sXzJjNmY0YThmNTI1NTRlODViMzZjMjQ4MWE0MDJlMmQ0IiBzdHlsZT0id2lkdGg6IDEwMC4wJTsgaGVpZ2h0OiAxMDAuMCU7Ij5QZWRpY3VsYXJpcy1sb25naWZsb3JhIHwgREU0MzYgfCAyMDE4PC9kaXY+YClbMF07CiAgICAgICAgICAgIHBvcHVwXzgxZWUzNDdmOWU5NDQ2MGViOWU3ZTZhMDZhZWI3ZGFkLnNldENvbnRlbnQoaHRtbF8yYzZmNGE4ZjUyNTU0ZTg1YjM2YzI0ODFhNDAyZTJkNCk7CiAgICAgICAgCgogICAgICAgIGNpcmNsZV9tYXJrZXJfOTJkNmVkMzdhMWRlNDYwZThiMGI4MzdmZmI0OGYwOWMuYmluZFBvcHVwKHBvcHVwXzgxZWUzNDdmOWU5NDQ2MGViOWU3ZTZhMDZhZWI3ZGFkKQogICAgICAgIDsKCiAgICAgICAgCiAgICAKICAgIAogICAgICAgICAgICB2YXIgY2lyY2xlX21hcmtlcl8yYTFhNTZiZTRiMjM0YjVjOGM3MTBkMjcyOWM1ZWEyZSA9IEwuY2lyY2xlTWFya2VyKAogICAgICAgICAgICAgICAgWzI3LjgwNzYzODg4ODg4ODg5LCA5OS43NjI5NzIyMjIyMjIyMl0sCiAgICAgICAgICAgICAgICB7ImJ1YmJsaW5nTW91c2VFdmVudHMiOiB0cnVlLCAiY29sb3IiOiAicmdiYSg4NS4xJSwzNy4zJSwwLjglLDEuMDAwKSIsICJkYXNoQXJyYXkiOiBudWxsLCAiZGFzaE9mZnNldCI6IG51bGwsICJmaWxsIjogdHJ1ZSwgImZpbGxDb2xvciI6ICJyZ2JhKDg1LjElLDM3LjMlLDAuOCUsMS4wMDApIiwgImZpbGxPcGFjaXR5IjogMC4yLCAiZmlsbFJ1bGUiOiAiZXZlbm9kZCIsICJsaW5lQ2FwIjogInJvdW5kIiwgImxpbmVKb2luIjogInJvdW5kIiwgIm9wYWNpdHkiOiAxLjAsICJyYWRpdXMiOiA1LCAic3Ryb2tlIjogdHJ1ZSwgIndlaWdodCI6IDN9CiAgICAgICAgICAgICkuYWRkVG8obWFwXzg0Yzk0M2I3ZDU0MDQ0MjA5OGU3ZjBiOWFiN2ZjYjVlKTsKICAgICAgICAKICAgIAogICAgICAgIHZhciBwb3B1cF9jNTc4ZDAwMzVjZGY0Yzk1OTdiNTIzZGFlZjY3M2Y1ZiA9IEwucG9wdXAoeyJtYXhXaWR0aCI6ICIxMDAlIn0pOwoKICAgICAgICAKICAgICAgICAgICAgdmFyIGh0bWxfZjBjOGZlYzE0MjQxNGU5ZWIxMTdkNmFjZjliZjkwMGMgPSAkKGA8ZGl2IGlkPSJodG1sX2YwYzhmZWMxNDI0MTRlOWViMTE3ZDZhY2Y5YmY5MDBjIiBzdHlsZT0id2lkdGg6IDEwMC4wJTsgaGVpZ2h0OiAxMDAuMCU7Ij5QZWRpY3VsYXJpcy1sb25naWZsb3JhIHwgREU0NjQgfCAyMDE4PC9kaXY+YClbMF07CiAgICAgICAgICAgIHBvcHVwX2M1NzhkMDAzNWNkZjRjOTU5N2I1MjNkYWVmNjczZjVmLnNldENvbnRlbnQoaHRtbF9mMGM4ZmVjMTQyNDE0ZTllYjExN2Q2YWNmOWJmOTAwYyk7CiAgICAgICAgCgogICAgICAgIGNpcmNsZV9tYXJrZXJfMmExYTU2YmU0YjIzNGI1YzhjNzEwZDI3MjljNWVhMmUuYmluZFBvcHVwKHBvcHVwX2M1NzhkMDAzNWNkZjRjOTU5N2I1MjNkYWVmNjczZjVmKQogICAgICAgIDsKCiAgICAgICAgCiAgICAKICAgIAogICAgICAgICAgICB2YXIgY2lyY2xlX21hcmtlcl82NWEyYTZkMzkxOTE0ZWM3ODg5NGY5NDMzYWE1MzM3OCA9IEwuY2lyY2xlTWFya2VyKAogICAgICAgICAgICAgICAgWzI4LjI5MDI3Nzc3Nzc3Nzc3OCwgMTAxLjE1NDk0NDQ0NDQ0NDQ1XSwKICAgICAgICAgICAgICAgIHsiYnViYmxpbmdNb3VzZUV2ZW50cyI6IHRydWUsICJjb2xvciI6ICJyZ2JhKDg1LjElLDM3LjMlLDAuOCUsMS4wMDApIiwgImRhc2hBcnJheSI6IG51bGwsICJkYXNoT2Zmc2V0IjogbnVsbCwgImZpbGwiOiB0cnVlLCAiZmlsbENvbG9yIjogInJnYmEoODUuMSUsMzcuMyUsMC44JSwxLjAwMCkiLCAiZmlsbE9wYWNpdHkiOiAwLjIsICJmaWxsUnVsZSI6ICJldmVub2RkIiwgImxpbmVDYXAiOiAicm91bmQiLCAibGluZUpvaW4iOiAicm91bmQiLCAib3BhY2l0eSI6IDEuMCwgInJhZGl1cyI6IDUsICJzdHJva2UiOiB0cnVlLCAid2VpZ2h0IjogM30KICAgICAgICAgICAgKS5hZGRUbyhtYXBfODRjOTQzYjdkNTQwNDQyMDk4ZTdmMGI5YWI3ZmNiNWUpOwogICAgICAgIAogICAgCiAgICAgICAgdmFyIHBvcHVwXzc4NzBkMjQyZjY3OTRhN2U4ZjA2ZTVlZTM2MzBkNDhiID0gTC5wb3B1cCh7Im1heFdpZHRoIjogIjEwMCUifSk7CgogICAgICAgIAogICAgICAgICAgICB2YXIgaHRtbF84ZjVkNjlmYTg4M2E0Mzc0OWIxNjA0YjBiOWY2ZGNmZiA9ICQoYDxkaXYgaWQ9Imh0bWxfOGY1ZDY5ZmE4ODNhNDM3NDliMTYwNGIwYjlmNmRjZmYiIHN0eWxlPSJ3aWR0aDogMTAwLjAlOyBoZWlnaHQ6IDEwMC4wJTsiPlBlZGljdWxhcmlzLWxvbmdpZmxvcmEgfCBERTQ5OCB8IDIwMTk8L2Rpdj5gKVswXTsKICAgICAgICAgICAgcG9wdXBfNzg3MGQyNDJmNjc5NGE3ZThmMDZlNWVlMzYzMGQ0OGIuc2V0Q29udGVudChodG1sXzhmNWQ2OWZhODgzYTQzNzQ5YjE2MDRiMGI5ZjZkY2ZmKTsKICAgICAgICAKCiAgICAgICAgY2lyY2xlX21hcmtlcl82NWEyYTZkMzkxOTE0ZWM3ODg5NGY5NDMzYWE1MzM3OC5iaW5kUG9wdXAocG9wdXBfNzg3MGQyNDJmNjc5NGE3ZThmMDZlNWVlMzYzMGQ0OGIpCiAgICAgICAgOwoKICAgICAgICAKICAgIAogICAgCiAgICAgICAgICAgIHZhciBjaXJjbGVfbWFya2VyXzdkOGM1ODRmNTJlMTRhZmViMDY1MDQwYmRhMzQwZGFkID0gTC5jaXJjbGVNYXJrZXIoCiAgICAgICAgICAgICAgICBbMzAuMDEyODg4ODg4ODg4ODg4LCAxMDEuODYyNzIyMjIyMjIyMjJdLAogICAgICAgICAgICAgICAgeyJidWJibGluZ01vdXNlRXZlbnRzIjogdHJ1ZSwgImNvbG9yIjogInJnYmEoODUuMSUsMzcuMyUsMC44JSwxLjAwMCkiLCAiZGFzaEFycmF5IjogbnVsbCwgImRhc2hPZmZzZXQiOiBudWxsLCAiZmlsbCI6IHRydWUsICJmaWxsQ29sb3IiOiAicmdiYSg4NS4xJSwzNy4zJSwwLjglLDEuMDAwKSIsICJmaWxsT3BhY2l0eSI6IDAuMiwgImZpbGxSdWxlIjogImV2ZW5vZGQiLCAibGluZUNhcCI6ICJyb3VuZCIsICJsaW5lSm9pbiI6ICJyb3VuZCIsICJvcGFjaXR5IjogMS4wLCAicmFkaXVzIjogNSwgInN0cm9rZSI6IHRydWUsICJ3ZWlnaHQiOiAzfQogICAgICAgICAgICApLmFkZFRvKG1hcF84NGM5NDNiN2Q1NDA0NDIwOThlN2YwYjlhYjdmY2I1ZSk7CiAgICAgICAgCiAgICAKICAgICAgICB2YXIgcG9wdXBfYjJiZjlmOWE1Yzc4NDliYmI4MWZmZjIyMWFmMzA5NzMgPSBMLnBvcHVwKHsibWF4V2lkdGgiOiAiMTAwJSJ9KTsKCiAgICAgICAgCiAgICAgICAgICAgIHZhciBodG1sXzdlMDA0OGRlMWM5NTQ1MTZhNWQzMDgwMTM1NWQzMTczID0gJChgPGRpdiBpZD0iaHRtbF83ZTAwNDhkZTFjOTU0NTE2YTVkMzA4MDEzNTVkMzE3MyIgc3R5bGU9IndpZHRoOiAxMDAuMCU7IGhlaWdodDogMTAwLjAlOyI+UGVkaWN1bGFyaXMtbG9uZ2lmbG9yYSB8IERFNTMxIHwgMjAxOTwvZGl2PmApWzBdOwogICAgICAgICAgICBwb3B1cF9iMmJmOWY5YTVjNzg0OWJiYjgxZmZmMjIxYWYzMDk3My5zZXRDb250ZW50KGh0bWxfN2UwMDQ4ZGUxYzk1NDUxNmE1ZDMwODAxMzU1ZDMxNzMpOwogICAgICAgIAoKICAgICAgICBjaXJjbGVfbWFya2VyXzdkOGM1ODRmNTJlMTRhZmViMDY1MDQwYmRhMzQwZGFkLmJpbmRQb3B1cChwb3B1cF9iMmJmOWY5YTVjNzg0OWJiYjgxZmZmMjIxYWYzMDk3MykKICAgICAgICA7CgogICAgICAgIAogICAgCiAgICAKICAgICAgICAgICAgdmFyIGNpcmNsZV9tYXJrZXJfZDdkZTM3OGJkOWJkNDMzZmFhNGZkNTczYzhkYzA5NGYgPSBMLmNpcmNsZU1hcmtlcigKICAgICAgICAgICAgICAgIFszMi4xMzg2OTQ0NDQ0NDQ0NSwgMTAxLjAzOTk5OTk5OTk5OTk5XSwKICAgICAgICAgICAgICAgIHsiYnViYmxpbmdNb3VzZUV2ZW50cyI6IHRydWUsICJjb2xvciI6ICJyZ2JhKDg1LjElLDM3LjMlLDAuOCUsMS4wMDApIiwgImRhc2hBcnJheSI6IG51bGwsICJkYXNoT2Zmc2V0IjogbnVsbCwgImZpbGwiOiB0cnVlLCAiZmlsbENvbG9yIjogInJnYmEoODUuMSUsMzcuMyUsMC44JSwxLjAwMCkiLCAiZmlsbE9wYWNpdHkiOiAwLjIsICJmaWxsUnVsZSI6ICJldmVub2RkIiwgImxpbmVDYXAiOiAicm91bmQiLCAibGluZUpvaW4iOiAicm91bmQiLCAib3BhY2l0eSI6IDEuMCwgInJhZGl1cyI6IDUsICJzdHJva2UiOiB0cnVlLCAid2VpZ2h0IjogM30KICAgICAgICAgICAgKS5hZGRUbyhtYXBfODRjOTQzYjdkNTQwNDQyMDk4ZTdmMGI5YWI3ZmNiNWUpOwogICAgICAgIAogICAgCiAgICAgICAgdmFyIHBvcHVwX2UyMmI3YTgzOTE1YjQ4YmRiYzhkNzU0Yjk2YWRhZTA4ID0gTC5wb3B1cCh7Im1heFdpZHRoIjogIjEwMCUifSk7CgogICAgICAgIAogICAgICAgICAgICB2YXIgaHRtbF8wYTczYjJmNGNmNzI0YWY1OGQ0NjE1NjlhODVmOTNjNSA9ICQoYDxkaXYgaWQ9Imh0bWxfMGE3M2IyZjRjZjcyNGFmNThkNDYxNTY5YTg1ZjkzYzUiIHN0eWxlPSJ3aWR0aDogMTAwLjAlOyBoZWlnaHQ6IDEwMC4wJTsiPlBlZGljdWxhcmlzLWxvbmdpZmxvcmEgfCBERTYyMiB8IDIwMTk8L2Rpdj5gKVswXTsKICAgICAgICAgICAgcG9wdXBfZTIyYjdhODM5MTViNDhiZGJjOGQ3NTRiOTZhZGFlMDguc2V0Q29udGVudChodG1sXzBhNzNiMmY0Y2Y3MjRhZjU4ZDQ2MTU2OWE4NWY5M2M1KTsKICAgICAgICAKCiAgICAgICAgY2lyY2xlX21hcmtlcl9kN2RlMzc4YmQ5YmQ0MzNmYWE0ZmQ1NzNjOGRjMDk0Zi5iaW5kUG9wdXAocG9wdXBfZTIyYjdhODM5MTViNDhiZGJjOGQ3NTRiOTZhZGFlMDgpCiAgICAgICAgOwoKICAgICAgICAKICAgIAogICAgCiAgICAgICAgICAgIHZhciBjaXJjbGVfbWFya2VyXzViN2E3YjA5NThlNjQ1MTJhN2Q1OTdjMzI5NWJhMGFjID0gTC5jaXJjbGVNYXJrZXIoCiAgICAgICAgICAgICAgICBbMzIuMzI1Mjc3Nzc3Nzc3NzgsIDEwMS4wODA2Mzg4ODg4ODg4OF0sCiAgICAgICAgICAgICAgICB7ImJ1YmJsaW5nTW91c2VFdmVudHMiOiB0cnVlLCAiY29sb3IiOiAicmdiYSg4NS4xJSwzNy4zJSwwLjglLDEuMDAwKSIsICJkYXNoQXJyYXkiOiBudWxsLCAiZGFzaE9mZnNldCI6IG51bGwsICJmaWxsIjogdHJ1ZSwgImZpbGxDb2xvciI6ICJyZ2JhKDg1LjElLDM3LjMlLDAuOCUsMS4wMDApIiwgImZpbGxPcGFjaXR5IjogMC4yLCAiZmlsbFJ1bGUiOiAiZXZlbm9kZCIsICJsaW5lQ2FwIjogInJvdW5kIiwgImxpbmVKb2luIjogInJvdW5kIiwgIm9wYWNpdHkiOiAxLjAsICJyYWRpdXMiOiA1LCAic3Ryb2tlIjogdHJ1ZSwgIndlaWdodCI6IDN9CiAgICAgICAgICAgICkuYWRkVG8obWFwXzg0Yzk0M2I3ZDU0MDQ0MjA5OGU3ZjBiOWFiN2ZjYjVlKTsKICAgICAgICAKICAgIAogICAgICAgIHZhciBwb3B1cF9kZmY3M2I2ZWY2MGE0YzMwYTc5NGU4MmYxYTQyMTBlNiA9IEwucG9wdXAoeyJtYXhXaWR0aCI6ICIxMDAlIn0pOwoKICAgICAgICAKICAgICAgICAgICAgdmFyIGh0bWxfNTBkMGIxMDY0NDdiNDlhZGE3YTgyOGNkZDkyMjQ5MjEgPSAkKGA8ZGl2IGlkPSJodG1sXzUwZDBiMTA2NDQ3YjQ5YWRhN2E4MjhjZGQ5MjI0OTIxIiBzdHlsZT0id2lkdGg6IDEwMC4wJTsgaGVpZ2h0OiAxMDAuMCU7Ij5QZWRpY3VsYXJpcy1sb25naWZsb3JhIHwgREU2MzQgfCAyMDE5PC9kaXY+YClbMF07CiAgICAgICAgICAgIHBvcHVwX2RmZjczYjZlZjYwYTRjMzBhNzk0ZTgyZjFhNDIxMGU2LnNldENvbnRlbnQoaHRtbF81MGQwYjEwNjQ0N2I0OWFkYTdhODI4Y2RkOTIyNDkyMSk7CiAgICAgICAgCgogICAgICAgIGNpcmNsZV9tYXJrZXJfNWI3YTdiMDk1OGU2NDUxMmE3ZDU5N2MzMjk1YmEwYWMuYmluZFBvcHVwKHBvcHVwX2RmZjczYjZlZjYwYTRjMzBhNzk0ZTgyZjFhNDIxMGU2KQogICAgICAgIDsKCiAgICAgICAgCiAgICAKICAgIAogICAgICAgICAgICB2YXIgY2lyY2xlX21hcmtlcl9iYzQwZTA1YzdlZWY0ZDQ3YTJkYWUwZDhjYmEzMzQ2YSA9IEwuY2lyY2xlTWFya2VyKAogICAgICAgICAgICAgICAgWzMyLjMzNzUwMDAwMDAwMDAwNiwgMTAxLjQyMDgzMzMzMzMzMzMzXSwKICAgICAgICAgICAgICAgIHsiYnViYmxpbmdNb3VzZUV2ZW50cyI6IHRydWUsICJjb2xvciI6ICJyZ2JhKDg1LjElLDM3LjMlLDAuOCUsMS4wMDApIiwgImRhc2hBcnJheSI6IG51bGwsICJkYXNoT2Zmc2V0IjogbnVsbCwgImZpbGwiOiB0cnVlLCAiZmlsbENvbG9yIjogInJnYmEoODUuMSUsMzcuMyUsMC44JSwxLjAwMCkiLCAiZmlsbE9wYWNpdHkiOiAwLjIsICJmaWxsUnVsZSI6ICJldmVub2RkIiwgImxpbmVDYXAiOiAicm91bmQiLCAibGluZUpvaW4iOiAicm91bmQiLCAib3BhY2l0eSI6IDEuMCwgInJhZGl1cyI6IDUsICJzdHJva2UiOiB0cnVlLCAid2VpZ2h0IjogM30KICAgICAgICAgICAgKS5hZGRUbyhtYXBfODRjOTQzYjdkNTQwNDQyMDk4ZTdmMGI5YWI3ZmNiNWUpOwogICAgICAgIAogICAgCiAgICAgICAgdmFyIHBvcHVwX2VkYjYzY2RlZGFhYzQyY2Y4Y2UwOTJkYmY2NWI4MmE5ID0gTC5wb3B1cCh7Im1heFdpZHRoIjogIjEwMCUifSk7CgogICAgICAgIAogICAgICAgICAgICB2YXIgaHRtbF8xNTEzZWNjNzUwMmY0NWE5ODA0NTg3NTczYTNlOTVlZiA9ICQoYDxkaXYgaWQ9Imh0bWxfMTUxM2VjYzc1MDJmNDVhOTgwNDU4NzU3M2EzZTk1ZWYiIHN0eWxlPSJ3aWR0aDogMTAwLjAlOyBoZWlnaHQ6IDEwMC4wJTsiPlBlZGljdWxhcmlzLWxvbmdpZmxvcmEgfCBERTY0NCB8IDIwMTk8L2Rpdj5gKVswXTsKICAgICAgICAgICAgcG9wdXBfZWRiNjNjZGVkYWFjNDJjZjhjZTA5MmRiZjY1YjgyYTkuc2V0Q29udGVudChodG1sXzE1MTNlY2M3NTAyZjQ1YTk4MDQ1ODc1NzNhM2U5NWVmKTsKICAgICAgICAKCiAgICAgICAgY2lyY2xlX21hcmtlcl9iYzQwZTA1YzdlZWY0ZDQ3YTJkYWUwZDhjYmEzMzQ2YS5iaW5kUG9wdXAocG9wdXBfZWRiNjNjZGVkYWFjNDJjZjhjZTA5MmRiZjY1YjgyYTkpCiAgICAgICAgOwoKICAgICAgICAKICAgIAogICAgCiAgICAgICAgICAgIHZhciBjaXJjbGVfbWFya2VyXzEzODIyMjk2NTM3YTRkMTg5YjJmOGU5OTM3Y2JhMzViID0gTC5jaXJjbGVNYXJrZXIoCiAgICAgICAgICAgICAgICBbMzEuNjU3NSwgMTAwLjcwMTMwNTU1NTU1NTU2XSwKICAgICAgICAgICAgICAgIHsiYnViYmxpbmdNb3VzZUV2ZW50cyI6IHRydWUsICJjb2xvciI6ICJyZ2JhKDg1LjElLDM3LjMlLDAuOCUsMS4wMDApIiwgImRhc2hBcnJheSI6IG51bGwsICJkYXNoT2Zmc2V0IjogbnVsbCwgImZpbGwiOiB0cnVlLCAiZmlsbENvbG9yIjogInJnYmEoODUuMSUsMzcuMyUsMC44JSwxLjAwMCkiLCAiZmlsbE9wYWNpdHkiOiAwLjIsICJmaWxsUnVsZSI6ICJldmVub2RkIiwgImxpbmVDYXAiOiAicm91bmQiLCAibGluZUpvaW4iOiAicm91bmQiLCAib3BhY2l0eSI6IDEuMCwgInJhZGl1cyI6IDUsICJzdHJva2UiOiB0cnVlLCAid2VpZ2h0IjogM30KICAgICAgICAgICAgKS5hZGRUbyhtYXBfODRjOTQzYjdkNTQwNDQyMDk4ZTdmMGI5YWI3ZmNiNWUpOwogICAgICAgIAogICAgCiAgICAgICAgdmFyIHBvcHVwXzNkMjlhZWE4YjcyYjQ5YTY5MDVmMzQ0MWEyZTdmNTdlID0gTC5wb3B1cCh7Im1heFdpZHRoIjogIjEwMCUifSk7CgogICAgICAgIAogICAgICAgICAgICB2YXIgaHRtbF84ZTQxOWE4OGQwNTY0OWQwODhhMTkyNWE4NDNkOTE4YSA9ICQoYDxkaXYgaWQ9Imh0bWxfOGU0MTlhODhkMDU2NDlkMDg4YTE5MjVhODQzZDkxOGEiIHN0eWxlPSJ3aWR0aDogMTAwLjAlOyBoZWlnaHQ6IDEwMC4wJTsiPlBlZGljdWxhcmlzLWxvbmdpZmxvcmEgfCBERTY1MSB8IDIwMTk8L2Rpdj5gKVswXTsKICAgICAgICAgICAgcG9wdXBfM2QyOWFlYThiNzJiNDlhNjkwNWYzNDQxYTJlN2Y1N2Uuc2V0Q29udGVudChodG1sXzhlNDE5YTg4ZDA1NjQ5ZDA4OGExOTI1YTg0M2Q5MThhKTsKICAgICAgICAKCiAgICAgICAgY2lyY2xlX21hcmtlcl8xMzgyMjI5NjUzN2E0ZDE4OWIyZjhlOTkzN2NiYTM1Yi5iaW5kUG9wdXAocG9wdXBfM2QyOWFlYThiNzJiNDlhNjkwNWYzNDQxYTJlN2Y1N2UpCiAgICAgICAgOwoKICAgICAgICAKICAgIAogICAgCiAgICAgICAgICAgIHZhciBjaXJjbGVfbWFya2VyX2JiNzRlMzU2ZGM5MDQ4ZTViMmZkNmFkMGE0NTRlOTAyID0gTC5jaXJjbGVNYXJrZXIoCiAgICAgICAgICAgICAgICBbMzIuMzIyNDE2NjY2NjY2NjcsIDEwMi40NTU0MTY2NjY2NjY2Nl0sCiAgICAgICAgICAgICAgICB7ImJ1YmJsaW5nTW91c2VFdmVudHMiOiB0cnVlLCAiY29sb3IiOiAicmdiYSg4NS4xJSwzNy4zJSwwLjglLDEuMDAwKSIsICJkYXNoQXJyYXkiOiBudWxsLCAiZGFzaE9mZnNldCI6IG51bGwsICJmaWxsIjogdHJ1ZSwgImZpbGxDb2xvciI6ICJyZ2JhKDg1LjElLDM3LjMlLDAuOCUsMS4wMDApIiwgImZpbGxPcGFjaXR5IjogMC4yLCAiZmlsbFJ1bGUiOiAiZXZlbm9kZCIsICJsaW5lQ2FwIjogInJvdW5kIiwgImxpbmVKb2luIjogInJvdW5kIiwgIm9wYWNpdHkiOiAxLjAsICJyYWRpdXMiOiA1LCAic3Ryb2tlIjogdHJ1ZSwgIndlaWdodCI6IDN9CiAgICAgICAgICAgICkuYWRkVG8obWFwXzg0Yzk0M2I3ZDU0MDQ0MjA5OGU3ZjBiOWFiN2ZjYjVlKTsKICAgICAgICAKICAgIAogICAgICAgIHZhciBwb3B1cF9lNTVkZmU0YzM4MDU0Y2UzOTdjZDE1OTM5MzFhMDVjOCA9IEwucG9wdXAoeyJtYXhXaWR0aCI6ICIxMDAlIn0pOwoKICAgICAgICAKICAgICAgICAgICAgdmFyIGh0bWxfZDYxZmY0YWI5NTc3NDBkOTg2MzFhOWUzMTBkZWI2NmYgPSAkKGA8ZGl2IGlkPSJodG1sX2Q2MWZmNGFiOTU3NzQwZDk4NjMxYTllMzEwZGViNjZmIiBzdHlsZT0id2lkdGg6IDEwMC4wJTsgaGVpZ2h0OiAxMDAuMCU7Ij5QZWRpY3VsYXJpcy1sb25naWZsb3JhIHwgREU2NjkgfCAyMDE5PC9kaXY+YClbMF07CiAgICAgICAgICAgIHBvcHVwX2U1NWRmZTRjMzgwNTRjZTM5N2NkMTU5MzkzMWEwNWM4LnNldENvbnRlbnQoaHRtbF9kNjFmZjRhYjk1Nzc0MGQ5ODYzMWE5ZTMxMGRlYjY2Zik7CiAgICAgICAgCgogICAgICAgIGNpcmNsZV9tYXJrZXJfYmI3NGUzNTZkYzkwNDhlNWIyZmQ2YWQwYTQ1NGU5MDIuYmluZFBvcHVwKHBvcHVwX2U1NWRmZTRjMzgwNTRjZTM5N2NkMTU5MzkzMWEwNWM4KQogICAgICAgIDsKCiAgICAgICAgCiAgICAKICAgIAogICAgICAgICAgICB2YXIgY2lyY2xlX21hcmtlcl9jNjYxZGRiZTM0ZTQ0NjEwYjhjOTE2YzQ3MDE2ZjJlMCA9IEwuY2lyY2xlTWFya2VyKAogICAgICAgICAgICAgICAgWzMyLjcxMTExMTExMTExMTExNiwgMTAyLjExNzM2MTExMTExMTExXSwKICAgICAgICAgICAgICAgIHsiYnViYmxpbmdNb3VzZUV2ZW50cyI6IHRydWUsICJjb2xvciI6ICJyZ2JhKDg1LjElLDM3LjMlLDAuOCUsMS4wMDApIiwgImRhc2hBcnJheSI6IG51bGwsICJkYXNoT2Zmc2V0IjogbnVsbCwgImZpbGwiOiB0cnVlLCAiZmlsbENvbG9yIjogInJnYmEoODUuMSUsMzcuMyUsMC44JSwxLjAwMCkiLCAiZmlsbE9wYWNpdHkiOiAwLjIsICJmaWxsUnVsZSI6ICJldmVub2RkIiwgImxpbmVDYXAiOiAicm91bmQiLCAibGluZUpvaW4iOiAicm91bmQiLCAib3BhY2l0eSI6IDEuMCwgInJhZGl1cyI6IDUsICJzdHJva2UiOiB0cnVlLCAid2VpZ2h0IjogM30KICAgICAgICAgICAgKS5hZGRUbyhtYXBfODRjOTQzYjdkNTQwNDQyMDk4ZTdmMGI5YWI3ZmNiNWUpOwogICAgICAgIAogICAgCiAgICAgICAgdmFyIHBvcHVwXzg2YWE4YjA5Njg4ZDRmMDQ4MzYwZGVlMDhjZjQzNTRiID0gTC5wb3B1cCh7Im1heFdpZHRoIjogIjEwMCUifSk7CgogICAgICAgIAogICAgICAgICAgICB2YXIgaHRtbF83YzNjMjcyZjc1ZmY0ZmYxYjM4NzljM2E3NzllNDk3YiA9ICQoYDxkaXYgaWQ9Imh0bWxfN2MzYzI3MmY3NWZmNGZmMWIzODc5YzNhNzc5ZTQ5N2IiIHN0eWxlPSJ3aWR0aDogMTAwLjAlOyBoZWlnaHQ6IDEwMC4wJTsiPlBlZGljdWxhcmlzLWxvbmdpZmxvcmEgfCBERTY4NSB8IDIwMTk8L2Rpdj5gKVswXTsKICAgICAgICAgICAgcG9wdXBfODZhYThiMDk2ODhkNGYwNDgzNjBkZWUwOGNmNDM1NGIuc2V0Q29udGVudChodG1sXzdjM2MyNzJmNzVmZjRmZjFiMzg3OWMzYTc3OWU0OTdiKTsKICAgICAgICAKCiAgICAgICAgY2lyY2xlX21hcmtlcl9jNjYxZGRiZTM0ZTQ0NjEwYjhjOTE2YzQ3MDE2ZjJlMC5iaW5kUG9wdXAocG9wdXBfODZhYThiMDk2ODhkNGYwNDgzNjBkZWUwOGNmNDM1NGIpCiAgICAgICAgOwoKICAgICAgICAKICAgIAogICAgCiAgICAgICAgICAgIHZhciBjaXJjbGVfbWFya2VyXzM4NDM1MDA2ZTkzNjQxOWViNTVkOWRiNmM4ZDlhN2I3ID0gTC5jaXJjbGVNYXJrZXIoCiAgICAgICAgICAgICAgICBbMzIuOTA4MDU1NTU1NTU1NTU2LCAxMDEuODkwNTU1NTU1NTU1NTddLAogICAgICAgICAgICAgICAgeyJidWJibGluZ01vdXNlRXZlbnRzIjogdHJ1ZSwgImNvbG9yIjogInJnYmEoODUuMSUsMzcuMyUsMC44JSwxLjAwMCkiLCAiZGFzaEFycmF5IjogbnVsbCwgImRhc2hPZmZzZXQiOiBudWxsLCAiZmlsbCI6IHRydWUsICJmaWxsQ29sb3IiOiAicmdiYSg4NS4xJSwzNy4zJSwwLjglLDEuMDAwKSIsICJmaWxsT3BhY2l0eSI6IDAuMiwgImZpbGxSdWxlIjogImV2ZW5vZGQiLCAibGluZUNhcCI6ICJyb3VuZCIsICJsaW5lSm9pbiI6ICJyb3VuZCIsICJvcGFjaXR5IjogMS4wLCAicmFkaXVzIjogNSwgInN0cm9rZSI6IHRydWUsICJ3ZWlnaHQiOiAzfQogICAgICAgICAgICApLmFkZFRvKG1hcF84NGM5NDNiN2Q1NDA0NDIwOThlN2YwYjlhYjdmY2I1ZSk7CiAgICAgICAgCiAgICAKICAgICAgICB2YXIgcG9wdXBfZWY0NTdiOWE4YTg1NGZkYzg0MjQzYmYwMDJjZjkzNzcgPSBMLnBvcHVwKHsibWF4V2lkdGgiOiAiMTAwJSJ9KTsKCiAgICAgICAgCiAgICAgICAgICAgIHZhciBodG1sXzA2Y2E3NDZiNjE2ZTRlNDBhMmFhMzAwZmFkMTM1NDUzID0gJChgPGRpdiBpZD0iaHRtbF8wNmNhNzQ2YjYxNmU0ZTQwYTJhYTMwMGZhZDEzNTQ1MyIgc3R5bGU9IndpZHRoOiAxMDAuMCU7IGhlaWdodDogMTAwLjAlOyI+UGVkaWN1bGFyaXMtbG9uZ2lmbG9yYSB8IERFNjkzIHwgMjAxOTwvZGl2PmApWzBdOwogICAgICAgICAgICBwb3B1cF9lZjQ1N2I5YThhODU0ZmRjODQyNDNiZjAwMmNmOTM3Ny5zZXRDb250ZW50KGh0bWxfMDZjYTc0NmI2MTZlNGU0MGEyYWEzMDBmYWQxMzU0NTMpOwogICAgICAgIAoKICAgICAgICBjaXJjbGVfbWFya2VyXzM4NDM1MDA2ZTkzNjQxOWViNTVkOWRiNmM4ZDlhN2I3LmJpbmRQb3B1cChwb3B1cF9lZjQ1N2I5YThhODU0ZmRjODQyNDNiZjAwMmNmOTM3NykKICAgICAgICA7CgogICAgICAgIAogICAgCiAgICAKICAgICAgICAgICAgdmFyIGNpcmNsZV9tYXJrZXJfNzhhMzg0OTVlMTczNDQ2N2JjZDMxZWY3YjM2NmFmMTggPSBMLmNpcmNsZU1hcmtlcigKICAgICAgICAgICAgICAgIFszMy4zMTM3NSwgMTAxLjI4MzYxMTExMTExMTExXSwKICAgICAgICAgICAgICAgIHsiYnViYmxpbmdNb3VzZUV2ZW50cyI6IHRydWUsICJjb2xvciI6ICJyZ2JhKDg1LjElLDM3LjMlLDAuOCUsMS4wMDApIiwgImRhc2hBcnJheSI6IG51bGwsICJkYXNoT2Zmc2V0IjogbnVsbCwgImZpbGwiOiB0cnVlLCAiZmlsbENvbG9yIjogInJnYmEoODUuMSUsMzcuMyUsMC44JSwxLjAwMCkiLCAiZmlsbE9wYWNpdHkiOiAwLjIsICJmaWxsUnVsZSI6ICJldmVub2RkIiwgImxpbmVDYXAiOiAicm91bmQiLCAibGluZUpvaW4iOiAicm91bmQiLCAib3BhY2l0eSI6IDEuMCwgInJhZGl1cyI6IDUsICJzdHJva2UiOiB0cnVlLCAid2VpZ2h0IjogM30KICAgICAgICAgICAgKS5hZGRUbyhtYXBfODRjOTQzYjdkNTQwNDQyMDk4ZTdmMGI5YWI3ZmNiNWUpOwogICAgICAgIAogICAgCiAgICAgICAgdmFyIHBvcHVwXzlkMDlkYjlkMWRiNjQ2ZTY4NDZjNDA2MTBiYTk3ZTFjID0gTC5wb3B1cCh7Im1heFdpZHRoIjogIjEwMCUifSk7CgogICAgICAgIAogICAgICAgICAgICB2YXIgaHRtbF9hYjhmNDMyNmU5OTg0NTFhOGIyYmRiNjAyNjk0MDA5YiA9ICQoYDxkaXYgaWQ9Imh0bWxfYWI4ZjQzMjZlOTk4NDUxYThiMmJkYjYwMjY5NDAwOWIiIHN0eWxlPSJ3aWR0aDogMTAwLjAlOyBoZWlnaHQ6IDEwMC4wJTsiPlBlZGljdWxhcmlzLWxvbmdpZmxvcmEgfCBERTY5NiB8IDIwMTk8L2Rpdj5gKVswXTsKICAgICAgICAgICAgcG9wdXBfOWQwOWRiOWQxZGI2NDZlNjg0NmM0MDYxMGJhOTdlMWMuc2V0Q29udGVudChodG1sX2FiOGY0MzI2ZTk5ODQ1MWE4YjJiZGI2MDI2OTQwMDliKTsKICAgICAgICAKCiAgICAgICAgY2lyY2xlX21hcmtlcl83OGEzODQ5NWUxNzM0NDY3YmNkMzFlZjdiMzY2YWYxOC5iaW5kUG9wdXAocG9wdXBfOWQwOWRiOWQxZGI2NDZlNjg0NmM0MDYxMGJhOTdlMWMpCiAgICAgICAgOwoKICAgICAgICAKICAgIAogICAgCiAgICAgICAgICAgIHZhciBjaXJjbGVfbWFya2VyXzU0YjVhYTQ4NzZhNjQzMjRiNjU0M2E4Y2I2ZTk1ZjdhID0gTC5jaXJjbGVNYXJrZXIoCiAgICAgICAgICAgICAgICBbMzMuOTM5NDQ0NDQ0NDQ0NDQsIDEwMi4wMzAxOTQ0NDQ0NDQ0NV0sCiAgICAgICAgICAgICAgICB7ImJ1YmJsaW5nTW91c2VFdmVudHMiOiB0cnVlLCAiY29sb3IiOiAicmdiYSg4NS4xJSwzNy4zJSwwLjglLDEuMDAwKSIsICJkYXNoQXJyYXkiOiBudWxsLCAiZGFzaE9mZnNldCI6IG51bGwsICJmaWxsIjogdHJ1ZSwgImZpbGxDb2xvciI6ICJyZ2JhKDg1LjElLDM3LjMlLDAuOCUsMS4wMDApIiwgImZpbGxPcGFjaXR5IjogMC4yLCAiZmlsbFJ1bGUiOiAiZXZlbm9kZCIsICJsaW5lQ2FwIjogInJvdW5kIiwgImxpbmVKb2luIjogInJvdW5kIiwgIm9wYWNpdHkiOiAxLjAsICJyYWRpdXMiOiA1LCAic3Ryb2tlIjogdHJ1ZSwgIndlaWdodCI6IDN9CiAgICAgICAgICAgICkuYWRkVG8obWFwXzg0Yzk0M2I3ZDU0MDQ0MjA5OGU3ZjBiOWFiN2ZjYjVlKTsKICAgICAgICAKICAgIAogICAgICAgIHZhciBwb3B1cF80MDE2YzE4OWUyMDc0OGJlODI2YzVlYjk5N2JiNmE4YSA9IEwucG9wdXAoeyJtYXhXaWR0aCI6ICIxMDAlIn0pOwoKICAgICAgICAKICAgICAgICAgICAgdmFyIGh0bWxfZTkwMTY5YTE4YTY0NDkzNTlhOThiNmZmMmEzODg2MWUgPSAkKGA8ZGl2IGlkPSJodG1sX2U5MDE2OWExOGE2NDQ5MzU5YTk4YjZmZjJhMzg4NjFlIiBzdHlsZT0id2lkdGg6IDEwMC4wJTsgaGVpZ2h0OiAxMDAuMCU7Ij5QZWRpY3VsYXJpcy1sb25naWZsb3JhIHwgREU3MTcgfCAyMDE5PC9kaXY+YClbMF07CiAgICAgICAgICAgIHBvcHVwXzQwMTZjMTg5ZTIwNzQ4YmU4MjZjNWViOTk3YmI2YThhLnNldENvbnRlbnQoaHRtbF9lOTAxNjlhMThhNjQ0OTM1OWE5OGI2ZmYyYTM4ODYxZSk7CiAgICAgICAgCgogICAgICAgIGNpcmNsZV9tYXJrZXJfNTRiNWFhNDg3NmE2NDMyNGI2NTQzYThjYjZlOTVmN2EuYmluZFBvcHVwKHBvcHVwXzQwMTZjMTg5ZTIwNzQ4YmU4MjZjNWViOTk3YmI2YThhKQogICAgICAgIDsKCiAgICAgICAgCiAgICAKICAgIAogICAgICAgICAgICB2YXIgY2lyY2xlX21hcmtlcl84NWI5YjdhMWM2MGQ0YTM3YjM3Mjk3YWQzYmJiYjcxZCA9IEwuY2lyY2xlTWFya2VyKAogICAgICAgICAgICAgICAgWzM0LjExMzA1NTU1NTU1NTU1NSwgMTAyLjc3ODg4ODg4ODg4ODg5XSwKICAgICAgICAgICAgICAgIHsiYnViYmxpbmdNb3VzZUV2ZW50cyI6IHRydWUsICJjb2xvciI6ICJyZ2JhKDg1LjElLDM3LjMlLDAuOCUsMS4wMDApIiwgImRhc2hBcnJheSI6IG51bGwsICJkYXNoT2Zmc2V0IjogbnVsbCwgImZpbGwiOiB0cnVlLCAiZmlsbENvbG9yIjogInJnYmEoODUuMSUsMzcuMyUsMC44JSwxLjAwMCkiLCAiZmlsbE9wYWNpdHkiOiAwLjIsICJmaWxsUnVsZSI6ICJldmVub2RkIiwgImxpbmVDYXAiOiAicm91bmQiLCAibGluZUpvaW4iOiAicm91bmQiLCAib3BhY2l0eSI6IDEuMCwgInJhZGl1cyI6IDUsICJzdHJva2UiOiB0cnVlLCAid2VpZ2h0IjogM30KICAgICAgICAgICAgKS5hZGRUbyhtYXBfODRjOTQzYjdkNTQwNDQyMDk4ZTdmMGI5YWI3ZmNiNWUpOwogICAgICAgIAogICAgCiAgICAgICAgdmFyIHBvcHVwXzgzNDExNzU2ZWQyZTRlMzZiMjM3YTQ2YmQxNGQ3YzM1ID0gTC5wb3B1cCh7Im1heFdpZHRoIjogIjEwMCUifSk7CgogICAgICAgIAogICAgICAgICAgICB2YXIgaHRtbF81MzYwNDU5NzA0MTM0MWU5YTA4MDRlMmIwNTc2ZjM1YSA9ICQoYDxkaXYgaWQ9Imh0bWxfNTM2MDQ1OTcwNDEzNDFlOWEwODA0ZTJiMDU3NmYzNWEiIHN0eWxlPSJ3aWR0aDogMTAwLjAlOyBoZWlnaHQ6IDEwMC4wJTsiPlBlZGljdWxhcmlzLWxvbmdpZmxvcmEgfCBERTc0MiB8IDIwMTk8L2Rpdj5gKVswXTsKICAgICAgICAgICAgcG9wdXBfODM0MTE3NTZlZDJlNGUzNmIyMzdhNDZiZDE0ZDdjMzUuc2V0Q29udGVudChodG1sXzUzNjA0NTk3MDQxMzQxZTlhMDgwNGUyYjA1NzZmMzVhKTsKICAgICAgICAKCiAgICAgICAgY2lyY2xlX21hcmtlcl84NWI5YjdhMWM2MGQ0YTM3YjM3Mjk3YWQzYmJiYjcxZC5iaW5kUG9wdXAocG9wdXBfODM0MTE3NTZlZDJlNGUzNmIyMzdhNDZiZDE0ZDdjMzUpCiAgICAgICAgOwoKICAgICAgICAKICAgIAogICAgCiAgICAgICAgICAgIHZhciBjaXJjbGVfbWFya2VyXzhkMjc1NWIxNTQxNzQ1NWJiYmMyYWE3YTgxMzRlYWJiID0gTC5jaXJjbGVNYXJrZXIoCiAgICAgICAgICAgICAgICBbMzAuMDQwMjc3Nzc3Nzc3Nzc4LCAxMDEuODM4MzMzMzMzMzMzMzJdLAogICAgICAgICAgICAgICAgeyJidWJibGluZ01vdXNlRXZlbnRzIjogdHJ1ZSwgImNvbG9yIjogInJnYmEoNDUuOSUsNDMuOSUsNzAuMiUsMS4wMDApIiwgImRhc2hBcnJheSI6IG51bGwsICJkYXNoT2Zmc2V0IjogbnVsbCwgImZpbGwiOiB0cnVlLCAiZmlsbENvbG9yIjogInJnYmEoNDUuOSUsNDMuOSUsNzAuMiUsMS4wMDApIiwgImZpbGxPcGFjaXR5IjogMC4yLCAiZmlsbFJ1bGUiOiAiZXZlbm9kZCIsICJsaW5lQ2FwIjogInJvdW5kIiwgImxpbmVKb2luIjogInJvdW5kIiwgIm9wYWNpdHkiOiAxLjAsICJyYWRpdXMiOiAxMS41MDk5OTU2NTU5NTA1MjgsICJzdHJva2UiOiB0cnVlLCAid2VpZ2h0IjogM30KICAgICAgICAgICAgKS5hZGRUbyhtYXBfODRjOTQzYjdkNTQwNDQyMDk4ZTdmMGI5YWI3ZmNiNWUpOwogICAgICAgIAogICAgCiAgICAgICAgdmFyIHBvcHVwXzNjZjJkNjA0OTJkZDRjM2RhMDhlODliZTIwN2NmNDg3ID0gTC5wb3B1cCh7Im1heFdpZHRoIjogIjEwMCUifSk7CgogICAgICAgIAogICAgICAgICAgICB2YXIgaHRtbF84YzVmMWQ4YTJkZmM0OGZmYjVkNjg3M2Q0OGUwMzg3ZSA9ICQoYDxkaXYgaWQ9Imh0bWxfOGM1ZjFkOGEyZGZjNDhmZmI1ZDY4NzNkNDhlMDM4N2UiIHN0eWxlPSJ3aWR0aDogMTAwLjAlOyBoZWlnaHQ6IDEwMC4wJTsiPlBlZGljdWxhcmlzLWxvbmdpZmxvcmEgfCAyNzUwOCB8IDE5OTc8L2Rpdj5gKVswXTsKICAgICAgICAgICAgcG9wdXBfM2NmMmQ2MDQ5MmRkNGMzZGEwOGU4OWJlMjA3Y2Y0ODcuc2V0Q29udGVudChodG1sXzhjNWYxZDhhMmRmYzQ4ZmZiNWQ2ODczZDQ4ZTAzODdlKTsKICAgICAgICAKCiAgICAgICAgY2lyY2xlX21hcmtlcl84ZDI3NTViMTU0MTc0NTViYmJjMmFhN2E4MTM0ZWFiYi5iaW5kUG9wdXAocG9wdXBfM2NmMmQ2MDQ5MmRkNGMzZGEwOGU4OWJlMjA3Y2Y0ODcpCiAgICAgICAgOwoKICAgICAgICAKICAgIAogICAgCiAgICAgICAgICAgIHZhciBjaXJjbGVfbWFya2VyXzc3NGRmNmJlZGU0YzQxYzliN2Y0OGRlY2NiNDY3MTBhID0gTC5jaXJjbGVNYXJrZXIoCiAgICAgICAgICAgICAgICBbMjguNzQ2Mzg4ODg4ODg4ODksIDEwMC4yNjkxNjY2NjY2NjY2Nl0sCiAgICAgICAgICAgICAgICB7ImJ1YmJsaW5nTW91c2VFdmVudHMiOiB0cnVlLCAiY29sb3IiOiAicmdiYSg0NS45JSw0My45JSw3MC4yJSwxLjAwMCkiLCAiZGFzaEFycmF5IjogbnVsbCwgImRhc2hPZmZzZXQiOiBudWxsLCAiZmlsbCI6IHRydWUsICJmaWxsQ29sb3IiOiAicmdiYSg0NS45JSw0My45JSw3MC4yJSwxLjAwMCkiLCAiZmlsbE9wYWNpdHkiOiAwLjIsICJmaWxsUnVsZSI6ICJldmVub2RkIiwgImxpbmVDYXAiOiAicm91bmQiLCAibGluZUpvaW4iOiAicm91bmQiLCAib3BhY2l0eSI6IDEuMCwgInJhZGl1cyI6IDExLjI1Njk5NzgyMzU3NjIzMSwgInN0cm9rZSI6IHRydWUsICJ3ZWlnaHQiOiAzfQogICAgICAgICAgICApLmFkZFRvKG1hcF84NGM5NDNiN2Q1NDA0NDIwOThlN2YwYjlhYjdmY2I1ZSk7CiAgICAgICAgCiAgICAKICAgICAgICB2YXIgcG9wdXBfZmFlYjM5ZDAzNWQ2NGQ1YWJiNjJiNTI1YTNlOGNkZGYgPSBMLnBvcHVwKHsibWF4V2lkdGgiOiAiMTAwJSJ9KTsKCiAgICAgICAgCiAgICAgICAgICAgIHZhciBodG1sX2UxZmZkOTZhY2FlODRhZmU5YmQ1NjlmNGRiMzBiOTQyID0gJChgPGRpdiBpZD0iaHRtbF9lMWZmZDk2YWNhZTg0YWZlOWJkNTY5ZjRkYjMwYjk0MiIgc3R5bGU9IndpZHRoOiAxMDAuMCU7IGhlaWdodDogMTAwLjAlOyI+UGVkaWN1bGFyaXMtbG9uZ2lmbG9yYSB8IDI4MjcwIHwgMTk5ODwvZGl2PmApWzBdOwogICAgICAgICAgICBwb3B1cF9mYWViMzlkMDM1ZDY0ZDVhYmI2MmI1MjVhM2U4Y2RkZi5zZXRDb250ZW50KGh0bWxfZTFmZmQ5NmFjYWU4NGFmZTliZDU2OWY0ZGIzMGI5NDIpOwogICAgICAgIAoKICAgICAgICBjaXJjbGVfbWFya2VyXzc3NGRmNmJlZGU0YzQxYzliN2Y0OGRlY2NiNDY3MTBhLmJpbmRQb3B1cChwb3B1cF9mYWViMzlkMDM1ZDY0ZDVhYmI2MmI1MjVhM2U4Y2RkZikKICAgICAgICA7CgogICAgICAgIAogICAgCjwvc2NyaXB0Pg==\" style=\"position:absolute;width:100%;height:100%;left:0;top:0;border:none !important;\" allowfullscreen webkitallowfullscreen mozallowfullscreen></iframe></div></div>"
      ],
      "text/plain": [
       "<folium.folium.Map at 0x1268b9828>"
      ]
     },
     "execution_count": 63,
     "metadata": {},
     "output_type": "execute_result"
    }
   ],
   "source": [
    "# example map old and new \n",
    "Map(\n",
    "    #width=\"50%\", \n",
    "    #height=\"40%\",\n",
    "    nlocs=newdata.subset(\"longiflora\"),\n",
    "    hlocs=Hengduan(\"Ped longiflora\", True).filter_by_max_year(1998),\n",
    ").draw()"
   ]
  },
  {
   "cell_type": "code",
   "execution_count": null,
   "metadata": {},
   "outputs": [],
   "source": [
    "# this returns a Hengduan object  \n",
    "peds = Hengduan(\"Pedicularis \", dna=True)\n",
    "\n",
    "# this attribute of the object has the unfiltered data\n",
    "peds.data\n",
    "\n",
    "# this function call from the object return a DF\n",
    "old = peds.filter_by_max_year(1998)"
   ]
  },
  {
   "cell_type": "code",
   "execution_count": null,
   "metadata": {},
   "outputs": [],
   "source": [
    "#Create dictionary for all species with collections older than 1998\n",
    "listofnames = [ \n",
    "    'anas',\n",
    "    'axillaris',\n",
    "    'cheilanthifolia',\n",
    "    'confertiflora',\n",
    "    'cranolopha',\n",
    "    'cristatella',\n",
    "    'cyathophylla',\n",
    "    'davidii',\n",
    "    'decorissima',\n",
    "    'densispica',\n",
    "    'dichotoma',\n",
    "    'dolichocymba',\n",
    "    'dolichoglossa',\n",
    "    'elwesii',\n",
    "    'ingens',\n",
    "    'integrifolia',\n",
    "    'kansuensis',\n",
    "    'lachnoglossa',\n",
    "    'lasiophrys',\n",
    "    'likiangensis',\n",
    "    'lineata',\n",
    "    'longiflora',\n",
    "    'lyrata',\n",
    "    'metaszetschuanica',\n",
    "    'petitmenginii',\n",
    "    'przewalskii',\n",
    "    'pseudomelampyriflora',\n",
    "    'rex',\n",
    "    'rhinanthoides',\n",
    "    'rhodotricha',\n",
    "    'rhynchodonta',\n",
    "    'rudis',\n",
    "    'rupicola',\n",
    "    'semitorta',\n",
    "    'siphonantha',\n",
    "    'souliei',\n",
    "    'superba',\n",
    "    'tatsienensis',\n",
    "    'tenera',\n",
    "    'thamnophila'\n",
    "]\n",
    "\n",
    "len(listofnames)"
   ]
  },
  {
   "cell_type": "code",
   "execution_count": null,
   "metadata": {},
   "outputs": [],
   "source": [
    "import os\n",
    "\n",
    "home = os.path.expanduser(\"~\")\n",
    "proj = \"Desktop/hengduan/maps/pedmaps_python/h-cmaps/\"\n",
    "\n",
    "path = os.path.join(home, proj)\n",
    "path"
   ]
  },
  {
   "cell_type": "code",
   "execution_count": null,
   "metadata": {},
   "outputs": [],
   "source": [
    "# combine Hengduan and New dataframes\n",
    "\n",
    "def insert_epithet(name, newdata, records):\n",
    "    \"\"\"\n",
    "    name is a string.\n",
    "    newdata is a object loaded from CSV.\n",
    "    records is a DataFrame.\n",
    "    \"\"\"\n",
    "    comb = pd.concat([newdata.subset(name), records[name]], sort=True)\n",
    "    comb = comb.drop(columns=[\"family\", \"taxon\", \"index\"])\n",
    "    comb.to_csv(path + \"{}.csv\".format(name))\n"
   ]
  },
  {
   "cell_type": "code",
   "execution_count": null,
   "metadata": {},
   "outputs": [],
   "source": [
    "records = {}\n",
    "for taxon in listofnames:\n",
    "    # store H object\n",
    "    print(taxon)\n",
    "    \n",
    "    # scrape all data for this taxon to create a Heng object\n",
    "    scraped = Hengduan(\"Pedicularis \" + taxon)\n",
    "    \n",
    "    # limit scraped data to old points and return as a DF\n",
    "    tmpold = scraped.filter_by_max_year(1998)\n",
    "    \n",
    "    # store DF in the records diction\n",
    "    records[taxon] = tmpold\n",
    "    \n",
    "    # save csv to file that combines data from CSV obj and DF\n",
    "    # combining our data with hengduan\n",
    "    insert_epithet(taxon, newdata, records)\n",
    "    \n",
    "    # draw and save map\n",
    "    imap= Map(hlocs=records[taxon], nlocs=newdata.subset(taxon))\n",
    "    imap.map.save(\"/Users/jaredmeek/Desktop/hengduan/maps/pedmaps_python/h-cmaps/\" + taxon + \".html\")"
   ]
  },
  {
   "cell_type": "markdown",
   "metadata": {},
   "source": [
    "## Extras to figure out later"
   ]
  },
  {
   "cell_type": "code",
   "execution_count": null,
   "metadata": {},
   "outputs": [],
   "source": [
    "#broken\n",
    "co = Hengduan(\"ped rhinanth\", True)\n",
    "# draw historical (red) and newer collections (blue)\n",
    "m = Map(hlocs=co.filter_by_max_year(1998), nlocs=co.data)\n",
    "m.draw()\n",
    "m.map.save(outfile=\"./reduced.html\")\n",
    "m.save(\"/Users/jaredmeek/Desktop/\")"
   ]
  },
  {
   "cell_type": "code",
   "execution_count": null,
   "metadata": {},
   "outputs": [],
   "source": [
    "# combine Hengduan 'records' dataframes\n",
    "\n",
    "newdf = pd.concat([i.data[i.data.year.astype(int) < 1998] for i in records.values()])\n",
    "newdf.to_csv(\"path\")"
   ]
  },
  {
   "cell_type": "code",
   "execution_count": null,
   "metadata": {},
   "outputs": [],
   "source": [
    "records['cranolopha'].data.head()"
   ]
  },
  {
   "cell_type": "code",
   "execution_count": null,
   "metadata": {},
   "outputs": [],
   "source": [
    "# get a subset data set for a specific taxon\n",
    "newdata.subset(\"siphonantha\").head()"
   ]
  },
  {
   "cell_type": "code",
   "execution_count": null,
   "metadata": {},
   "outputs": [],
   "source": [
    "obj = records['siphonantha']\n",
    "obj.filter_by_max_year(1998)"
   ]
  },
  {
   "cell_type": "code",
   "execution_count": null,
   "metadata": {},
   "outputs": [],
   "source": [
    "Map(\n",
    "    nlocs=newdata.subset(\"siphonantha\"), \n",
    "    hlocs=records[\"siphonantha\"].filter_by_max_year(1998),\n",
    ").draw()"
   ]
  },
  {
   "cell_type": "code",
   "execution_count": null,
   "metadata": {},
   "outputs": [],
   "source": [
    "# figure this out later, if it's even possible\n",
    "#all_ped = Map(\n",
    "    #width=\"50%\", \n",
    "    #height=\"40%\",\n",
    "    #nlocs=newdata.subset(\"Pedicularis \"),\n",
    "    #hlocs=Hengduan(\"Pedicularis \", True).filter_by_max_year(1998),\n",
    "#).draw()\n",
    "\n",
    "#m.save(\"/Users/jaredmeek/Desktop/hengduan/maps/pedmaps_python/all_ped.html\")"
   ]
  }
 ],
 "metadata": {
  "kernelspec": {
   "display_name": "Python 3",
   "language": "python",
   "name": "python3"
  },
  "language_info": {
   "codemirror_mode": {
    "name": "ipython",
    "version": 3
   },
   "file_extension": ".py",
   "mimetype": "text/x-python",
   "name": "python",
   "nbconvert_exporter": "python",
   "pygments_lexer": "ipython3",
   "version": "3.6.9"
  },
  "varInspector": {
   "cols": {
    "lenName": 16,
    "lenType": 16,
    "lenVar": 40
   },
   "kernels_config": {
    "python": {
     "delete_cmd_postfix": "",
     "delete_cmd_prefix": "del ",
     "library": "var_list.py",
     "varRefreshCmd": "print(var_dic_list())"
    },
    "r": {
     "delete_cmd_postfix": ") ",
     "delete_cmd_prefix": "rm(",
     "library": "var_list.r",
     "varRefreshCmd": "cat(var_dic_list()) "
    }
   },
   "types_to_exclude": [
    "module",
    "function",
    "builtin_function_or_method",
    "instance",
    "_Feature"
   ],
   "window_display": false
  }
 },
 "nbformat": 4,
 "nbformat_minor": 2
}
