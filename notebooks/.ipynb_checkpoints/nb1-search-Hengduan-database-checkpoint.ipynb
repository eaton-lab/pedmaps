{
 "cells": [
  {
   "cell_type": "markdown",
   "metadata": {},
   "source": [
    "## Search the Hengduan Database \n",
    "We hope to find many species for which collections are available from multiple disjunct regions sampled between 1997-2004. "
   ]
  },
  {
   "cell_type": "code",
   "execution_count": 4,
   "metadata": {},
   "outputs": [],
   "source": [
    "#conda install pandas\n",
    "#conda install beautifulsoup4\n",
    "#pip install folium"
   ]
  },
  {
   "cell_type": "code",
   "execution_count": 1,
   "metadata": {},
   "outputs": [],
   "source": [
    "from concurrent.futures import ThreadPoolExecutor\n",
    "import requests\n",
    "import pandas as pd\n",
    "from bs4 import BeautifulSoup\n",
    "import folium\n",
    "import time"
   ]
  },
  {
   "cell_type": "markdown",
   "metadata": {},
   "source": [
    "### The Hengduan API structure"
   ]
  },
  {
   "cell_type": "code",
   "execution_count": 3,
   "metadata": {},
   "outputs": [],
   "source": [
    "# specimen search page\n",
    "# http://hengduan.huh.harvard.edu/fieldnotes/specimens/search/search.zpt?\n",
    "#    dna_collection=on&\n",
    "#    st=pedicularis&\n",
    "#    action=search&\n",
    "#    submit_button=Search"
   ]
  },
  {
   "cell_type": "code",
   "execution_count": 4,
   "metadata": {},
   "outputs": [],
   "source": [
    "# individual specimen page\n",
    "# http://hengduan.huh.harvard.edu/fieldnotes/specimens/search/specimen_detail.zpt?\n",
    "#    specimen_id=718"
   ]
  },
  {
   "cell_type": "markdown",
   "metadata": {},
   "source": [
    "### A class object to search and parse Hengduan data"
   ]
  },
  {
   "cell_type": "code",
   "execution_count": 2,
   "metadata": {},
   "outputs": [],
   "source": [
    "class Hengduan:\n",
    "    \"Search the Hengduan database and return a dataframe\"\n",
    "    \n",
    "    def __init__(self, taxon, dna=True,):\n",
    "        # class globals\n",
    "        baseurl = \"http://hengduan.huh.harvard.edu/fieldnotes/\"\n",
    "        self.search_url = baseurl + \"specimens/search/search.zpt\"\n",
    "        self.specimen_url = baseurl + \"specimens/search/specimen_detail.zpt\"\n",
    "        \n",
    "        # class attrs\n",
    "        self.taxon = taxon\n",
    "        self.dna = [\"on\" if True else \"off\"][0]\n",
    "        self.data = None\n",
    "        \n",
    "        # do search and fill database\n",
    "        if self._get_search_data():\n",
    "            self._fill_data_coords()\n",
    "        \n",
    "        \n",
    "    def _search_request(self):\n",
    "        # slow it down by waiting one second\n",
    "        time.sleep(1)\n",
    "        res = requests.get(\n",
    "            url=self.search_url,\n",
    "            params={\n",
    "                \"dna_collection\": self.dna, \n",
    "                \"st\": self.taxon,\n",
    "                \"action\": \"search\", \n",
    "                \"submit_button\": \"Search\",\n",
    "            }\n",
    "        )\n",
    "        res.raise_for_status()\n",
    "        return BeautifulSoup(res.text, \"html5lib\")\n",
    "       \n",
    "        \n",
    "    def _get_search_data(self):\n",
    "        soup = self._search_request()\n",
    "        table = soup.find('table', attrs={\"class\": \"listing\", \"id\": \"angio_table\"})\n",
    "        if table:\n",
    "            headers = [header.text for header in table.find_all('th')]\n",
    "        # if no record then return 0\n",
    "        else:\n",
    "            return 0\n",
    "        \n",
    "        headers.extend([\"specimen-id\"])\n",
    "        rows = []\n",
    "        for row in table.find_all('tr')[1:]:\n",
    "            tds = row.find_all('td')\n",
    "            row = [val.text.strip() for val in tds]\n",
    "            tmp = [i.a for i in tds][2]\n",
    "            spid = (tmp.attrs['href'].split(\"=\")[-1])\n",
    "            row.extend([spid])\n",
    "            rows.append(row)\n",
    "        self.data = pd.DataFrame(\n",
    "            rows, \n",
    "            columns=[\"family\", \"taxon\", \"cid\", \"cdate\", \"\", \"sid\"]\n",
    "        )\n",
    "        self.data['year'] = (\n",
    "            self.data[\"cdate\"]\n",
    "             .apply(str.split)\n",
    "             .apply(lambda x: x[-1])\n",
    "            )\n",
    "        self.data = self.data.drop([\"cdate\", \"\"], axis=1)\n",
    "        # add shortname ref\n",
    "        self.data[\"shortname\"] = (\n",
    "            self.data\n",
    "            .taxon\n",
    "            .apply(str.split)\n",
    "            .apply(\"-\".join)\n",
    "        )\n",
    "        # on success return 1\n",
    "        return 1\n",
    "        \n",
    "    def _specimen_request(self, spid):\n",
    "        res = requests.get(\n",
    "            url=self.specimen_url,\n",
    "            params={\n",
    "                \"specimen_id\": spid,\n",
    "            }\n",
    "        )\n",
    "        res.raise_for_status()\n",
    "        return BeautifulSoup(res.text, \"html5lib\")\n",
    "\n",
    "        \n",
    "    def _get_coordinates(self, specid):\n",
    "        soup = self._specimen_request(specid)\n",
    "        textlocs = soup.find(id=\"locality\")\n",
    "        text = textlocs.find_all(\"td\")[1].text.split(\"\\n\")\n",
    "        descr = \" \".join([i.strip() for i in text][1:4])\n",
    "        tmp0, tmp1 = text[-3].strip().split(\"°\")\n",
    "        tmp0, tmp1\n",
    "        tmp1, tmp2 = tmp1.split(\"\\'\")\n",
    "        tmp2 = tmp2.lstrip(\";\").rstrip(\";\").replace('\"', '')\n",
    "        point = \"-\".join([tmp0, tmp1, tmp2])\n",
    "        eastwest = self._convert_gps(point)\n",
    "\n",
    "        tmp0, tmp1 = text[-4].strip().split(\"°\")\n",
    "        tmp1, tmp2 = tmp1.split(\"\\'\")\n",
    "        tmp2 = tmp2.lstrip(\";\").rstrip(\",\").replace('\"', '')\n",
    "        point = \"-\".join([tmp0, tmp1, tmp2])\n",
    "        northsouth = self._convert_gps(point)\n",
    "        return (northsouth, eastwest)\n",
    "\n",
    "        \n",
    "    @staticmethod\n",
    "    def _convert_gps(tude):\n",
    "        multiplier = 1 if tude[-1] in ['N', 'E'] else -1\n",
    "        return multiplier * sum(float(x) / 60 ** n for n, x in enumerate(tude[:-1].split('-')))  \n",
    "    \n",
    "    \n",
    "    def _fill_data_coords(self):\n",
    "        with ThreadPoolExecutor(max_workers=4) as executor:\n",
    "            jobs = [executor.submit(\n",
    "                self._get_coordinates, specid) for specid in self.data.sid]\n",
    "            res = [i.result() for i in jobs]\n",
    "        \n",
    "        self.data['latitude'] = [i[0] for i in res]\n",
    "        self.data['longitude'] = [i[1] for i in res]\n",
    "        \n",
    "        \n",
    "    def count_by_maxyear(self, year):\n",
    "        try:\n",
    "            return (\n",
    "             self.data[self.data.year.astype(int) <= year]\n",
    "             .sort_values(by=[\"year\", \"shortname\"])\n",
    "             .groupby('shortname')\n",
    "             .apply(len)\n",
    "             .sort_values(ascending=False)\n",
    "            )\n",
    "        except TypeError:\n",
    "            return None\n",
    "        \n",
    "            \n",
    "    def filter_by_max_year(self, year):\n",
    "        try:\n",
    "            return (\n",
    "             self.data[self.data.year.astype(int) <= year]\n",
    "             .sort_values(by=[\"year\", \"shortname\"])\n",
    "            )\n",
    "        except TypeError:\n",
    "            return None\n"
   ]
  },
  {
   "cell_type": "markdown",
   "metadata": {},
   "source": [
    "### Example usage"
   ]
  },
  {
   "cell_type": "code",
   "execution_count": 3,
   "metadata": {},
   "outputs": [],
   "source": [
    "# get dataframe\n",
    "coll = Hengduan(taxon=\"Ped cranolopha\", dna=True)"
   ]
  },
  {
   "cell_type": "code",
   "execution_count": 4,
   "metadata": {},
   "outputs": [
    {
     "data": {
      "text/html": [
       "<div>\n",
       "<style scoped>\n",
       "    .dataframe tbody tr th:only-of-type {\n",
       "        vertical-align: middle;\n",
       "    }\n",
       "\n",
       "    .dataframe tbody tr th {\n",
       "        vertical-align: top;\n",
       "    }\n",
       "\n",
       "    .dataframe thead th {\n",
       "        text-align: right;\n",
       "    }\n",
       "</style>\n",
       "<table border=\"1\" class=\"dataframe\">\n",
       "  <thead>\n",
       "    <tr style=\"text-align: right;\">\n",
       "      <th></th>\n",
       "      <th>family</th>\n",
       "      <th>taxon</th>\n",
       "      <th>cid</th>\n",
       "      <th>sid</th>\n",
       "      <th>year</th>\n",
       "      <th>shortname</th>\n",
       "      <th>latitude</th>\n",
       "      <th>longitude</th>\n",
       "    </tr>\n",
       "  </thead>\n",
       "  <tbody>\n",
       "    <tr>\n",
       "      <th>0</th>\n",
       "      <td>Orobanchaceae</td>\n",
       "      <td>Pedicularis\\n                cranolopha</td>\n",
       "      <td>27709</td>\n",
       "      <td>595</td>\n",
       "      <td>1997</td>\n",
       "      <td>Pedicularis-cranolopha</td>\n",
       "      <td>30.850278</td>\n",
       "      <td>101.276667</td>\n",
       "    </tr>\n",
       "    <tr>\n",
       "      <th>1</th>\n",
       "      <td>Orobanchaceae</td>\n",
       "      <td>Pedicularis\\n                cranolopha</td>\n",
       "      <td>27821</td>\n",
       "      <td>707</td>\n",
       "      <td>1997</td>\n",
       "      <td>Pedicularis-cranolopha</td>\n",
       "      <td>31.660000</td>\n",
       "      <td>100.712778</td>\n",
       "    </tr>\n",
       "    <tr>\n",
       "      <th>2</th>\n",
       "      <td>Orobanchaceae</td>\n",
       "      <td>Pedicularis\\n                cranolopha</td>\n",
       "      <td>28522</td>\n",
       "      <td>1413</td>\n",
       "      <td>1998</td>\n",
       "      <td>Pedicularis-cranolopha</td>\n",
       "      <td>29.141111</td>\n",
       "      <td>99.928333</td>\n",
       "    </tr>\n",
       "    <tr>\n",
       "      <th>3</th>\n",
       "      <td>Orobanchaceae</td>\n",
       "      <td>Pedicularis\\n                cranolopha</td>\n",
       "      <td>28746</td>\n",
       "      <td>1640</td>\n",
       "      <td>1998</td>\n",
       "      <td>Pedicularis-cranolopha</td>\n",
       "      <td>29.103056</td>\n",
       "      <td>99.631944</td>\n",
       "    </tr>\n",
       "  </tbody>\n",
       "</table>\n",
       "</div>"
      ],
      "text/plain": [
       "          family                                    taxon    cid   sid  year  \\\n",
       "0  Orobanchaceae  Pedicularis\\n                cranolopha  27709   595  1997   \n",
       "1  Orobanchaceae  Pedicularis\\n                cranolopha  27821   707  1997   \n",
       "2  Orobanchaceae  Pedicularis\\n                cranolopha  28522  1413  1998   \n",
       "3  Orobanchaceae  Pedicularis\\n                cranolopha  28746  1640  1998   \n",
       "\n",
       "                shortname   latitude   longitude  \n",
       "0  Pedicularis-cranolopha  30.850278  101.276667  \n",
       "1  Pedicularis-cranolopha  31.660000  100.712778  \n",
       "2  Pedicularis-cranolopha  29.141111   99.928333  \n",
       "3  Pedicularis-cranolopha  29.103056   99.631944  "
      ]
     },
     "execution_count": 4,
     "metadata": {},
     "output_type": "execute_result"
    }
   ],
   "source": [
    "# see first N records\n",
    "coll.filter_by_max_year(1998)"
   ]
  },
  {
   "cell_type": "markdown",
   "metadata": {},
   "source": [
    "# MAP"
   ]
  },
  {
   "cell_type": "markdown",
   "metadata": {},
   "source": [
    "### A class object to map lat long data"
   ]
  },
  {
   "cell_type": "code",
   "execution_count": 5,
   "metadata": {},
   "outputs": [
    {
     "data": {
      "text/plain": [
       "(11.509995655950528, 3.3941125496954276)"
      ]
     },
     "execution_count": 5,
     "metadata": {},
     "output_type": "execute_result"
    }
   ],
   "source": [
    "# make size a function of year\n",
    "y = 2018\n",
    "x = 1997\n",
    "import numpy as np\n",
    "\n",
    "def yearsize(x):\n",
    "    diff = x - 1995\n",
    "    ndiff = 1 - (diff / 25)\n",
    "    return 12 * np.sqrt(ndiff)\n",
    "    \n",
    "    \n",
    "yearsize(x), yearsize(y)"
   ]
  },
  {
   "cell_type": "code",
   "execution_count": 6,
   "metadata": {},
   "outputs": [],
   "source": [
    "class Map:\n",
    "    def __init__(self, hlocs=None, nlocs=None, height=None, width=None):\n",
    "                 #color=None):\n",
    "        \n",
    "        # store attributes\n",
    "        self.nlocs = nlocs\n",
    "        self.hlocs = hlocs\n",
    "        self.alldata = pd.concat([self.nlocs, self.hlocs], sort=False)\n",
    "        #self.color = color\n",
    "        \n",
    "        # create map with zoom x and location y\n",
    "        if not width:\n",
    "            width = 450\n",
    "        if not height:\n",
    "            height = width\n",
    "        \n",
    "        self.map = folium.Map(\n",
    "            location=[30.3849, 101.0083],\n",
    "            zoom_start=6.5,\n",
    "            #location=[self.alldata.latitude.mean(), self.alldata.longitude.mean()],\n",
    "            tiles='Stamen Terrain'\n",
    "        )\n",
    "\n",
    "        # add points\n",
    "        if isinstance(nlocs, pd.DataFrame):\n",
    "            self.add_nlocs()\n",
    "        if isinstance(hlocs, pd.DataFrame):\n",
    "            self.add_hlocs()\n",
    "            \n",
    "    def draw(self):\n",
    "        # fit bounds of map to show all points\n",
    "        latlongtuples = [\n",
    "            self.alldata[[\"latitude\", \"longitude\"]].iloc[i].tolist() for i in self.alldata.index\n",
    "        ]\n",
    "        #self.map.fit_bounds(latlongtuples)\n",
    "        return self.map\n",
    "       \n",
    "    def add_nlocs(self):\n",
    "        for idx in self.nlocs.index:\n",
    "            lat, long = self.nlocs.iloc[idx].latitude, self.nlocs.iloc[idx].longitude\n",
    "            folium.CircleMarker(\n",
    "                location=[lat, long],\n",
    "                color='rgba(85.1%,37.3%,0.8%,1.000)',\n",
    "                #color= self.color,\n",
    "                fill=True,\n",
    "                fill_color='rgba(85.1%,37.3%,0.8%,1.000)',\n",
    "                #fill_color=self.color,\n",
    "                radius= 5, #2 * (1 - (self.nlocs.iloc[idx].year.astype(int) / 2018)),\n",
    "                popup=\" | \".join(self.nlocs.iloc[idx][[\"shortname\", \"cid\", \"year\"]].tolist()),\n",
    "                #icon=folium.Icon(color=\"blue\", icon=\"circle\", prefix=\"fa\"),\n",
    "            ).add_to(self.map)\n",
    " \n",
    "    def add_hlocs(self):\n",
    "        for idx in self.hlocs.index:\n",
    "            lat, long = self.hlocs.iloc[idx].latitude, self.hlocs.iloc[idx].longitude\n",
    "            folium.CircleMarker(\n",
    "                location=[lat, long],\n",
    "                color='rgba(45.9%,43.9%,70.2%,1.000)',\n",
    "                #color= self.color,\n",
    "                fill=True,\n",
    "                fill_color='rgba(45.9%,43.9%,70.2%,1.000)',\n",
    "                #fill_color= self.color,\n",
    "                radius=yearsize(int(self.hlocs.iloc[idx].year)),\n",
    "                popup=\" | \".join(self.hlocs.iloc[idx][[\"shortname\", \"cid\", \"year\"]].tolist()),\n",
    "                #icon=folium.Icon(color=\"red\", icon=\"circle\", prefix=\"fa\",\n",
    "            ).add_to(self.map)\n",
    " "
   ]
  },
  {
   "cell_type": "code",
   "execution_count": 7,
   "metadata": {},
   "outputs": [
    {
     "data": {
      "text/plain": [
       "'rgba(45.9%,43.9%,70.2%,1.000)'"
      ]
     },
     "execution_count": 7,
     "metadata": {},
     "output_type": "execute_result"
    }
   ],
   "source": [
    "import toyplot\n",
    "\n",
    "a = toyplot.color.brewer.palette(\"Dark2\")\n",
    "toyplot.color.to_css(a[2])"
   ]
  },
  {
   "cell_type": "code",
   "execution_count": 90,
   "metadata": {
    "scrolled": false
   },
   "outputs": [
    {
     "data": {
      "text/html": [
       "<div style=\"width:100%;\"><div style=\"position:relative;width:100%;height:0;padding-bottom:60%;\"><iframe src=\"data:text/html;charset=utf-8;base64,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\" style=\"position:absolute;width:100%;height:100%;left:0;top:0;border:none !important;\" allowfullscreen webkitallowfullscreen mozallowfullscreen></iframe></div></div>"
      ],
      "text/plain": [
       "<folium.folium.Map at 0x11b13e940>"
      ]
     },
     "execution_count": 90,
     "metadata": {},
     "output_type": "execute_result"
    }
   ],
   "source": [
    "# draw historical (red) and newer collections (blue) (I think the colors are\n",
    "#wrong here, so figure this out later...)\n",
    "#m = Map(hlocs=coll.filter_by_max_year(1998), nlocs=coll.data).draw()\n",
    "#m.add_child(folium.LatLngPopup())\n",
    "#m.save(\"\")"
   ]
  },
  {
   "cell_type": "code",
   "execution_count": 98,
   "metadata": {},
   "outputs": [],
   "source": [
    "co = Hengduan(\"ped rhinanth\", True)\n",
    "# draw historical (red) and newer collections (blue)\n",
    "m = Map(hlocs=co.filter_by_max_year(1997), nlocs=co.data)\n",
    "m.draw()\n",
    "m.map.save(outfile=\"../example.html\")"
   ]
  },
  {
   "cell_type": "markdown",
   "metadata": {},
   "source": [
    "### Load our 2018-19 collections into a DataFrame"
   ]
  },
  {
   "cell_type": "code",
   "execution_count": 8,
   "metadata": {},
   "outputs": [],
   "source": [
    "class New:\n",
    "    def __init__(self, df):\n",
    "        self._load_2018_dataframe(df)\n",
    "        \n",
    "    def subset(self, taxon):\n",
    "        return self.data[self.data.shortname.apply(lambda x: taxon in x)].reset_index()\n",
    "\n",
    "    def _load_2018_dataframe(self, df):\n",
    "        # load Data\n",
    "        data = pd.read_csv(df)\n",
    "\n",
    "        # drop unidentified\n",
    "        data = data[data.species_epithet.notna()]\n",
    "\n",
    "        # select just the columns we want\n",
    "        data = data[[\"accession\", \"locality\", \"date\", \"latitude\", \"longitude\", \"genus\", \"species_epithet\"]]\n",
    "        data[\"shortname\"] = data[[\"genus\", \"species_epithet\"]].apply(lambda x: '-'.join(x), axis=1)\n",
    "\n",
    "        # convert lat longs to decimals\n",
    "        def convert_gps(tude):\n",
    "            deg, _ = tude.split(\"°\")\n",
    "            minu, _ = _.split(\"'\")\n",
    "            seco = _.split('\"')[0]\n",
    "            tude = \"-\".join([deg, minu, seco])\n",
    "            return sum(float(x) / 60 ** n for n, x in enumerate(tude.split('-')))  \n",
    "\n",
    "        data[\"lat\"] = data.latitude.apply(convert_gps)\n",
    "        data[\"long\"] = data.longitude.apply(convert_gps)\n",
    "        data.head()\n",
    "\n",
    "        data[\"year\"] = data.date.apply(lambda x: x.split(\"/\")[-1])\n",
    "        data[\"cid\"] = data[\"accession\"]\n",
    "\n",
    "        # convert label names to match with Hengduan object\n",
    "        data = data.drop(columns=[\"latitude\", \"longitude\", \"genus\", \"species_epithet\", \"date\", \"accession\"])\n",
    "        data = data.rename({\"lat\": \"latitude\", \"long\": \"longitude\", \"locality\": \"sid\"}, axis='columns')\n",
    "        self.data = data"
   ]
  },
  {
   "cell_type": "code",
   "execution_count": 9,
   "metadata": {},
   "outputs": [],
   "source": [
    "# create an instance to hold all the 2018-19 data\n",
    "newdata = New(\"/Users/jaredmeek/Desktop/hengduan/fieldnotes/Fieldnotes_Master.csv\")"
   ]
  },
  {
   "cell_type": "code",
   "execution_count": 9,
   "metadata": {},
   "outputs": [],
   "source": [
    "# trace csv reading error if it ever happens...\n",
    "#df = pd.read_csv(\n",
    "    #\"/Users/jaredmeek/Desktop/hengduan/fieldnotes/Fieldnotes_Master.csv\")\n",
    "#def func(tude):\n",
    "    #deg, _ = tude.split(\"°\")\n",
    "    #minu, _ = _.split(\"'\")\n",
    "    #seco = _.split('\"')[0]\n",
    "#for idx in range(999):\n",
    "    #try:\n",
    "        #func(df.latitude[idx])\n",
    "    #except ValueError:\n",
    "        #print(df.iloc[idx])\n",
    "        #print(idx)"
   ]
  },
  {
   "cell_type": "code",
   "execution_count": 10,
   "metadata": {},
   "outputs": [
    {
     "data": {
      "text/html": [
       "<div>\n",
       "<style scoped>\n",
       "    .dataframe tbody tr th:only-of-type {\n",
       "        vertical-align: middle;\n",
       "    }\n",
       "\n",
       "    .dataframe tbody tr th {\n",
       "        vertical-align: top;\n",
       "    }\n",
       "\n",
       "    .dataframe thead th {\n",
       "        text-align: right;\n",
       "    }\n",
       "</style>\n",
       "<table border=\"1\" class=\"dataframe\">\n",
       "  <thead>\n",
       "    <tr style=\"text-align: right;\">\n",
       "      <th></th>\n",
       "      <th>index</th>\n",
       "      <th>sid</th>\n",
       "      <th>shortname</th>\n",
       "      <th>latitude</th>\n",
       "      <th>longitude</th>\n",
       "      <th>year</th>\n",
       "      <th>cid</th>\n",
       "    </tr>\n",
       "  </thead>\n",
       "  <tbody>\n",
       "    <tr>\n",
       "      <th>0</th>\n",
       "      <td>3</td>\n",
       "      <td>2.0</td>\n",
       "      <td>Pedicularis-longiflora</td>\n",
       "      <td>27.959194</td>\n",
       "      <td>99.707167</td>\n",
       "      <td>2018</td>\n",
       "      <td>DE4</td>\n",
       "    </tr>\n",
       "    <tr>\n",
       "      <th>1</th>\n",
       "      <td>53</td>\n",
       "      <td>14.0</td>\n",
       "      <td>Pedicularis-longiflora</td>\n",
       "      <td>29.144722</td>\n",
       "      <td>100.034778</td>\n",
       "      <td>2018</td>\n",
       "      <td>DE54</td>\n",
       "    </tr>\n",
       "    <tr>\n",
       "      <th>2</th>\n",
       "      <td>60</td>\n",
       "      <td>16.0</td>\n",
       "      <td>Pedicularis-longiflora</td>\n",
       "      <td>29.334861</td>\n",
       "      <td>100.099417</td>\n",
       "      <td>2018</td>\n",
       "      <td>DE61</td>\n",
       "    </tr>\n",
       "    <tr>\n",
       "      <th>3</th>\n",
       "      <td>131</td>\n",
       "      <td>31.0</td>\n",
       "      <td>Pedicularis-longiflora</td>\n",
       "      <td>30.419167</td>\n",
       "      <td>101.548056</td>\n",
       "      <td>2018</td>\n",
       "      <td>DE132</td>\n",
       "    </tr>\n",
       "    <tr>\n",
       "      <th>4</th>\n",
       "      <td>140</td>\n",
       "      <td>33.0</td>\n",
       "      <td>Pedicularis-longiflora</td>\n",
       "      <td>30.577028</td>\n",
       "      <td>101.417972</td>\n",
       "      <td>2018</td>\n",
       "      <td>DE141</td>\n",
       "    </tr>\n",
       "  </tbody>\n",
       "</table>\n",
       "</div>"
      ],
      "text/plain": [
       "   index   sid               shortname   latitude   longitude  year    cid\n",
       "0      3   2.0  Pedicularis-longiflora  27.959194   99.707167  2018    DE4\n",
       "1     53  14.0  Pedicularis-longiflora  29.144722  100.034778  2018   DE54\n",
       "2     60  16.0  Pedicularis-longiflora  29.334861  100.099417  2018   DE61\n",
       "3    131  31.0  Pedicularis-longiflora  30.419167  101.548056  2018  DE132\n",
       "4    140  33.0  Pedicularis-longiflora  30.577028  101.417972  2018  DE141"
      ]
     },
     "execution_count": 10,
     "metadata": {},
     "output_type": "execute_result"
    }
   ],
   "source": [
    "# get a subset data set for a specific taxon\n",
    "newdata.subset(\"longiflora\").head()"
   ]
  },
  {
   "cell_type": "markdown",
   "metadata": {},
   "source": [
    "## Phylogeography"
   ]
  },
  {
   "cell_type": "code",
   "execution_count": 12,
   "metadata": {},
   "outputs": [],
   "source": [
    "crano = Map(\n",
    "    #width=\"50%\", \n",
    "    #height=\"40%\",\n",
    "    nlocs=newdata.subset(\"cranolopha\"),\n",
    "    hlocs=Hengduan(\"Ped cranolopha\", True).filter_by_max_year(1998),\n",
    ").draw()\n",
    "\n",
    "crano.save(\"/Users/jaredmeek/Desktop/hengduan/maps/pedmaps_python/cranolopha.html\")"
   ]
  },
  {
   "cell_type": "code",
   "execution_count": 13,
   "metadata": {},
   "outputs": [],
   "source": [
    "integ = Map(\n",
    "    #width=\"50%\", \n",
    "    #height=\"40%\",\n",
    "    nlocs=newdata.subset(\"integrifolia\"),\n",
    "    hlocs=Hengduan(\"Ped integrifolia\", True).filter_by_max_year(1998),\n",
    ").draw()\n",
    "\n",
    "integ.save(\"/Users/jaredmeek/Desktop/hengduan/maps/pedmaps_python/integrifolia.html\")"
   ]
  },
  {
   "cell_type": "code",
   "execution_count": 14,
   "metadata": {},
   "outputs": [],
   "source": [
    "kansu = Map(\n",
    "    #width=\"50%\", \n",
    "    #height=\"40%\",\n",
    "    nlocs=newdata.subset(\"kansuensis\"),\n",
    "    hlocs=Hengduan(\"Ped kansuensis\", True).filter_by_max_year(1998),\n",
    ").draw()\n",
    "\n",
    "kansu.save(\"/Users/jaredmeek/Desktop/hengduan/maps/pedmaps_python/kansuensis.html\")"
   ]
  },
  {
   "cell_type": "code",
   "execution_count": 15,
   "metadata": {},
   "outputs": [],
   "source": [
    "lachno = Map(\n",
    "    #width=\"50%\", \n",
    "    #height=\"40%\",\n",
    "    nlocs=newdata.subset(\"lachnoglossa\"),\n",
    "    hlocs=Hengduan(\"Ped lachnoglossa\", True).filter_by_max_year(1998),\n",
    ").draw()\n",
    "\n",
    "lachno.save(\"/Users/jaredmeek/Desktop/hengduan/maps/pedmaps_python/lachnoglossa.html\")"
   ]
  },
  {
   "cell_type": "code",
   "execution_count": 16,
   "metadata": {},
   "outputs": [],
   "source": [
    "longi = Map(\n",
    "    #width=\"50%\", \n",
    "    #height=\"40%\",\n",
    "    nlocs=newdata.subset(\"longiflora\"),\n",
    "    hlocs=Hengduan(\"Ped longiflora\", True).filter_by_max_year(1998),\n",
    ").draw()\n",
    "\n",
    "longi.save(\"/Users/jaredmeek/Desktop/hengduan/maps/pedmaps_python/longiflora.html\")"
   ]
  },
  {
   "cell_type": "code",
   "execution_count": 17,
   "metadata": {},
   "outputs": [],
   "source": [
    "rhinanth = Map(\n",
    "    #width=\"50%\", \n",
    "    #height=\"40%\",\n",
    "    nlocs=newdata.subset(\"rhinanthoides\"),\n",
    "    hlocs=Hengduan(\"Ped rhinanthoides\", True).filter_by_max_year(1998),\n",
    ").draw()\n",
    "\n",
    "rhinanth.save(\"/Users/jaredmeek/Desktop/hengduan/maps/pedmaps_python/rhinanthoides.html\")"
   ]
  },
  {
   "cell_type": "code",
   "execution_count": 29,
   "metadata": {},
   "outputs": [],
   "source": [
    "# how to concatenate?\n",
    "#phylogeo = pd.concat([crano, integ, kansu, lachno, longi, rhinanth])"
   ]
  },
  {
   "cell_type": "markdown",
   "metadata": {},
   "source": [
    "## Maps for historical-contemporary species"
   ]
  },
  {
   "cell_type": "code",
   "execution_count": 42,
   "metadata": {},
   "outputs": [
    {
     "data": {
      "text/html": [
       "<div style=\"width:100%;\"><div style=\"position:relative;width:100%;height:0;padding-bottom:60%;\"><iframe src=\"data:text/html;charset=utf-8;base64,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\" style=\"position:absolute;width:100%;height:100%;left:0;top:0;border:none !important;\" allowfullscreen webkitallowfullscreen mozallowfullscreen></iframe></div></div>"
      ],
      "text/plain": [
       "<folium.folium.Map at 0x11a945f98>"
      ]
     },
     "execution_count": 42,
     "metadata": {},
     "output_type": "execute_result"
    }
   ],
   "source": [
    "# example map old and new \n",
    "Map(\n",
    "    #width=\"50%\", \n",
    "    #height=\"40%\",\n",
    "    nlocs=newdata.subset(\"longiflora\"),\n",
    "    hlocs=Hengduan(\"Ped longiflora\", True).filter_by_max_year(1998),\n",
    ").draw()"
   ]
  },
  {
   "cell_type": "code",
   "execution_count": 43,
   "metadata": {},
   "outputs": [],
   "source": [
    "# this returns a Hengduan object  \n",
    "peds = Hengduan(\"Pedicularis \", dna=True)\n",
    "\n",
    "# this attribute of the object has the unfiltered data\n",
    "peds.data\n",
    "\n",
    "# this function call from the object return a DF\n",
    "old = peds.filter_by_max_year(1998)"
   ]
  },
  {
   "cell_type": "code",
   "execution_count": 49,
   "metadata": {},
   "outputs": [
    {
     "name": "stdout",
     "output_type": "stream",
     "text": [
      "            family                                              taxon    cid   sid  year                                  shortname   latitude   longitude\n",
      "0    Orobanchaceae                                        Pedicularis  27501   384  1997                                Pedicularis  30.040278  101.838333\n",
      "1    Orobanchaceae                                        Pedicularis  27567   452  1997                                Pedicularis  30.015278  101.859444\n",
      "35   Orobanchaceae                  Pedicularis\\n                anas  27904   790  1997                           Pedicularis-anas  31.706111  102.313889\n",
      "36   Orobanchaceae                  Pedicularis\\n                anas  27966   852  1997                           Pedicularis-anas  31.850278  102.670278\n",
      "90   Orobanchaceae          Pedicularis\\n                anthemifolia  27837   723  1997                   Pedicularis-anthemifolia  31.725000  100.744444\n",
      "151  Orobanchaceae       Pedicularis\\n                cheilanthifolia  27566   451  1997                Pedicularis-cheilanthifolia  30.015278  101.859444\n",
      "175  Orobanchaceae            Pedicularis\\n                cranolopha  27709   595  1997                     Pedicularis-cranolopha  30.850278  101.276667\n",
      "176  Orobanchaceae            Pedicularis\\n                cranolopha  27821   707  1997                     Pedicularis-cranolopha  31.660000  100.712778\n",
      "213  Orobanchaceae           Pedicularis\\n                cristatella  27840   726  1997                    Pedicularis-cristatella  31.511944  100.695833\n",
      "232  Orobanchaceae               Pedicularis\\n                davidii  27967   853  1997                        Pedicularis-davidii  31.850278  102.670278\n",
      "251  Orobanchaceae           Pedicularis\\n                decorissima  27825   711  1997                    Pedicularis-decorissima  31.696111  100.705278\n",
      "252  Orobanchaceae           Pedicularis\\n                decorissima  27832   718  1997                    Pedicularis-decorissima  31.660000  100.712778\n",
      "331  Orobanchaceae                Pedicularis\\n                ingens  27823   709  1997                         Pedicularis-ingens  31.696111  100.705278\n",
      "332  Orobanchaceae                Pedicularis\\n                ingens  27830   716  1997                         Pedicularis-ingens  31.761667  100.756944\n",
      "390  Orobanchaceae          Pedicularis\\n                lachnoglossa  27613   498  1997                   Pedicularis-lachnoglossa  30.146944  101.860278\n",
      "411  Orobanchaceae            Pedicularis\\n                lasiophrys  27968   854  1997                     Pedicularis-lasiophrys  31.850278  102.670278\n",
      "424  Orobanchaceae               Pedicularis\\n                lineata  27942   828  1997                        Pedicularis-lineata  31.929722  102.657222\n",
      "436  Orobanchaceae            Pedicularis\\n                longiflora  27508   391  1997                     Pedicularis-longiflora  30.040278  101.838333\n",
      "489  Orobanchaceae                Pedicularis\\n                lyrata  27561   446  1997                         Pedicularis-lyrata  30.015278  101.859444\n",
      "490  Orobanchaceae                Pedicularis\\n                lyrata  27706   592  1997                         Pedicularis-lyrata  30.850278  101.276667\n",
      "491  Orobanchaceae                Pedicularis\\n                lyrata  27835   721  1997                         Pedicularis-lyrata  31.725000  100.744444\n",
      "507  Orobanchaceae     Pedicularis\\n                metaszetschuanica  27898   784  1997              Pedicularis-metaszetschuanica  31.706111  102.313889\n",
      "559  Orobanchaceae         Pedicularis\\n                petitmenginii  27941   827  1997                  Pedicularis-petitmenginii  31.929722  102.657222\n",
      "645  Orobanchaceae         Pedicularis\\n                rhinanthoides  27565   450  1997                  Pedicularis-rhinanthoides  30.015278  101.859444\n",
      "646  Orobanchaceae         Pedicularis\\n                rhinanthoides  27839   725  1997                  Pedicularis-rhinanthoides  31.726389  100.735278\n",
      "681  Orobanchaceae           Pedicularis\\n                rhodotricha  27903   789  1997                    Pedicularis-rhodotricha  31.706111  102.313889\n",
      "710  Orobanchaceae                 Pedicularis\\n                rudis  27641   526  1997                          Pedicularis-rudis  30.171111  101.868889\n",
      "711  Orobanchaceae                 Pedicularis\\n                rudis  27691   576  1997                          Pedicularis-rudis  30.284167  101.528611\n",
      "748  Orobanchaceae             Pedicularis\\n                semitorta  27773   659  1997                      Pedicularis-semitorta  31.660000  100.712778\n",
      "749  Orobanchaceae             Pedicularis\\n                semitorta  27822   708  1997                      Pedicularis-semitorta  31.660000  100.712778\n",
      "802  Orobanchaceae               Pedicularis\\n                souliei  27836   722  1997                        Pedicularis-souliei  31.725000  100.744444\n",
      "845  Orobanchaceae          Pedicularis\\n                tatsienensis  27831   717  1997                   Pedicularis-tatsienensis  31.725000  100.744444\n",
      "850  Orobanchaceae                Pedicularis\\n                tenera  27708   594  1997                         Pedicularis-tenera  30.850278  101.276667\n",
      "2    Orobanchaceae                                        Pedicularis  28595  1486  1998                                Pedicularis  29.108056   99.907778\n",
      "3    Orobanchaceae                                        Pedicularis  29339  2234  1998                                Pedicularis  27.375000   99.966667\n",
      "37   Orobanchaceae                  Pedicularis\\n                anas  28071   960  1998                           Pedicularis-anas  29.385833  100.149444\n",
      "107  Orobanchaceae             Pedicularis\\n                axillaris  28246  1137  1998                      Pedicularis-axillaris  28.746389  100.269167\n",
      "108  Orobanchaceae             Pedicularis\\n                axillaris  28362  1253  1998                      Pedicularis-axillaris  29.141111   99.928333\n",
      "109  Orobanchaceae             Pedicularis\\n                axillaris  28744  1638  1998                      Pedicularis-axillaris  29.103056   99.631944\n",
      "157  Orobanchaceae         Pedicularis\\n                confertiflora  28271  1162  1998                  Pedicularis-confertiflora  28.746389  100.269167\n",
      "158  Orobanchaceae         Pedicularis\\n                confertiflora  29144  2039  1998                  Pedicularis-confertiflora  28.585833   99.837222\n",
      "177  Orobanchaceae            Pedicularis\\n                cranolopha  28522  1413  1998                     Pedicularis-cranolopha  29.141111   99.928333\n",
      "178  Orobanchaceae            Pedicularis\\n                cranolopha  28746  1640  1998                     Pedicularis-cranolopha  29.103056   99.631944\n",
      "222  Orobanchaceae          Pedicularis\\n                cyathophylla  28478  1369  1998                   Pedicularis-cyathophylla  29.123889   99.996667\n",
      "257  Orobanchaceae            Pedicularis\\n                densispica  28415  1306  1998                     Pedicularis-densispica  29.141111   99.928333\n",
      "280  Orobanchaceae             Pedicularis\\n                dichotoma  29034  1929  1998                      Pedicularis-dichotoma  28.767222   99.870000\n",
      "284  Orobanchaceae          Pedicularis\\n                dolichocymba  29181  2076  1998                   Pedicularis-dolichocymba  28.573333   99.811667\n",
      "286  Orobanchaceae         Pedicularis\\n                dolichoglossa  28873  1768  1998                  Pedicularis-dolichoglossa  29.072500   99.632222\n",
      "287  Orobanchaceae         Pedicularis\\n                dolichoglossa  29236  2131  1998                  Pedicularis-dolichoglossa  28.593889   99.846944\n",
      "291  Orobanchaceae               Pedicularis\\n                elwesii  29147  2042  1998                        Pedicularis-elwesii  28.585833   99.837222\n",
      "312  Orobanchaceae           Pedicularis\\n                glabrescens  28650  1541  1998                    Pedicularis-glabrescens  29.127778   99.975278\n",
      "326  Orobanchaceae           Pedicularis\\n                gyrorhyncha  28435  1326  1998                    Pedicularis-gyrorhyncha  29.141111   99.964444\n",
      "336  Orobanchaceae          Pedicularis\\n                integrifolia  28273  1164  1998                   Pedicularis-integrifolia  28.746389  100.269167\n",
      "337  Orobanchaceae          Pedicularis\\n                integrifolia  28603  1494  1998                   Pedicularis-integrifolia  29.112222  100.032778\n",
      "338  Orobanchaceae          Pedicularis\\n                integrifolia  28910  1805  1998                   Pedicularis-integrifolia  29.072778   99.675556\n",
      "355  Orobanchaceae            Pedicularis\\n                kansuensis  28607  1498  1998                     Pedicularis-kansuensis  29.112222  100.032778\n",
      "356  Orobanchaceae            Pedicularis\\n                kansuensis  28992  1887  1998                     Pedicularis-kansuensis  29.001944   99.742778\n",
      "391  Orobanchaceae          Pedicularis\\n                lachnoglossa  28066   955  1998                   Pedicularis-lachnoglossa  29.385833  100.149444\n",
      "420  Orobanchaceae          Pedicularis\\n                likiangensis  28297  1188  1998                   Pedicularis-likiangensis  28.899167  100.285556\n",
      "437  Orobanchaceae            Pedicularis\\n                longiflora  28270  1161  1998                     Pedicularis-longiflora  28.746389  100.269167\n",
      "524  Orobanchaceae             Pedicularis\\n                muscoides  28664  1557  1998                      Pedicularis-muscoides  29.146111  100.038333\n",
      "586  Orobanchaceae           Pedicularis\\n                przewalskii  28058   947  1998                    Pedicularis-przewalskii  29.385833  100.149444\n",
      "593  Orobanchaceae  Pedicularis\\n                pseudomelampyriflora  28210  1101  1998           Pedicularis-pseudomelampyriflora  28.600278  100.286667\n",
      "594  Orobanchaceae  Pedicularis\\n                pseudomelampyriflora  28702  1595  1998           Pedicularis-pseudomelampyriflora  29.103056   99.631944\n",
      "625  Orobanchaceae                   Pedicularis\\n                rex  28416  1307  1998                            Pedicularis-rex  29.141111   99.928333\n",
      "647  Orobanchaceae         Pedicularis\\n                rhinanthoides  28127  1016  1998                  Pedicularis-rhinanthoides  29.140000  100.157222\n",
      "649  Orobanchaceae         Pedicularis\\n                rhinanthoides  28264  1155  1998                  Pedicularis-rhinanthoides  28.746389  100.269167\n",
      "648  Orobanchaceae  Pedicularis\\n                rhinanthoides\\n  ...  28229  1120  1998  Pedicularis-rhinanthoides-subsp.-tibetica  28.746389  100.269167\n",
      "682  Orobanchaceae           Pedicularis\\n                rhodotricha  28613  1504  1998                    Pedicularis-rhodotricha  29.112222  100.032778\n",
      "683  Orobanchaceae           Pedicularis\\n                rhodotricha  28872  1767  1998                    Pedicularis-rhodotricha  29.072500   99.632222\n",
      "684  Orobanchaceae           Pedicularis\\n                rhodotricha  28979  1874  1998                    Pedicularis-rhodotricha  29.001944   99.742778\n",
      "700  Orobanchaceae          Pedicularis\\n                rhynchodonta  28070   959  1998                   Pedicularis-rhynchodonta  29.385833  100.149444\n",
      "721  Orobanchaceae              Pedicularis\\n                rupicola  28998  1893  1998                       Pedicularis-rupicola  29.001944   99.742778\n",
      "719  Orobanchaceae  Pedicularis\\n                rupicola\\n       ...  28190  1081  1998       Pedicularis-rupicola-subsp.-rupicola  29.133889  100.042500\n",
      "720  Orobanchaceae  Pedicularis\\n                rupicola\\n       ...  28484  1375  1998    Pedicularis-rupicola-subsp.-zambalensis  29.123889   99.996667\n",
      "763  Orobanchaceae           Pedicularis\\n                siphonantha  28272  1163  1998                    Pedicularis-siphonantha  28.746389  100.269167\n",
      "762  Orobanchaceae  Pedicularis\\n                siphonantha\\n    ...  28187  1078  1998      Pedicularis-siphonantha-var.-delavayi  29.133889  100.042500\n",
      "830  Orobanchaceae               Pedicularis\\n                superba  29154  2049  1998                        Pedicularis-superba  28.573333   99.811667\n",
      "846  Orobanchaceae          Pedicularis\\n                tatsienensis  28186  1077  1998                   Pedicularis-tatsienensis  29.133889  100.042500\n",
      "855  Orobanchaceae           Pedicularis\\n                thamnophila  28967  1862  1998                    Pedicularis-thamnophila  29.044722   99.711389\n",
      "869  Orobanchaceae           Pedicularis\\n                trichocymba  28244  1135  1998                    Pedicularis-trichocymba  28.746389  100.269167\n"
     ]
    }
   ],
   "source": [
    "# visualize old DataFrame\n",
    "print(old.to_string())"
   ]
  },
  {
   "cell_type": "code",
   "execution_count": 50,
   "metadata": {},
   "outputs": [
    {
     "data": {
      "text/plain": [
       "40"
      ]
     },
     "execution_count": 50,
     "metadata": {},
     "output_type": "execute_result"
    }
   ],
   "source": [
    "#Create dictionary for all species with collections older than 1998\n",
    "listofnames = [ \n",
    "    'anas',\n",
    "    'axillaris',\n",
    "    'cheilanthifolia',\n",
    "    'confertiflora',\n",
    "    'cranolopha',\n",
    "    'cristatella',\n",
    "    'cyathophylla',\n",
    "    'davidii',\n",
    "    'decorissima',\n",
    "    'densispica',\n",
    "    'dichotoma',\n",
    "    'dolichocymba',\n",
    "    'dolichoglossa',\n",
    "    'elwesii',\n",
    "    'ingens',\n",
    "    'integrifolia',\n",
    "    'kansuensis',\n",
    "    'lachnoglossa',\n",
    "    'lasiophrys',\n",
    "    'likiangensis',\n",
    "    'lineata',\n",
    "    'longiflora',\n",
    "    'lyrata',\n",
    "    'metaszetschuanica',\n",
    "    'petitmenginii',\n",
    "    'przewalskii',\n",
    "    'pseudomelampyriflora',\n",
    "    'rex',\n",
    "    'rhinanthoides',\n",
    "    'rhodotricha',\n",
    "    'rhynchodonta',\n",
    "    'rudis',\n",
    "    'rupicola',\n",
    "    'semitorta',\n",
    "    'siphonantha',\n",
    "    'souliei',\n",
    "    'superba',\n",
    "    'tatsienensis',\n",
    "    'tenera',\n",
    "    'thamnophila'\n",
    "]\n",
    "\n",
    "len(listofnames)"
   ]
  },
  {
   "cell_type": "code",
   "execution_count": 51,
   "metadata": {},
   "outputs": [
    {
     "data": {
      "text/plain": [
       "'/Users/jaredmeek/Desktop/hengduan/maps/pedmaps_python/h-cmaps/'"
      ]
     },
     "execution_count": 51,
     "metadata": {},
     "output_type": "execute_result"
    }
   ],
   "source": [
    "import os\n",
    "\n",
    "home = os.path.expanduser(\"~\")\n",
    "proj = \"Desktop/hengduan/maps/pedmaps_python/h-cmaps/\"\n",
    "\n",
    "path = os.path.join(home, proj)\n",
    "path"
   ]
  },
  {
   "cell_type": "code",
   "execution_count": 52,
   "metadata": {},
   "outputs": [],
   "source": [
    "# combine Hengduan and New dataframes\n",
    "\n",
    "def insert_epithet(name, newdata, records):\n",
    "    \"\"\"\n",
    "    name is a string.\n",
    "    newdata is a object loaded from CSV.\n",
    "    records is a DataFrame.\n",
    "    \"\"\"\n",
    "    comb = pd.concat([newdata.subset(name), records[name]], sort=True)\n",
    "    comb = comb.drop(columns=[\"family\", \"taxon\", \"index\"])\n",
    "    comb.to_csv(path + \"{}.csv\".format(name))\n"
   ]
  },
  {
   "cell_type": "code",
   "execution_count": 53,
   "metadata": {},
   "outputs": [
    {
     "name": "stdout",
     "output_type": "stream",
     "text": [
      "anas\n",
      "axillaris\n",
      "cheilanthifolia\n",
      "confertiflora\n",
      "cranolopha\n",
      "cristatella\n",
      "cyathophylla\n",
      "davidii\n",
      "decorissima\n",
      "densispica\n",
      "dichotoma\n",
      "dolichocymba\n",
      "dolichoglossa\n",
      "elwesii\n",
      "ingens\n",
      "integrifolia\n",
      "kansuensis\n",
      "lachnoglossa\n",
      "lasiophrys\n",
      "likiangensis\n",
      "lineata\n",
      "longiflora\n",
      "lyrata\n",
      "metaszetschuanica\n",
      "petitmenginii\n",
      "przewalskii\n",
      "pseudomelampyriflora\n",
      "rex\n",
      "rhinanthoides\n",
      "rhodotricha\n",
      "rhynchodonta\n",
      "rudis\n",
      "rupicola\n",
      "semitorta\n",
      "siphonantha\n",
      "souliei\n",
      "superba\n",
      "tatsienensis\n",
      "tenera\n",
      "thamnophila\n"
     ]
    }
   ],
   "source": [
    "records = {}\n",
    "for taxon in listofnames:\n",
    "    # store H object\n",
    "    print(taxon)\n",
    "    \n",
    "    # scrape all data for this taxon to create a Heng object\n",
    "    scraped = Hengduan(\"Pedicularis \" + taxon)\n",
    "    \n",
    "    # limit scraped data to old points and return as a DF\n",
    "    tmpold = scraped.filter_by_max_year(1998)\n",
    "    \n",
    "    # store DF in the records diction\n",
    "    records[taxon] = tmpold\n",
    "    \n",
    "    # save csv to file that combines data from CSV obj and DF\n",
    "    # ing our data with hengduan\n",
    "    insert_epithet(taxon, newdata, records)\n",
    "    \n",
    "    # draw and save map\n",
    "    imap= Map(hlocs=records[taxon], nlocs=newdata.subset(taxon))\n",
    "    imap.map.save(\"/Users/jaredmeek/Desktop/hengduan/maps/pedmaps_python/h-cmaps/\" + taxon + \".html\")"
   ]
  },
  {
   "cell_type": "markdown",
   "metadata": {},
   "source": [
    "## Extras to figure out later"
   ]
  },
  {
   "cell_type": "code",
   "execution_count": null,
   "metadata": {},
   "outputs": [],
   "source": [
    "#broken\n",
    "co = Hengduan(\"ped rhinanth\", True)\n",
    "# draw historical (red) and newer collections (blue)\n",
    "m = Map(hlocs=co.filter_by_max_year(1998), nlocs=co.data)\n",
    "m.draw()\n",
    "m.map.save(outfile=\"./reduced.html\")\n",
    "m.save(\"/Users/jaredmeek/Desktop/\")"
   ]
  },
  {
   "cell_type": "code",
   "execution_count": 22,
   "metadata": {},
   "outputs": [],
   "source": [
    "# combine Hengduan 'records' dataframes\n",
    "\n",
    "newdf = pd.concat([i.data[i.data.year.astype(int) < 1998] for i in records.values()])\n",
    "newdf.to_csv(\"path\")"
   ]
  },
  {
   "cell_type": "code",
   "execution_count": 42,
   "metadata": {},
   "outputs": [
    {
     "ename": "KeyError",
     "evalue": "'cranolopha'",
     "output_type": "error",
     "traceback": [
      "\u001b[0;31m---------------------------------------------------------------------------\u001b[0m",
      "\u001b[0;31mKeyError\u001b[0m                                  Traceback (most recent call last)",
      "\u001b[0;32m<ipython-input-42-8abaf0e491a4>\u001b[0m in \u001b[0;36m<module>\u001b[0;34m()\u001b[0m\n\u001b[0;32m----> 1\u001b[0;31m \u001b[0mrecords\u001b[0m\u001b[0;34m[\u001b[0m\u001b[0;34m'cranolopha'\u001b[0m\u001b[0;34m]\u001b[0m\u001b[0;34m.\u001b[0m\u001b[0mdata\u001b[0m\u001b[0;34m.\u001b[0m\u001b[0mhead\u001b[0m\u001b[0;34m(\u001b[0m\u001b[0;34m)\u001b[0m\u001b[0;34m\u001b[0m\u001b[0;34m\u001b[0m\u001b[0m\n\u001b[0m",
      "\u001b[0;31mKeyError\u001b[0m: 'cranolopha'"
     ]
    }
   ],
   "source": [
    "records['cranolopha'].data.head()"
   ]
  },
  {
   "cell_type": "code",
   "execution_count": 43,
   "metadata": {},
   "outputs": [
    {
     "data": {
      "text/html": [
       "<div>\n",
       "<style scoped>\n",
       "    .dataframe tbody tr th:only-of-type {\n",
       "        vertical-align: middle;\n",
       "    }\n",
       "\n",
       "    .dataframe tbody tr th {\n",
       "        vertical-align: top;\n",
       "    }\n",
       "\n",
       "    .dataframe thead th {\n",
       "        text-align: right;\n",
       "    }\n",
       "</style>\n",
       "<table border=\"1\" class=\"dataframe\">\n",
       "  <thead>\n",
       "    <tr style=\"text-align: right;\">\n",
       "      <th></th>\n",
       "      <th>index</th>\n",
       "      <th>sid</th>\n",
       "      <th>shortname</th>\n",
       "      <th>latitude</th>\n",
       "      <th>longitude</th>\n",
       "      <th>year</th>\n",
       "      <th>cid</th>\n",
       "    </tr>\n",
       "  </thead>\n",
       "  <tbody>\n",
       "    <tr>\n",
       "      <th>0</th>\n",
       "      <td>5</td>\n",
       "      <td>2.0</td>\n",
       "      <td>Pedicularis-siphonantha</td>\n",
       "      <td>27.959194</td>\n",
       "      <td>99.707167</td>\n",
       "      <td>2018</td>\n",
       "      <td>DE6</td>\n",
       "    </tr>\n",
       "    <tr>\n",
       "      <th>1</th>\n",
       "      <td>19</td>\n",
       "      <td>6.0</td>\n",
       "      <td>Pedicularis-siphonantha</td>\n",
       "      <td>28.585861</td>\n",
       "      <td>99.837222</td>\n",
       "      <td>2018</td>\n",
       "      <td>DE20</td>\n",
       "    </tr>\n",
       "    <tr>\n",
       "      <th>2</th>\n",
       "      <td>44</td>\n",
       "      <td>12.0</td>\n",
       "      <td>Pedicularis-siphonantha</td>\n",
       "      <td>29.123889</td>\n",
       "      <td>99.996667</td>\n",
       "      <td>2018</td>\n",
       "      <td>DE45</td>\n",
       "    </tr>\n",
       "    <tr>\n",
       "      <th>3</th>\n",
       "      <td>48</td>\n",
       "      <td>14.0</td>\n",
       "      <td>Pedicularis-siphonantha</td>\n",
       "      <td>29.144722</td>\n",
       "      <td>100.034778</td>\n",
       "      <td>2018</td>\n",
       "      <td>DE49</td>\n",
       "    </tr>\n",
       "    <tr>\n",
       "      <th>4</th>\n",
       "      <td>74</td>\n",
       "      <td>18.0</td>\n",
       "      <td>Pedicularis-siphonantha</td>\n",
       "      <td>30.010972</td>\n",
       "      <td>100.316167</td>\n",
       "      <td>2018</td>\n",
       "      <td>DE75</td>\n",
       "    </tr>\n",
       "  </tbody>\n",
       "</table>\n",
       "</div>"
      ],
      "text/plain": [
       "   index   sid                shortname   latitude   longitude  year   cid\n",
       "0      5   2.0  Pedicularis-siphonantha  27.959194   99.707167  2018   DE6\n",
       "1     19   6.0  Pedicularis-siphonantha  28.585861   99.837222  2018  DE20\n",
       "2     44  12.0  Pedicularis-siphonantha  29.123889   99.996667  2018  DE45\n",
       "3     48  14.0  Pedicularis-siphonantha  29.144722  100.034778  2018  DE49\n",
       "4     74  18.0  Pedicularis-siphonantha  30.010972  100.316167  2018  DE75"
      ]
     },
     "execution_count": 43,
     "metadata": {},
     "output_type": "execute_result"
    }
   ],
   "source": [
    "# get a subset data set for a specific taxon\n",
    "newdata.subset(\"siphonantha\").head()"
   ]
  },
  {
   "cell_type": "code",
   "execution_count": 19,
   "metadata": {},
   "outputs": [
    {
     "ename": "KeyError",
     "evalue": "'siphonantha'",
     "output_type": "error",
     "traceback": [
      "\u001b[0;31m---------------------------------------------------------------------------\u001b[0m",
      "\u001b[0;31mKeyError\u001b[0m                                  Traceback (most recent call last)",
      "\u001b[0;32m<ipython-input-19-b6f0a43f15c1>\u001b[0m in \u001b[0;36m<module>\u001b[0;34m()\u001b[0m\n\u001b[0;32m----> 1\u001b[0;31m \u001b[0mobj\u001b[0m \u001b[0;34m=\u001b[0m \u001b[0mrecords\u001b[0m\u001b[0;34m[\u001b[0m\u001b[0;34m'siphonantha'\u001b[0m\u001b[0;34m]\u001b[0m\u001b[0;34m\u001b[0m\u001b[0;34m\u001b[0m\u001b[0m\n\u001b[0m\u001b[1;32m      2\u001b[0m \u001b[0mobj\u001b[0m\u001b[0;34m.\u001b[0m\u001b[0mfilter_by_max_year\u001b[0m\u001b[0;34m(\u001b[0m\u001b[0;36m1998\u001b[0m\u001b[0;34m)\u001b[0m\u001b[0;34m\u001b[0m\u001b[0;34m\u001b[0m\u001b[0m\n",
      "\u001b[0;31mKeyError\u001b[0m: 'siphonantha'"
     ]
    }
   ],
   "source": [
    "obj = records['siphonantha']\n",
    "obj.filter_by_max_year(1998)"
   ]
  },
  {
   "cell_type": "code",
   "execution_count": 17,
   "metadata": {},
   "outputs": [
    {
     "ename": "KeyError",
     "evalue": "'siphonantha'",
     "output_type": "error",
     "traceback": [
      "\u001b[0;31m---------------------------------------------------------------------------\u001b[0m",
      "\u001b[0;31mKeyError\u001b[0m                                  Traceback (most recent call last)",
      "\u001b[0;32m<ipython-input-17-c1769bdd779f>\u001b[0m in \u001b[0;36m<module>\u001b[0;34m()\u001b[0m\n\u001b[1;32m      1\u001b[0m Map(\n\u001b[1;32m      2\u001b[0m     \u001b[0mnlocs\u001b[0m\u001b[0;34m=\u001b[0m\u001b[0mnewdata\u001b[0m\u001b[0;34m.\u001b[0m\u001b[0msubset\u001b[0m\u001b[0;34m(\u001b[0m\u001b[0;34m\"siphonantha\"\u001b[0m\u001b[0;34m)\u001b[0m\u001b[0;34m,\u001b[0m\u001b[0;34m\u001b[0m\u001b[0;34m\u001b[0m\u001b[0m\n\u001b[0;32m----> 3\u001b[0;31m     \u001b[0mhlocs\u001b[0m\u001b[0;34m=\u001b[0m\u001b[0mrecords\u001b[0m\u001b[0;34m[\u001b[0m\u001b[0;34m\"siphonantha\"\u001b[0m\u001b[0;34m]\u001b[0m\u001b[0;34m.\u001b[0m\u001b[0mfilter_by_max_year\u001b[0m\u001b[0;34m(\u001b[0m\u001b[0;36m1998\u001b[0m\u001b[0;34m)\u001b[0m\u001b[0;34m,\u001b[0m\u001b[0;34m\u001b[0m\u001b[0;34m\u001b[0m\u001b[0m\n\u001b[0m\u001b[1;32m      4\u001b[0m ).draw()\n",
      "\u001b[0;31mKeyError\u001b[0m: 'siphonantha'"
     ]
    }
   ],
   "source": [
    "Map(\n",
    "    nlocs=newdata.subset(\"siphonantha\"), \n",
    "    hlocs=records[\"siphonantha\"].filter_by_max_year(1998),\n",
    ").draw()"
   ]
  },
  {
   "cell_type": "code",
   "execution_count": null,
   "metadata": {},
   "outputs": [],
   "source": [
    "# figure this out later, if it's even possible\n",
    "#all_ped = Map(\n",
    "    #width=\"50%\", \n",
    "    #height=\"40%\",\n",
    "    #nlocs=newdata.subset(\"Pedicularis \"),\n",
    "    #hlocs=Hengduan(\"Pedicularis \", True).filter_by_max_year(1998),\n",
    "#).draw()\n",
    "\n",
    "#m.save(\"/Users/jaredmeek/Desktop/hengduan/maps/pedmaps_python/all_ped.html\")"
   ]
  }
 ],
 "metadata": {
  "kernelspec": {
   "display_name": "Python 3",
   "language": "python",
   "name": "python3"
  },
  "language_info": {
   "codemirror_mode": {
    "name": "ipython",
    "version": 3
   },
   "file_extension": ".py",
   "mimetype": "text/x-python",
   "name": "python",
   "nbconvert_exporter": "python",
   "pygments_lexer": "ipython3",
   "version": "3.6.8"
  },
  "varInspector": {
   "cols": {
    "lenName": 16,
    "lenType": 16,
    "lenVar": 40
   },
   "kernels_config": {
    "python": {
     "delete_cmd_postfix": "",
     "delete_cmd_prefix": "del ",
     "library": "var_list.py",
     "varRefreshCmd": "print(var_dic_list())"
    },
    "r": {
     "delete_cmd_postfix": ") ",
     "delete_cmd_prefix": "rm(",
     "library": "var_list.r",
     "varRefreshCmd": "cat(var_dic_list()) "
    }
   },
   "types_to_exclude": [
    "module",
    "function",
    "builtin_function_or_method",
    "instance",
    "_Feature"
   ],
   "window_display": false
  }
 },
 "nbformat": 4,
 "nbformat_minor": 2
}
